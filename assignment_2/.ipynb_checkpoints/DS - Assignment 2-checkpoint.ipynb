{
 "cells": [
  {
   "cell_type": "markdown",
   "metadata": {},
   "source": [
    "# DS - Assignment 2\n",
    "\n",
    "This assignment includes questions about data cleaning, extraction and manipulation using Pandas. You will be using an interesting dataset, containing information about national flags. The dataset gets loaded in a dataframe when you run the first cell, and then you can proceed with the questions. \n",
    "\n",
    "**For specific information about the dataset, see the file flag.names.txt. (or run the cell below)** \n",
    "\n",
    "**Answer the questions bellow, and print the results.**\n",
    "\n",
    "*Below statement only needed when retrieving data from the internet*:\n",
    "\n",
    "*You will need an additional library for this assignment, so before starting use the following command, as you did before:*\n",
    "\n",
    "*pip install requests*"
   ]
  },
  {
   "cell_type": "code",
   "execution_count": null,
   "metadata": {
    "ExecuteTime": {
     "end_time": "2020-04-03T07:03:02.158162Z",
     "start_time": "2020-04-03T07:03:02.150185Z"
    }
   },
   "outputs": [],
   "source": [
    "# **For specific information about the dataset, see the file flag.names.txt.** \n",
    "\n",
    "f = open(\"flag.names.txt\", \"r\")\n",
    "print(f.read()) \n",
    "f.close()\n"
   ]
  },
  {
   "cell_type": "code",
   "execution_count": null,
   "metadata": {
    "ExecuteTime": {
     "end_time": "2021-04-16T10:05:24.226412Z",
     "start_time": "2021-04-16T10:05:24.157085Z"
    },
    "scrolled": false
   },
   "outputs": [],
   "source": [
    "# Run the following code to import the dataset to the df (dataframe)\n",
    "# Do not change this cell!\n",
    "%matplotlib inline\n",
    "import pandas as pd\n",
    "import requests\n",
    "import io\n",
    "\n",
    "# Orginal statement\n",
    "#csv = requests.get('https://archive.ics.uci.edu/ml/machine-learning-databases/flags/flag.data').content\n",
    "\n",
    "# Read the data file (csv format)\n",
    "f = open(\"flag.data\", \"r\")\n",
    "csv = f.read() \n",
    "\n",
    "# Create a Pandas dataframe from csv data\n",
    "df = pd.read_csv(io.StringIO(csv), header=None)"
   ]
  },
  {
   "cell_type": "code",
   "execution_count": null,
   "metadata": {},
   "outputs": [],
   "source": [
    "# Question 1: Print the total number of rows and columns of the dataset, \n",
    "# as well as the first few rows (using the specified method for that)"
   ]
  },
  {
   "cell_type": "code",
   "execution_count": null,
   "metadata": {},
   "outputs": [],
   "source": [
    "# Question 2: This dataset does not contain any labels. The list bellow \n",
    "# contains the labels in the correct order. Find a way to add them to the dataframe,\n",
    "# and then print the first few rows again to show the labels.\n",
    "labels = ['name', 'landmass', 'zone', 'area', 'population', 'language', 'religion', 'bars', 'stripes', 'colours', 'red', \n",
    "          'green', 'blue', 'gold', 'white', 'black', 'orange', 'mainhue', 'circles', 'crosses', 'saltires', 'quarters', \n",
    "          'sunstars', 'crescent', 'triangle', 'icon', 'animate', 'text', 'topleft', 'botright']"
   ]
  },
  {
   "cell_type": "code",
   "execution_count": null,
   "metadata": {},
   "outputs": [],
   "source": [
    "# Question 3: Check if the dataset has any NaNs, and if so, show the lines that do.\n",
    "df.isnull().values.any()"
   ]
  },
  {
   "cell_type": "code",
   "execution_count": null,
   "metadata": {},
   "outputs": [],
   "source": [
    "# Question 4: As you can see in the link provided above, the landmass label has 6 values, that correspond to:\n",
    "# 1=N.America, 2=S.America, 3=Europe, 4=Africa, 4=Asia, 6=Oceania. Replace the landmass column values, \n",
    "# with their names from the list above"
   ]
  },
  {
   "cell_type": "code",
   "execution_count": null,
   "metadata": {},
   "outputs": [],
   "source": [
    "# Question 5: The area is in 'in thousands of square km'. Transform it in square km."
   ]
  },
  {
   "cell_type": "code",
   "execution_count": null,
   "metadata": {
    "scrolled": true
   },
   "outputs": [],
   "source": [
    "# Questions 6-9: Find all the flags that:\n",
    "# - have a population of more than 100 million people (inclusive)\n",
    "# - have an area of less than 1000 square km\n",
    "# - have NO bars and NO stripes\n",
    "# - are in Oceania"
   ]
  },
  {
   "cell_type": "code",
   "execution_count": null,
   "metadata": {},
   "outputs": [],
   "source": [
    "# Question 10: Find the population counts of the countries \n",
    "# (this means, the number of countries that had 3 million people, 10 million people, etc, using only existing values)\n",
    "# and plot a bar chart of the 10 first results.\n",
    "\n",
    "# HINT: Remember that pandas has its own simple plot() function, and that you need a bar chart.\n",
    "# Also try to find the pandas function that returns the counts, do not do it by hand!"
   ]
  },
  {
   "cell_type": "markdown",
   "metadata": {},
   "source": [
    "#### Project\n",
    "\n",
    "Imagine we need to use this dataset for some machine learning purposes. And in the real world, 80% of the job is cleaning and transforming the data.\n",
    "\n",
    "We need to create a way to show which color combinations are the most common. To simplify it, we will do it just in pairs, so we will only check the colors by 2 e.g red-white, red-blue, red-gold, etc. Then we will find the top 5 combinations and plot them in a bar chart.\n",
    "\n",
    "##### General instructions:\n",
    " - Create a new dataframe keeping only the color labels.\n",
    " - Add new columns in this dataframe by combining the features by 2. DO NOT duplicate the data, e.g red-gold is the same as gold-red, so you need to check for this when creating the dataframe\n",
    " - If a combination exists in the dataframe, add 1 to the combination column.\n",
    " - Plot the top 5 combinations.\n",
    " \n",
    "*Important! Do not do the pairs by hand, as in most cases you can have datasets of hundreds of features so this is not feasible. Automate the procedure of pairing, and checking if the pair exists.*\n"
   ]
  },
  {
   "cell_type": "code",
   "execution_count": null,
   "metadata": {},
   "outputs": [],
   "source": [
    "colors = ['red', 'green', 'blue', 'gold', 'white', 'black', 'orange']"
   ]
  }
 ],
 "metadata": {
  "kernelspec": {
   "display_name": "Python 3",
   "language": "python",
   "name": "python3"
  },
  "language_info": {
   "codemirror_mode": {
    "name": "ipython",
    "version": 3
   },
   "file_extension": ".py",
   "mimetype": "text/x-python",
   "name": "python",
   "nbconvert_exporter": "python",
   "pygments_lexer": "ipython3",
   "version": "3.7.3"
  },
  "varInspector": {
   "cols": {
    "lenName": 16,
    "lenType": 16,
    "lenVar": 40
   },
   "kernels_config": {
    "python": {
     "delete_cmd_postfix": "",
     "delete_cmd_prefix": "del ",
     "library": "var_list.py",
     "varRefreshCmd": "print(var_dic_list())"
    },
    "r": {
     "delete_cmd_postfix": ") ",
     "delete_cmd_prefix": "rm(",
     "library": "var_list.r",
     "varRefreshCmd": "cat(var_dic_list()) "
    }
   },
   "types_to_exclude": [
    "module",
    "function",
    "builtin_function_or_method",
    "instance",
    "_Feature"
   ],
   "window_display": false
  }
 },
 "nbformat": 4,
 "nbformat_minor": 2
}
