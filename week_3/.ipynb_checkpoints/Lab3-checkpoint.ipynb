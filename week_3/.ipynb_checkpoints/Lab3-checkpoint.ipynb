{
 "cells": [
  {
   "cell_type": "markdown",
   "metadata": {
    "id": "aHjBGiTwG2bY"
   },
   "source": [
    "<h1><center> Lab 3: Statistics and Machine Learning I: Supervised Learning </center></h1>\n",
    "\n",
    "**Goal:** In this notebook we are going to start applying machine learning methods to train statistical models and explore new methods of inference and prediction. We will focus on Supervised Learning, both regression (learn continuous labels) and classification (learn discrete labels). In particular, we will introduce the Python library Scikit-learn and play with:\n",
    "- Linear and Polynomial regression\n",
    "- Naive Bayes\n",
    "\n",
    "The goals of this notebook are to test the application of Regression and Classification methods to structured and unstructured datasets; to apply model validation methods; and to perform feature engineering on unstructured text. \n",
    "\n",
    "The practical aspects of this Lab will be based on the **Chapter 4** (up to section *In Depth: Linear Regression*) of the [*Python Data Science Handbook*](https://jakevdp.github.io/PythonDataScienceHandbook/). To gain a better insight on the theoretical aspects of the algorithms we are going to use, we recommend **Chapters 3**, and **Chapter 4** (Sections 4.1 to 4.4) of the book [*An Introduction to Statistical Learning*](https://www.statlearning.com).\n",
    "\n",
    "In Part I, once again, we are going to use the Happiness Report 2021 as a data set. Make sure to have *DataPanelWHR2021C2.xls* in the same folder as this Jupyter Notebook. You can find more info about the meaning of each column in the *DataPanelWHR2021C2.xls* dataset [here](https://happiness-report.s3.amazonaws.com/2021/Appendix1WHR2021C2.pdf), page 1-3.\n",
    "\n",
    "In Part II we are going to apply a classification algorithm to the [Newsgroup](http://qwone.com/~jason/20Newsgroups/) dataset, which is a well-known dataset to study ML applied to unstructured text.\n",
    "\n",
    "*Note: See the additional file associated with Lab 3 (Lab3-Assignment1-Aux.ipynb) for a notebook that can be helpful to load and pre-process the data required for Group Assignment 1. Next week (week 4) the whole werkcollege will be dedicated to work in the Assignment 1.*"
   ]
  },
  {
   "cell_type": "markdown",
   "metadata": {
    "id": "sAuZOA_4G2bc"
   },
   "source": [
    "<h1><center> Part I: Linear regression with Scikit-learn </center></h1>\n",
    "\n",
    "Here we sill apply Scikit learn to create a Linear Regression model. Similar to other methods that use Estimator API of Scikit learn library, training and applying Linear Regression is a 5-Step process:\n",
    "\n",
    "1. Select model (Linear Regression, in this case) and import it\n",
    "2. Select model hyperparameters\n",
    "3. Arrange data in feature matrix (or vector if just 1 feature) and Target array\n",
    "4. Fit model to data\n",
    "5. Apply model to inference and prediction problems\n",
    "\n",
    "We will apply Linear Regression to better **understand 1) the relationship between GDP and Life Expectancy and 2) the relationship between Life expectancy and *happiness* in a specific year (2016)**.\n",
    "\n",
    "First, we will load and vizualize the required data:"
   ]
  },
  {
   "cell_type": "code",
   "execution_count": 2,
   "metadata": {
    "id": "iHL7fP47G2bc",
    "outputId": "970d52fc-4f01-4839-db57-16c25fcad1d6"
   },
   "outputs": [
    {
     "data": {
      "text/html": [
       "<div>\n",
       "<style scoped>\n",
       "    .dataframe tbody tr th:only-of-type {\n",
       "        vertical-align: middle;\n",
       "    }\n",
       "\n",
       "    .dataframe tbody tr th {\n",
       "        vertical-align: top;\n",
       "    }\n",
       "\n",
       "    .dataframe thead th {\n",
       "        text-align: right;\n",
       "    }\n",
       "</style>\n",
       "<table border=\"1\" class=\"dataframe\">\n",
       "  <thead>\n",
       "    <tr style=\"text-align: right;\">\n",
       "      <th></th>\n",
       "      <th></th>\n",
       "      <th>Life Ladder</th>\n",
       "      <th>Log GDP per capita</th>\n",
       "      <th>Social support</th>\n",
       "      <th>Healthy life expectancy at birth</th>\n",
       "      <th>Freedom to make life choices</th>\n",
       "      <th>Generosity</th>\n",
       "      <th>Perceptions of corruption</th>\n",
       "      <th>Positive affect</th>\n",
       "      <th>Negative affect</th>\n",
       "    </tr>\n",
       "    <tr>\n",
       "      <th>Country name</th>\n",
       "      <th>year</th>\n",
       "      <th></th>\n",
       "      <th></th>\n",
       "      <th></th>\n",
       "      <th></th>\n",
       "      <th></th>\n",
       "      <th></th>\n",
       "      <th></th>\n",
       "      <th></th>\n",
       "      <th></th>\n",
       "    </tr>\n",
       "  </thead>\n",
       "  <tbody>\n",
       "    <tr>\n",
       "      <th rowspan=\"5\" valign=\"top\">Afghanistan</th>\n",
       "      <th>2008</th>\n",
       "      <td>3.723590</td>\n",
       "      <td>7.370100</td>\n",
       "      <td>0.450662</td>\n",
       "      <td>50.799999</td>\n",
       "      <td>0.718114</td>\n",
       "      <td>0.167640</td>\n",
       "      <td>0.881686</td>\n",
       "      <td>0.517637</td>\n",
       "      <td>0.258195</td>\n",
       "    </tr>\n",
       "    <tr>\n",
       "      <th>2009</th>\n",
       "      <td>4.401778</td>\n",
       "      <td>7.539972</td>\n",
       "      <td>0.552308</td>\n",
       "      <td>51.200001</td>\n",
       "      <td>0.678896</td>\n",
       "      <td>0.190099</td>\n",
       "      <td>0.850035</td>\n",
       "      <td>0.583926</td>\n",
       "      <td>0.237092</td>\n",
       "    </tr>\n",
       "    <tr>\n",
       "      <th>2010</th>\n",
       "      <td>4.758381</td>\n",
       "      <td>7.646709</td>\n",
       "      <td>0.539075</td>\n",
       "      <td>51.599998</td>\n",
       "      <td>0.600127</td>\n",
       "      <td>0.120590</td>\n",
       "      <td>0.706766</td>\n",
       "      <td>0.618265</td>\n",
       "      <td>0.275324</td>\n",
       "    </tr>\n",
       "    <tr>\n",
       "      <th>2011</th>\n",
       "      <td>3.831719</td>\n",
       "      <td>7.619532</td>\n",
       "      <td>0.521104</td>\n",
       "      <td>51.919998</td>\n",
       "      <td>0.495901</td>\n",
       "      <td>0.162427</td>\n",
       "      <td>0.731109</td>\n",
       "      <td>0.611387</td>\n",
       "      <td>0.267175</td>\n",
       "    </tr>\n",
       "    <tr>\n",
       "      <th>2012</th>\n",
       "      <td>3.782938</td>\n",
       "      <td>7.705479</td>\n",
       "      <td>0.520637</td>\n",
       "      <td>52.240002</td>\n",
       "      <td>0.530935</td>\n",
       "      <td>0.236032</td>\n",
       "      <td>0.775620</td>\n",
       "      <td>0.710385</td>\n",
       "      <td>0.267919</td>\n",
       "    </tr>\n",
       "  </tbody>\n",
       "</table>\n",
       "</div>"
      ],
      "text/plain": [
       "                   Life Ladder  Log GDP per capita  Social support  \\\n",
       "Country name year                                                    \n",
       "Afghanistan  2008     3.723590            7.370100        0.450662   \n",
       "             2009     4.401778            7.539972        0.552308   \n",
       "             2010     4.758381            7.646709        0.539075   \n",
       "             2011     3.831719            7.619532        0.521104   \n",
       "             2012     3.782938            7.705479        0.520637   \n",
       "\n",
       "                   Healthy life expectancy at birth  \\\n",
       "Country name year                                     \n",
       "Afghanistan  2008                         50.799999   \n",
       "             2009                         51.200001   \n",
       "             2010                         51.599998   \n",
       "             2011                         51.919998   \n",
       "             2012                         52.240002   \n",
       "\n",
       "                   Freedom to make life choices  Generosity  \\\n",
       "Country name year                                             \n",
       "Afghanistan  2008                      0.718114    0.167640   \n",
       "             2009                      0.678896    0.190099   \n",
       "             2010                      0.600127    0.120590   \n",
       "             2011                      0.495901    0.162427   \n",
       "             2012                      0.530935    0.236032   \n",
       "\n",
       "                   Perceptions of corruption  Positive affect  Negative affect  \n",
       "Country name year                                                               \n",
       "Afghanistan  2008                   0.881686         0.517637         0.258195  \n",
       "             2009                   0.850035         0.583926         0.237092  \n",
       "             2010                   0.706766         0.618265         0.275324  \n",
       "             2011                   0.731109         0.611387         0.267175  \n",
       "             2012                   0.775620         0.710385         0.267919  "
      ]
     },
     "execution_count": 2,
     "metadata": {},
     "output_type": "execute_result"
    }
   ],
   "source": [
    "import numpy as np\n",
    "import pandas as pd\n",
    "import matplotlib.pyplot as plt\n",
    "\n",
    "# Load data\n",
    "happinessdataframe = pd.read_excel('DataPanelWHR2021C2.xls', index_col=[0,1])\n",
    "happinessdataframe.head()"
   ]
  },
  {
   "cell_type": "markdown",
   "metadata": {
    "id": "kggJQb-2G2be"
   },
   "source": [
    "Below we present some extra examples of how to navigate multi-indexes in Pandas.\n",
    "\n",
    "Say you'd like to select data for a given country (Algeria) within a specific period (2011-2020)\n",
    "\n",
    "It seems convinient to first select the rows (which determine country and year) and then columns.\n",
    "\n",
    "To first select rows we will use .loc to apply array-style indexing.\n",
    "\n",
    "We then have two options:\n",
    "\n",
    "**1) use tuples to iterate over the multi-index;**\n",
    "\n",
    "**2) or perform array-style indexing also within the multi-index (that is, regard the indexing of rows as a typical NumPy array).**"
   ]
  },
  {
   "cell_type": "code",
   "execution_count": 3,
   "metadata": {
    "id": "4x7aKmEVG2be",
    "outputId": "eb0c6b2b-9753-4cdf-a789-d562a5d590d5"
   },
   "outputs": [
    {
     "data": {
      "text/html": [
       "<div>\n",
       "<style scoped>\n",
       "    .dataframe tbody tr th:only-of-type {\n",
       "        vertical-align: middle;\n",
       "    }\n",
       "\n",
       "    .dataframe tbody tr th {\n",
       "        vertical-align: top;\n",
       "    }\n",
       "\n",
       "    .dataframe thead th {\n",
       "        text-align: right;\n",
       "    }\n",
       "</style>\n",
       "<table border=\"1\" class=\"dataframe\">\n",
       "  <thead>\n",
       "    <tr style=\"text-align: right;\">\n",
       "      <th></th>\n",
       "      <th></th>\n",
       "      <th>Life Ladder</th>\n",
       "      <th>Log GDP per capita</th>\n",
       "      <th>Social support</th>\n",
       "      <th>Healthy life expectancy at birth</th>\n",
       "      <th>Freedom to make life choices</th>\n",
       "      <th>Generosity</th>\n",
       "      <th>Perceptions of corruption</th>\n",
       "      <th>Positive affect</th>\n",
       "      <th>Negative affect</th>\n",
       "    </tr>\n",
       "    <tr>\n",
       "      <th>Country name</th>\n",
       "      <th>year</th>\n",
       "      <th></th>\n",
       "      <th></th>\n",
       "      <th></th>\n",
       "      <th></th>\n",
       "      <th></th>\n",
       "      <th></th>\n",
       "      <th></th>\n",
       "      <th></th>\n",
       "      <th></th>\n",
       "    </tr>\n",
       "  </thead>\n",
       "  <tbody>\n",
       "    <tr>\n",
       "      <th rowspan=\"7\" valign=\"top\">Algeria</th>\n",
       "      <th>2011</th>\n",
       "      <td>5.317194</td>\n",
       "      <td>9.296691</td>\n",
       "      <td>0.810234</td>\n",
       "      <td>64.660004</td>\n",
       "      <td>0.529561</td>\n",
       "      <td>-0.180654</td>\n",
       "      <td>0.637982</td>\n",
       "      <td>0.550203</td>\n",
       "      <td>0.254897</td>\n",
       "    </tr>\n",
       "    <tr>\n",
       "      <th>2012</th>\n",
       "      <td>5.604596</td>\n",
       "      <td>9.310611</td>\n",
       "      <td>0.839397</td>\n",
       "      <td>64.820000</td>\n",
       "      <td>0.586663</td>\n",
       "      <td>-0.172123</td>\n",
       "      <td>0.690116</td>\n",
       "      <td>0.604023</td>\n",
       "      <td>0.229716</td>\n",
       "    </tr>\n",
       "    <tr>\n",
       "      <th>2014</th>\n",
       "      <td>6.354898</td>\n",
       "      <td>9.335159</td>\n",
       "      <td>0.818189</td>\n",
       "      <td>65.139999</td>\n",
       "      <td>NaN</td>\n",
       "      <td>NaN</td>\n",
       "      <td>NaN</td>\n",
       "      <td>0.625905</td>\n",
       "      <td>0.176866</td>\n",
       "    </tr>\n",
       "    <tr>\n",
       "      <th>2016</th>\n",
       "      <td>5.340854</td>\n",
       "      <td>9.362022</td>\n",
       "      <td>0.748588</td>\n",
       "      <td>65.500000</td>\n",
       "      <td>NaN</td>\n",
       "      <td>NaN</td>\n",
       "      <td>NaN</td>\n",
       "      <td>0.660510</td>\n",
       "      <td>0.377112</td>\n",
       "    </tr>\n",
       "    <tr>\n",
       "      <th>2017</th>\n",
       "      <td>5.248912</td>\n",
       "      <td>9.354488</td>\n",
       "      <td>0.806754</td>\n",
       "      <td>65.699997</td>\n",
       "      <td>0.436670</td>\n",
       "      <td>-0.166782</td>\n",
       "      <td>0.699774</td>\n",
       "      <td>0.641980</td>\n",
       "      <td>0.288710</td>\n",
       "    </tr>\n",
       "    <tr>\n",
       "      <th>2018</th>\n",
       "      <td>5.043086</td>\n",
       "      <td>9.348318</td>\n",
       "      <td>0.798651</td>\n",
       "      <td>65.900002</td>\n",
       "      <td>0.583381</td>\n",
       "      <td>-0.145943</td>\n",
       "      <td>0.758704</td>\n",
       "      <td>0.591043</td>\n",
       "      <td>0.292946</td>\n",
       "    </tr>\n",
       "    <tr>\n",
       "      <th>2019</th>\n",
       "      <td>4.744627</td>\n",
       "      <td>9.336946</td>\n",
       "      <td>0.803259</td>\n",
       "      <td>66.099998</td>\n",
       "      <td>0.385083</td>\n",
       "      <td>0.005087</td>\n",
       "      <td>0.740609</td>\n",
       "      <td>0.584944</td>\n",
       "      <td>0.215198</td>\n",
       "    </tr>\n",
       "  </tbody>\n",
       "</table>\n",
       "</div>"
      ],
      "text/plain": [
       "                   Life Ladder  Log GDP per capita  Social support  \\\n",
       "Country name year                                                    \n",
       "Algeria      2011     5.317194            9.296691        0.810234   \n",
       "             2012     5.604596            9.310611        0.839397   \n",
       "             2014     6.354898            9.335159        0.818189   \n",
       "             2016     5.340854            9.362022        0.748588   \n",
       "             2017     5.248912            9.354488        0.806754   \n",
       "             2018     5.043086            9.348318        0.798651   \n",
       "             2019     4.744627            9.336946        0.803259   \n",
       "\n",
       "                   Healthy life expectancy at birth  \\\n",
       "Country name year                                     \n",
       "Algeria      2011                         64.660004   \n",
       "             2012                         64.820000   \n",
       "             2014                         65.139999   \n",
       "             2016                         65.500000   \n",
       "             2017                         65.699997   \n",
       "             2018                         65.900002   \n",
       "             2019                         66.099998   \n",
       "\n",
       "                   Freedom to make life choices  Generosity  \\\n",
       "Country name year                                             \n",
       "Algeria      2011                      0.529561   -0.180654   \n",
       "             2012                      0.586663   -0.172123   \n",
       "             2014                           NaN         NaN   \n",
       "             2016                           NaN         NaN   \n",
       "             2017                      0.436670   -0.166782   \n",
       "             2018                      0.583381   -0.145943   \n",
       "             2019                      0.385083    0.005087   \n",
       "\n",
       "                   Perceptions of corruption  Positive affect  Negative affect  \n",
       "Country name year                                                               \n",
       "Algeria      2011                   0.637982         0.550203         0.254897  \n",
       "             2012                   0.690116         0.604023         0.229716  \n",
       "             2014                        NaN         0.625905         0.176866  \n",
       "             2016                        NaN         0.660510         0.377112  \n",
       "             2017                   0.699774         0.641980         0.288710  \n",
       "             2018                   0.758704         0.591043         0.292946  \n",
       "             2019                   0.740609         0.584944         0.215198  "
      ]
     },
     "execution_count": 3,
     "metadata": {},
     "output_type": "execute_result"
    }
   ],
   "source": [
    "# Option 1\n",
    "happinessdataframe.loc[(\"Algeria\",2011):(\"Algeria\",2020)]"
   ]
  },
  {
   "cell_type": "code",
   "execution_count": 4,
   "metadata": {
    "id": "093hhYAHG2be",
    "outputId": "9517a8b8-79b3-4f07-eb86-b3507f0a68d2"
   },
   "outputs": [
    {
     "data": {
      "text/html": [
       "<div>\n",
       "<style scoped>\n",
       "    .dataframe tbody tr th:only-of-type {\n",
       "        vertical-align: middle;\n",
       "    }\n",
       "\n",
       "    .dataframe tbody tr th {\n",
       "        vertical-align: top;\n",
       "    }\n",
       "\n",
       "    .dataframe thead th {\n",
       "        text-align: right;\n",
       "    }\n",
       "</style>\n",
       "<table border=\"1\" class=\"dataframe\">\n",
       "  <thead>\n",
       "    <tr style=\"text-align: right;\">\n",
       "      <th></th>\n",
       "      <th></th>\n",
       "      <th>Life Ladder</th>\n",
       "      <th>Generosity</th>\n",
       "    </tr>\n",
       "    <tr>\n",
       "      <th>Country name</th>\n",
       "      <th>year</th>\n",
       "      <th></th>\n",
       "      <th></th>\n",
       "    </tr>\n",
       "  </thead>\n",
       "  <tbody>\n",
       "    <tr>\n",
       "      <th rowspan=\"7\" valign=\"top\">Algeria</th>\n",
       "      <th>2011</th>\n",
       "      <td>5.317194</td>\n",
       "      <td>-0.180654</td>\n",
       "    </tr>\n",
       "    <tr>\n",
       "      <th>2012</th>\n",
       "      <td>5.604596</td>\n",
       "      <td>-0.172123</td>\n",
       "    </tr>\n",
       "    <tr>\n",
       "      <th>2014</th>\n",
       "      <td>6.354898</td>\n",
       "      <td>NaN</td>\n",
       "    </tr>\n",
       "    <tr>\n",
       "      <th>2016</th>\n",
       "      <td>5.340854</td>\n",
       "      <td>NaN</td>\n",
       "    </tr>\n",
       "    <tr>\n",
       "      <th>2017</th>\n",
       "      <td>5.248912</td>\n",
       "      <td>-0.166782</td>\n",
       "    </tr>\n",
       "    <tr>\n",
       "      <th>2018</th>\n",
       "      <td>5.043086</td>\n",
       "      <td>-0.145943</td>\n",
       "    </tr>\n",
       "    <tr>\n",
       "      <th>2019</th>\n",
       "      <td>4.744627</td>\n",
       "      <td>0.005087</td>\n",
       "    </tr>\n",
       "  </tbody>\n",
       "</table>\n",
       "</div>"
      ],
      "text/plain": [
       "                   Life Ladder  Generosity\n",
       "Country name year                         \n",
       "Algeria      2011     5.317194   -0.180654\n",
       "             2012     5.604596   -0.172123\n",
       "             2014     6.354898         NaN\n",
       "             2016     5.340854         NaN\n",
       "             2017     5.248912   -0.166782\n",
       "             2018     5.043086   -0.145943\n",
       "             2019     4.744627    0.005087"
      ]
     },
     "execution_count": 4,
     "metadata": {},
     "output_type": "execute_result"
    }
   ],
   "source": [
    "# Option 1 and select specific columns\n",
    "happinessdataframe.loc[(\"Algeria\",2011):(\"Algeria\",2020), [\"Life Ladder\", \"Generosity\"]]"
   ]
  },
  {
   "cell_type": "code",
   "execution_count": 5,
   "metadata": {
    "id": "wQ8xvFSjG2bf",
    "outputId": "c846ef0c-3f9e-4810-ee12-8f7519243540"
   },
   "outputs": [
    {
     "data": {
      "text/html": [
       "<div>\n",
       "<style scoped>\n",
       "    .dataframe tbody tr th:only-of-type {\n",
       "        vertical-align: middle;\n",
       "    }\n",
       "\n",
       "    .dataframe tbody tr th {\n",
       "        vertical-align: top;\n",
       "    }\n",
       "\n",
       "    .dataframe thead th {\n",
       "        text-align: right;\n",
       "    }\n",
       "</style>\n",
       "<table border=\"1\" class=\"dataframe\">\n",
       "  <thead>\n",
       "    <tr style=\"text-align: right;\">\n",
       "      <th></th>\n",
       "      <th></th>\n",
       "      <th>Life Ladder</th>\n",
       "      <th>Log GDP per capita</th>\n",
       "      <th>Social support</th>\n",
       "      <th>Healthy life expectancy at birth</th>\n",
       "      <th>Freedom to make life choices</th>\n",
       "      <th>Generosity</th>\n",
       "      <th>Perceptions of corruption</th>\n",
       "      <th>Positive affect</th>\n",
       "      <th>Negative affect</th>\n",
       "    </tr>\n",
       "    <tr>\n",
       "      <th>Country name</th>\n",
       "      <th>year</th>\n",
       "      <th></th>\n",
       "      <th></th>\n",
       "      <th></th>\n",
       "      <th></th>\n",
       "      <th></th>\n",
       "      <th></th>\n",
       "      <th></th>\n",
       "      <th></th>\n",
       "      <th></th>\n",
       "    </tr>\n",
       "  </thead>\n",
       "  <tbody>\n",
       "    <tr>\n",
       "      <th rowspan=\"7\" valign=\"top\">Algeria</th>\n",
       "      <th>2011</th>\n",
       "      <td>5.317194</td>\n",
       "      <td>9.296691</td>\n",
       "      <td>0.810234</td>\n",
       "      <td>64.660004</td>\n",
       "      <td>0.529561</td>\n",
       "      <td>-0.180654</td>\n",
       "      <td>0.637982</td>\n",
       "      <td>0.550203</td>\n",
       "      <td>0.254897</td>\n",
       "    </tr>\n",
       "    <tr>\n",
       "      <th>2012</th>\n",
       "      <td>5.604596</td>\n",
       "      <td>9.310611</td>\n",
       "      <td>0.839397</td>\n",
       "      <td>64.820000</td>\n",
       "      <td>0.586663</td>\n",
       "      <td>-0.172123</td>\n",
       "      <td>0.690116</td>\n",
       "      <td>0.604023</td>\n",
       "      <td>0.229716</td>\n",
       "    </tr>\n",
       "    <tr>\n",
       "      <th>2014</th>\n",
       "      <td>6.354898</td>\n",
       "      <td>9.335159</td>\n",
       "      <td>0.818189</td>\n",
       "      <td>65.139999</td>\n",
       "      <td>NaN</td>\n",
       "      <td>NaN</td>\n",
       "      <td>NaN</td>\n",
       "      <td>0.625905</td>\n",
       "      <td>0.176866</td>\n",
       "    </tr>\n",
       "    <tr>\n",
       "      <th>2016</th>\n",
       "      <td>5.340854</td>\n",
       "      <td>9.362022</td>\n",
       "      <td>0.748588</td>\n",
       "      <td>65.500000</td>\n",
       "      <td>NaN</td>\n",
       "      <td>NaN</td>\n",
       "      <td>NaN</td>\n",
       "      <td>0.660510</td>\n",
       "      <td>0.377112</td>\n",
       "    </tr>\n",
       "    <tr>\n",
       "      <th>2017</th>\n",
       "      <td>5.248912</td>\n",
       "      <td>9.354488</td>\n",
       "      <td>0.806754</td>\n",
       "      <td>65.699997</td>\n",
       "      <td>0.436670</td>\n",
       "      <td>-0.166782</td>\n",
       "      <td>0.699774</td>\n",
       "      <td>0.641980</td>\n",
       "      <td>0.288710</td>\n",
       "    </tr>\n",
       "    <tr>\n",
       "      <th>2018</th>\n",
       "      <td>5.043086</td>\n",
       "      <td>9.348318</td>\n",
       "      <td>0.798651</td>\n",
       "      <td>65.900002</td>\n",
       "      <td>0.583381</td>\n",
       "      <td>-0.145943</td>\n",
       "      <td>0.758704</td>\n",
       "      <td>0.591043</td>\n",
       "      <td>0.292946</td>\n",
       "    </tr>\n",
       "    <tr>\n",
       "      <th>2019</th>\n",
       "      <td>4.744627</td>\n",
       "      <td>9.336946</td>\n",
       "      <td>0.803259</td>\n",
       "      <td>66.099998</td>\n",
       "      <td>0.385083</td>\n",
       "      <td>0.005087</td>\n",
       "      <td>0.740609</td>\n",
       "      <td>0.584944</td>\n",
       "      <td>0.215198</td>\n",
       "    </tr>\n",
       "  </tbody>\n",
       "</table>\n",
       "</div>"
      ],
      "text/plain": [
       "                   Life Ladder  Log GDP per capita  Social support  \\\n",
       "Country name year                                                    \n",
       "Algeria      2011     5.317194            9.296691        0.810234   \n",
       "             2012     5.604596            9.310611        0.839397   \n",
       "             2014     6.354898            9.335159        0.818189   \n",
       "             2016     5.340854            9.362022        0.748588   \n",
       "             2017     5.248912            9.354488        0.806754   \n",
       "             2018     5.043086            9.348318        0.798651   \n",
       "             2019     4.744627            9.336946        0.803259   \n",
       "\n",
       "                   Healthy life expectancy at birth  \\\n",
       "Country name year                                     \n",
       "Algeria      2011                         64.660004   \n",
       "             2012                         64.820000   \n",
       "             2014                         65.139999   \n",
       "             2016                         65.500000   \n",
       "             2017                         65.699997   \n",
       "             2018                         65.900002   \n",
       "             2019                         66.099998   \n",
       "\n",
       "                   Freedom to make life choices  Generosity  \\\n",
       "Country name year                                             \n",
       "Algeria      2011                      0.529561   -0.180654   \n",
       "             2012                      0.586663   -0.172123   \n",
       "             2014                           NaN         NaN   \n",
       "             2016                           NaN         NaN   \n",
       "             2017                      0.436670   -0.166782   \n",
       "             2018                      0.583381   -0.145943   \n",
       "             2019                      0.385083    0.005087   \n",
       "\n",
       "                   Perceptions of corruption  Positive affect  Negative affect  \n",
       "Country name year                                                               \n",
       "Algeria      2011                   0.637982         0.550203         0.254897  \n",
       "             2012                   0.690116         0.604023         0.229716  \n",
       "             2014                        NaN         0.625905         0.176866  \n",
       "             2016                        NaN         0.660510         0.377112  \n",
       "             2017                   0.699774         0.641980         0.288710  \n",
       "             2018                   0.758704         0.591043         0.292946  \n",
       "             2019                   0.740609         0.584944         0.215198  "
      ]
     },
     "execution_count": 5,
     "metadata": {},
     "output_type": "execute_result"
    }
   ],
   "source": [
    "# Option 2\n",
    "\n",
    "# Note that we must select the axis where we would like to perform array-style indexing (axis=0 selects rows)\n",
    "happinessdataframe.loc(axis=0)[\"Algeria\", 2011:2020]"
   ]
  },
  {
   "cell_type": "code",
   "execution_count": 6,
   "metadata": {
    "id": "0A7y8YPyG2bf",
    "outputId": "3cc14a46-d21f-4ea5-d94b-1cec41b047c5"
   },
   "outputs": [
    {
     "data": {
      "text/html": [
       "<div>\n",
       "<style scoped>\n",
       "    .dataframe tbody tr th:only-of-type {\n",
       "        vertical-align: middle;\n",
       "    }\n",
       "\n",
       "    .dataframe tbody tr th {\n",
       "        vertical-align: top;\n",
       "    }\n",
       "\n",
       "    .dataframe thead th {\n",
       "        text-align: right;\n",
       "    }\n",
       "</style>\n",
       "<table border=\"1\" class=\"dataframe\">\n",
       "  <thead>\n",
       "    <tr style=\"text-align: right;\">\n",
       "      <th></th>\n",
       "      <th></th>\n",
       "      <th>Life Ladder</th>\n",
       "      <th>Generosity</th>\n",
       "    </tr>\n",
       "    <tr>\n",
       "      <th>Country name</th>\n",
       "      <th>year</th>\n",
       "      <th></th>\n",
       "      <th></th>\n",
       "    </tr>\n",
       "  </thead>\n",
       "  <tbody>\n",
       "    <tr>\n",
       "      <th rowspan=\"7\" valign=\"top\">Algeria</th>\n",
       "      <th>2011</th>\n",
       "      <td>5.317194</td>\n",
       "      <td>-0.180654</td>\n",
       "    </tr>\n",
       "    <tr>\n",
       "      <th>2012</th>\n",
       "      <td>5.604596</td>\n",
       "      <td>-0.172123</td>\n",
       "    </tr>\n",
       "    <tr>\n",
       "      <th>2014</th>\n",
       "      <td>6.354898</td>\n",
       "      <td>NaN</td>\n",
       "    </tr>\n",
       "    <tr>\n",
       "      <th>2016</th>\n",
       "      <td>5.340854</td>\n",
       "      <td>NaN</td>\n",
       "    </tr>\n",
       "    <tr>\n",
       "      <th>2017</th>\n",
       "      <td>5.248912</td>\n",
       "      <td>-0.166782</td>\n",
       "    </tr>\n",
       "    <tr>\n",
       "      <th>2018</th>\n",
       "      <td>5.043086</td>\n",
       "      <td>-0.145943</td>\n",
       "    </tr>\n",
       "    <tr>\n",
       "      <th>2019</th>\n",
       "      <td>4.744627</td>\n",
       "      <td>0.005087</td>\n",
       "    </tr>\n",
       "  </tbody>\n",
       "</table>\n",
       "</div>"
      ],
      "text/plain": [
       "                   Life Ladder  Generosity\n",
       "Country name year                         \n",
       "Algeria      2011     5.317194   -0.180654\n",
       "             2012     5.604596   -0.172123\n",
       "             2014     6.354898         NaN\n",
       "             2016     5.340854         NaN\n",
       "             2017     5.248912   -0.166782\n",
       "             2018     5.043086   -0.145943\n",
       "             2019     4.744627    0.005087"
      ]
     },
     "execution_count": 6,
     "metadata": {},
     "output_type": "execute_result"
    }
   ],
   "source": [
    "# Option 2 and select specific columns\n",
    "happinessdataframe.loc(axis=0)[\"Algeria\", 2011:2020][[\"Life Ladder\", \"Generosity\"]]"
   ]
  },
  {
   "cell_type": "markdown",
   "metadata": {
    "id": "-bUyWlovG2bg"
   },
   "source": [
    "And now we are ready to visualize GDP and life expectancy data (GDP as feature vector, life expectancy as target vector), using the previous syntax. "
   ]
  },
  {
   "cell_type": "code",
   "execution_count": 7,
   "metadata": {
    "id": "aFCldYZ6G2bg",
    "outputId": "5d2ad012-70f2-488a-db25-d26e3b1f1429",
    "scrolled": false
   },
   "outputs": [
    {
     "data": {
      "image/png": "[encoded data removed]",
      "text/plain": [
       "<Figure size 432x288 with 1 Axes>"
      ]
     },
     "metadata": {
      "needs_background": "light"
     },
     "output_type": "display_data"
    }
   ],
   "source": [
    "x = happinessdataframe.dropna().loc(axis=0)[:,2016][[\"Log GDP per capita\",\"Healthy life expectancy at birth\"]]\n",
    "x.plot.scatter(x=\"Log GDP per capita\", y=\"Healthy life expectancy at birth\",c='black')\n",
    "plt.show()"
   ]
  },
  {
   "cell_type": "markdown",
   "metadata": {},
   "source": [
    "**Q: Note that .dropna() is being used to drop rows with NaN values. What are the possible problems of using dropna() in that context? Are we missing any important information? How could we solve the problem differently?**"
   ]
  },
  {
   "cell_type": "code",
   "execution_count": null,
   "metadata": {},
   "outputs": [],
   "source": []
  },
  {
   "cell_type": "markdown",
   "metadata": {
    "id": "NB6UKJuvG2bh"
   },
   "source": [
    "<h3> Single Variable Linear regression </h3>\n",
    "\n",
    "Below you have an example of ordinary least squares Linear Regression (again, please read Chapter 3.1 of the book [ISLR](https://www.statlearning.com) and chapter [In Depth: Linear Regression](https://jakevdp.github.io/PythonDataScienceHandbook/05.06-linear-regression.html) of the book PDSH)\n",
    "\n",
    "LinearRegression fits a linear model with coefficients $\\vec{w} = (w_0, w_1,..., w_p)$ to minimize the residual sum of squares between the observed targets in the dataset, and the targets predicted by the linear approximation.\n",
    "\n",
    "When $p=1$ (that is, a feature space with 1 dimension), LinearRegression fits a straight line to the data. Such line (as any other straight line) can be defined by two parameters: intercept ($w_0$) and slope ($w_1$)."
   ]
  },
  {
   "cell_type": "code",
   "execution_count": 8,
   "metadata": {
    "id": "WrzSc44XG2bh",
    "outputId": "dc793d4d-0411-478c-f0b7-6650fca608e1"
   },
   "outputs": [
    {
     "data": {
      "image/png": "[encoded data removed]",
      "text/plain": [
       "<Figure size 432x288 with 1 Axes>"
      ]
     },
     "metadata": {
      "needs_background": "light"
     },
     "output_type": "display_data"
    }
   ],
   "source": [
    "# 5 Steps to use the Scikit-learn Estimator API:\n",
    "\n",
    "# 1. Select model and import it\n",
    "from sklearn.linear_model import LinearRegression\n",
    "\n",
    "# 2. Select model hyperparameters\n",
    "model = LinearRegression(fit_intercept=True) # select model hyperparameters\n",
    "\n",
    "# 3. Arrange data in feature matrix (or vector if just 1 feature) and Target array\n",
    "X = x[\"Log GDP per capita\"].values\n",
    "Y = x[\"Healthy life expectancy at birth\"].values\n",
    "\n",
    "# 4. Fit model to data\n",
    "model.fit(X[:, np.newaxis], Y)\n",
    "\n",
    "# 5. Apply model\n",
    "xfit = np.linspace(6, 12, 2)\n",
    "yfit = model.predict(xfit[:, np.newaxis])\n",
    "\n",
    "# Plot\n",
    "plt.scatter(X, Y, c='black')\n",
    "plt.plot(xfit, yfit, c='red');"
   ]
  },
  {
   "cell_type": "markdown",
   "metadata": {
    "id": "fjQ-FigJG2bh"
   },
   "source": [
    "**Q1: What is the slope (or coefficient) and intercept of the model created? What is the slope telling us about the relationship between GDP and life expectancy?**\n",
    "\n",
    "Expected output: 5.47273829 and 12.791068455823464 (but please show how to reach these values)"
   ]
  },
  {
   "cell_type": "code",
   "execution_count": 9,
   "metadata": {
    "id": "MKr2JmfAG2bi",
    "outputId": "f73a768a-d42b-4c94-b37f-ec8dba059a96"
   },
   "outputs": [
    {
     "name": "stdout",
     "output_type": "stream",
     "text": [
      "[5.47273829]\n",
      "12.791068455823442\n"
     ]
    }
   ],
   "source": [
    "print(model.coef_)\n",
    "print(model.intercept_)"
   ]
  },
  {
   "cell_type": "markdown",
   "metadata": {
    "id": "HjhRF6PtG2bi"
   },
   "source": [
    "**Q2: Can you write down an expression for the straight red line in the previous plot, using the values of intercept_ and coef_ that were just printed? To confirm your solution, do a plot where you overlap the red plot in the figure below (red) with another plot with the straight line equation you derived.**\n",
    "\n",
    "Expected output: two lines (e.g., red and blue) perfectly overlaped. To ease visualization, increase the thickness of the line in the back. "
   ]
  },
  {
   "cell_type": "code",
   "execution_count": 10,
   "metadata": {
    "id": "rGSGIhl-G2bi",
    "outputId": "06ab67f4-9fbf-4de4-817f-f1304b452293"
   },
   "outputs": [
    {
     "data": {
      "text/plain": [
       "[<matplotlib.lines.Line2D at 0x240a656c160>]"
      ]
     },
     "execution_count": 10,
     "metadata": {},
     "output_type": "execute_result"
    },
    {
     "data": {
      "image/png": "[encoded data removed]",
      "text/plain": [
       "<Figure size 432x288 with 1 Axes>"
      ]
     },
     "metadata": {
      "needs_background": "light"
     },
     "output_type": "display_data"
    }
   ],
   "source": [
    "coef = model.coef_[0]\n",
    "e = model.intercept_\n",
    "f_y = coef * xfit  + e\n",
    "plt.plot(xfit, yfit, c='red', linewidth=6)\n",
    "plt.plot(xfit, f_y)"
   ]
  },
  {
   "cell_type": "markdown",
   "metadata": {
    "id": "7WRqEU8uG2bj"
   },
   "source": [
    "<h3> Single Variable Polynomial regression </h3>\n",
    "\n",
    "Linear regression can also be applied after expanding the feature space to include non-linear terms. This is convinient to capture non-linear relationships in data; notice that the number of coefficients also increase. Check Chapter 3.3.2 of ISLR for extra insights.\n",
    "\n",
    "Let us now inspect the relationship between Life expectancy and Happiness. First we plot the data:"
   ]
  },
  {
   "cell_type": "code",
   "execution_count": 11,
   "metadata": {
    "id": "rUAACqCJG2bj",
    "outputId": "d036d89d-1dad-41ba-c0de-fa7b7a37b0c5"
   },
   "outputs": [
    {
     "data": {
      "image/png": "[encoded data removed]",
      "text/plain": [
       "<Figure size 432x288 with 1 Axes>"
      ]
     },
     "metadata": {
      "needs_background": "light"
     },
     "output_type": "display_data"
    }
   ],
   "source": [
    "x = happinessdataframe.dropna().loc(axis=0)[:,2016][[\"Healthy life expectancy at birth\",\"Life Ladder\"]]\n",
    "x.plot.scatter(x=\"Healthy life expectancy at birth\", y=\"Life Ladder\",c='black')\n",
    "plt.show()"
   ]
  },
  {
   "cell_type": "markdown",
   "metadata": {
    "id": "MnnDnxckG2bj"
   },
   "source": [
    "Note that now the relationship between the predictor and response of interest doesn't appear to be linear. \n",
    "\n",
    "We now intend to expand the feature space to include higher order terms using, as basis function, a polynomial function of degree 2.\n",
    "\n",
    "You can notice, below, a pipeline. To gain some insight on what is the meaning of a pipeline, please check the PDSH book, [here](https://jakevdp.github.io/PythonDataScienceHandbook/05.04-feature-engineering.html)\n",
    "\n",
    "**Q: Can you fill the missing lines below to fit the model to data and apply the model?**"
   ]
  },
  {
   "cell_type": "code",
   "execution_count": 12,
   "metadata": {
    "id": "IUiRQc0dG2bj",
    "outputId": "6b51f045-c1a5-4ab1-c2f7-cd7a9952c3c2"
   },
   "outputs": [],
   "source": [
    "# 1. Select model and import it\n",
    "from sklearn.preprocessing import PolynomialFeatures\n",
    "from sklearn.pipeline import make_pipeline\n",
    "\n",
    "# 2. Select model hyperparameters (here, we will use a polynomial, degree 2, basis function)\n",
    "polymodel = make_pipeline(PolynomialFeatures(2), LinearRegression(fit_intercept=True))\n",
    "\n",
    "# 3. Arrange data in feature matrix (or vector if just 1 feature) and Target array\n",
    "x = happinessdataframe.dropna().loc(axis=0)[:,2016][[\"Healthy life expectancy at birth\",\"Life Ladder\"]]\n",
    "\n",
    "X = x[\"Healthy life expectancy at birth\"].values\n",
    "Y = x[\"Life Ladder\"].values"
   ]
  },
  {
   "cell_type": "code",
   "execution_count": 13,
   "metadata": {
    "id": "IUiRQc0dG2bj",
    "outputId": "6b51f045-c1a5-4ab1-c2f7-cd7a9952c3c2"
   },
   "outputs": [
    {
     "data": {
      "text/plain": [
       "Pipeline(steps=[('polynomialfeatures', PolynomialFeatures()),\n",
       "                ('linearregression', LinearRegression())])"
      ]
     },
     "execution_count": 13,
     "metadata": {},
     "output_type": "execute_result"
    }
   ],
   "source": [
    "# 4. Fit model to data\n",
    "polymodel.fit(X[:, np.newaxis], Y)"
   ]
  },
  {
   "cell_type": "code",
   "execution_count": 14,
   "metadata": {
    "id": "IUiRQc0dG2bj",
    "outputId": "6b51f045-c1a5-4ab1-c2f7-cd7a9952c3c2"
   },
   "outputs": [],
   "source": [
    "# 5. Apply model\n",
    "xfit = np.linspace(min(X), max(X), 100)\n",
    "yfit = polymodel.predict(xfit[:, np.newaxis])"
   ]
  },
  {
   "cell_type": "code",
   "execution_count": 15,
   "metadata": {
    "id": "IUiRQc0dG2bj",
    "outputId": "6b51f045-c1a5-4ab1-c2f7-cd7a9952c3c2"
   },
   "outputs": [
    {
     "data": {
      "image/png": "[encoded data removed]",
      "text/plain": [
       "<Figure size 432x288 with 1 Axes>"
      ]
     },
     "metadata": {
      "needs_background": "light"
     },
     "output_type": "display_data"
    }
   ],
   "source": [
    "# Plot\n",
    "fig, ax = plt.subplots()\n",
    "ax.scatter(X, Y, c='black')\n",
    "ax.set_xlabel(\"Healthy life expectancy at birth\")\n",
    "ax.set_ylabel(\"Life Ladder\")\n",
    "ax.plot(xfit, yfit, c='red');\n",
    "plt.show()"
   ]
  },
  {
   "cell_type": "markdown",
   "metadata": {
    "id": "LFP7zMXLG2bk"
   },
   "source": [
    "<h3> Evaluate the model </h3>\n",
    "\n",
    "Should we use Linear or Polynomial regression to model the relationship between Life expectancy and Happiness? \n",
    "\n",
    "Let us use historic data (2016) and try to predict Happiness (Life Ladder) in 2017 using a Linear or Polynomial regression to model. To quantify which model predicts better the relationship between Life expectancy and Happiness in 2017 we will compute the mean square error (MSE) and the coefficient of determination (R2) score between the real data in 2017 and our prediction.\n",
    "\n",
    "Notice that now we are considering explicitelly a train, validation (2016 data) and testing set (2017 data)."
   ]
  },
  {
   "cell_type": "code",
   "execution_count": 16,
   "metadata": {
    "id": "MWJ7VhZdG2bk",
    "outputId": "b55d3c95-72ef-4f81-99c4-7e258bd886c0"
   },
   "outputs": [
    {
     "name": "stdout",
     "output_type": "stream",
     "text": [
      "Mean squared error - Validation: 0.57\n",
      "Variance score - Validation: 0.53\n",
      "Mean squared error - Test: 0.52\n",
      "Variance score - Test: 0.59\n"
     ]
    }
   ],
   "source": [
    "# Calculate MSE and R2\n",
    "from sklearn.metrics import mean_squared_error, r2_score\n",
    "\n",
    "# Split the data into train-validation-test sets\n",
    "\n",
    "# 2016 will be our train and validation set\n",
    "x = happinessdataframe.dropna().loc(axis=0)[:,2016][[\"Healthy life expectancy at birth\", \"Life Ladder\"]]\n",
    "\n",
    "trainSetSize = int(x[\"Healthy life expectancy at birth\"].values.size * 0.7)\n",
    "\n",
    "Xtrain = x[\"Healthy life expectancy at birth\"].values[:trainSetSize]\n",
    "Ytrain = x[\"Life Ladder\"].values[:trainSetSize]\n",
    "\n",
    "Xvalidate = x[\"Healthy life expectancy at birth\"].values[trainSetSize:]\n",
    "Yvalidate = x[\"Life Ladder\"].values[trainSetSize:]\n",
    "\n",
    "polymodel = make_pipeline(PolynomialFeatures(1), LinearRegression(fit_intercept=True))\n",
    "polymodel.fit(Xtrain[:, np.newaxis], Ytrain)\n",
    "\n",
    "# 2017 will be our test set\n",
    "x = happinessdataframe.dropna().loc(axis=0)[:,2017][[\"Healthy life expectancy at birth\",\"Life Ladder\"]]\n",
    "\n",
    "Xtest = x[\"Healthy life expectancy at birth\"].values\n",
    "Ytest = x[\"Life Ladder\"].values\n",
    "\n",
    "YPredictionValidate = polymodel.predict(Xvalidate[:, np.newaxis])\n",
    "YPredictionTest = polymodel.predict(Xtest[:, np.newaxis])\n",
    "\n",
    "# The mean squared error\n",
    "print(\"Mean squared error - Validation: %.2f\" % mean_squared_error(Yvalidate, YPredictionValidate))\n",
    "# Explained variance score: 1 is perfect prediction\n",
    "print('Variance score - Validation: %.2f' % r2_score(Yvalidate, YPredictionValidate))\n",
    "\n",
    "# The mean squared error\n",
    "print(\"Mean squared error - Test: %.2f\" % mean_squared_error(Ytest, YPredictionTest))\n",
    "# Explained variance score: 1 is perfect prediction\n",
    "print('Variance score - Test: %.2f' % r2_score(Ytest, YPredictionTest))"
   ]
  },
  {
   "cell_type": "markdown",
   "metadata": {
    "id": "GaOstLdrG2bk"
   },
   "source": [
    "**Q3: The previous evaluation metrics refer to a Linear regression (note the *PolynomialFeatures(1)*). What are the mean squared error and coefficient of determination (R2) if we apply a polynomial regression of degree 2? Does that mean that we should opt for a linear or polynomial regression, to model the relationship between Life expectancy and Happiness?**\n",
    "\n",
    "Expected output: MSE and R2 (aka coefficient of determination or variance score) associated with the polynomial regression with degree 2."
   ]
  },
  {
   "cell_type": "code",
   "execution_count": 17,
   "metadata": {
    "id": "Pfcqhn2xG2bk",
    "outputId": "5c558e83-a813-448b-a8a2-06bf035e1ddb"
   },
   "outputs": [
    {
     "name": "stdout",
     "output_type": "stream",
     "text": [
      "Mean squared error - Validation: 0.57\n",
      "Variance score - Validation: 0.53\n",
      "Mean squared error - Test: 0.52\n",
      "Variance score - Test: 0.59\n"
     ]
    }
   ],
   "source": [
    "polymodel = make_pipeline(PolynomialFeatures(2), LinearRegression(fit_intercept=True))\n",
    "polymodel.fit(Xtrain[:, np.newaxis], Ytrain)\n",
    "# The mean squared error\n",
    "print(\"Mean squared error - Validation: %.2f\" % mean_squared_error(Yvalidate, YPredictionValidate))\n",
    "# Explained variance score: 1 is perfect prediction\n",
    "print('Variance score - Validation: %.2f' % r2_score(Yvalidate, YPredictionValidate))\n",
    "\n",
    "# The mean squared error\n",
    "print(\"Mean squared error - Test: %.2f\" % mean_squared_error(Ytest, YPredictionTest))\n",
    "# Explained variance score: 1 is perfect prediction\n",
    "print('Variance score - Test: %.2f' % r2_score(Ytest, YPredictionTest))"
   ]
  },
  {
   "cell_type": "markdown",
   "metadata": {
    "id": "CYFS3kqDG2bl"
   },
   "source": [
    "**Q4: 1) Create a regression model to capture the relationship between 'Freedom to make life choices' and 'Perception of corruption' in 2017. 2) Do a scatter plot with the corresponding data and regression line. Which order of polynomial basis better capture the relationship between Freedom to make life choices and Perception of corruption in 2017?**\n",
    "\n",
    "Expected output: You can check visually which order better captures the relationship in data (try order 1 to, say, 5); alternativelly, calculate the MSE and R2 associated with each order."
   ]
  },
  {
   "cell_type": "code",
   "execution_count": 18,
   "metadata": {},
   "outputs": [
    {
     "data": {
      "image/png": "[encoded data removed]",
      "text/plain": [
       "<Figure size 432x288 with 1 Axes>"
      ]
     },
     "metadata": {
      "needs_background": "light"
     },
     "output_type": "display_data"
    }
   ],
   "source": [
    "freedom = \"Freedom to make life choices\"\n",
    "corruption = \"Perceptions of corruption\"\n",
    "x = happinessdataframe.dropna().loc(axis=0)[:,2017][[freedom,corruption]]\n",
    "x.plot.scatter(x=freedom, y=corruption,c='black')\n",
    "plt.show()"
   ]
  },
  {
   "cell_type": "code",
   "execution_count": 19,
   "metadata": {
    "id": "hhyAOpS4G2bl",
    "outputId": "f46ca8b9-b71a-4b18-c390-ecf3e8647771",
    "scrolled": true
   },
   "outputs": [
    {
     "data": {
      "image/png": "[encoded data removed]",
      "text/plain": [
       "<Figure size 720x2160 with 5 Axes>"
      ]
     },
     "metadata": {
      "needs_background": "light"
     },
     "output_type": "display_data"
    }
   ],
   "source": [
    "x = happinessdataframe.dropna().loc(axis=0)[:,2017][[freedom,corruption]]\n",
    "fig, ax = plt.subplots(5,1, figsize=(10,30))\n",
    "for i in range(5):\n",
    "    # 1 - Select model, Polynomial and linear.\n",
    "    # 2 - Hypter parameters\n",
    "    polymodel = make_pipeline(PolynomialFeatures(i+1), LinearRegression())\n",
    "   \n",
    "    # 3 - Arrange data\n",
    "    X = x[freedom].values\n",
    "    Y = x[corruption].values\n",
    "    \n",
    "    # 4 - Fit\n",
    "    polymodel.fit(X[:,np.newaxis], Y)\n",
    "\n",
    "    # 5 - Apply model\n",
    "    xfit = np.linspace(min(X), max(X), 100)\n",
    "    yfit = polymodel.predict(xfit[:, np.newaxis])\n",
    "\n",
    "    # 6 - Plot\n",
    "    ax[i].scatter(X, Y, c='black')\n",
    "    ax[i].set_xlabel(freedom)\n",
    "    ax[i].set_ylabel(corruption)\n",
    "    ax[i].plot(xfit, yfit, c='red', label=f'PolynomialFeatures {i+1}')\n",
    "    ax[i].legend(loc=3)\n",
    "plt.show()"
   ]
  },
  {
   "cell_type": "markdown",
   "metadata": {
    "id": "-Ko30bQzG2bl"
   },
   "source": [
    "It is time-consuming to test all (hyper)parameters by hand.\n",
    "\n",
    "Fortunatelly, Scikit-learn offers the option to do a grid search over many parameters and select the best one:"
   ]
  },
  {
   "cell_type": "code",
   "execution_count": 71,
   "metadata": {
    "id": "ZjoUdibZG2bm",
    "outputId": "8bb76de0-df01-4c1d-96c1-64798f89b595"
   },
   "outputs": [
    {
     "data": {
      "text/plain": [
       "{'linearregression__fit_intercept': True,\n",
       " 'linearregression__normalize': False,\n",
       " 'polynomialfeatures__degree': 8}"
      ]
     },
     "execution_count": 71,
     "metadata": {},
     "output_type": "execute_result"
    }
   ],
   "source": [
    "from sklearn.model_selection import GridSearchCV\n",
    "\n",
    "param_grid = {'polynomialfeatures__degree': np.arange(21),\n",
    "              'linearregression__fit_intercept': [True, False],\n",
    "              'linearregression__normalize': [True, False]}\n",
    "\n",
    "model = make_pipeline(PolynomialFeatures(4), LinearRegression(fit_intercept=True))\n",
    "\n",
    "grid = GridSearchCV(model, param_grid, cv=7)\n",
    "\n",
    "grid.fit(Xtrain[:, np.newaxis], Ytrain);\n",
    "\n",
    "grid.best_params_"
   ]
  },
  {
   "cell_type": "markdown",
   "metadata": {
    "id": "784_CD9XG2bm"
   },
   "source": [
    "**Q5: Can you understand how GridSearchCV operates and the meaning of its output?**\n",
    "\n",
    "Expected outcome: Two sentences explaining or point to relevant documentation. Understand your answer."
   ]
  },
  {
   "cell_type": "code",
   "execution_count": null,
   "metadata": {
    "id": "BMgxPOueG2bm"
   },
   "outputs": [],
   "source": [
    "# Gridsearch attempts "
   ]
  },
  {
   "cell_type": "markdown",
   "metadata": {},
   "source": [
    "Using GridSearchCV also highlights the need to have a *train*, *validate* and *test* set. \n",
    "\n",
    "Note that when applying GridSearchCV we are using a parameter cv=7. That parameter determines the cross-validation splitting strategy. That means that we are sussessivelly dividing our data in a train and validation set, in order to train the model and evaluate the performance of a specific combination of parameters. The final valitation for the model, however, must be performed a test set — that is, a test that was never using during the training or validation."
   ]
  },
  {
   "cell_type": "markdown",
   "metadata": {
    "id": "NzYQrUjGG2bm"
   },
   "source": [
    "<h1><center> Part II: Classification (Naive Bayes) with Scikit-learn </center></h1>"
   ]
  },
  {
   "cell_type": "markdown",
   "metadata": {
    "id": "ZeL4Kd11G2bm"
   },
   "source": [
    "Previously we applied Regression methods given a structured dataset. We will now apply classification methods to an unstructured (text) dataset. Notice that instead of having continuous targets we will have discrete categorical targets. \n",
    "\n",
    "We will use as example the (quite famous) [Newsgroup](http://qwone.com/~jason/20Newsgroups/) dataset. The [20 Newsgroups collection](http://qwone.com/~jason/20Newsgroups/) has become a popular data set for experiments in text applications of machine learning techniques, such as text classification and text clustering. This example will be based on the [Scikit documentation](https://scikit-learn.org/stable/tutorial/text_analytics/working_with_text_data.html). \n",
    "\n",
    "The main goals of the following section are to have you experiment your skills with unstructured data (text), play with feature engineering in text and apply a classifcation algorithm (Naive Bayes). \n",
    "\n",
    "**The examples and exercises will be important to also gain insights on how to work with the data in the Assignment 1.**"
   ]
  },
  {
   "cell_type": "code",
   "execution_count": 21,
   "metadata": {
    "id": "H999zGL1G2bm"
   },
   "outputs": [],
   "source": [
    "# import newsgroup dataset from sklearn datasets\n",
    "from sklearn.datasets import fetch_20newsgroups\n",
    "\n",
    "# select the categories of interest\n",
    "categories = ['alt.atheism', 'soc.religion.christian', 'comp.graphics', 'sci.med']\n",
    "\n",
    "# sample a training set\n",
    "twenty_train = fetch_20newsgroups(subset='train', categories=categories, shuffle=True, random_state=42)"
   ]
  },
  {
   "cell_type": "code",
   "execution_count": 22,
   "metadata": {
    "id": "QpbGgQz2G2bn",
    "outputId": "327a29e4-aa88-47e4-c5c1-4e469045ea31"
   },
   "outputs": [
    {
     "data": {
      "text/plain": [
       "['From: s0612596@let.rug.nl (M.M. Zwart)',\n",
       " 'Subject: catholic church poland',\n",
       " 'Organization: Faculteit der Letteren, Rijksuniversiteit Groningen, NL',\n",
       " 'Lines: 10',\n",
       " '',\n",
       " 'Hello,',\n",
       " '',\n",
       " \"I'm writing a paper on the role of the catholic church in Poland after 1989. \",\n",
       " 'Can anyone tell me more about this, or fill me in on recent books/articles(',\n",
       " 'in english, german or french). Most important for me is the role of the ',\n",
       " 'church concerning the abortion-law, religious education at schools,',\n",
       " 'birth-control and the relation church-state(government). Thanx,',\n",
       " '',\n",
       " '                                                 Masja,',\n",
       " '\"M.M.Zwart\"<s0612596@let.rug.nl>',\n",
       " '']"
      ]
     },
     "execution_count": 22,
     "metadata": {},
     "output_type": "execute_result"
    }
   ],
   "source": [
    "# twenty_train.data stores the text of each post; as an example, check the example in position [3]\n",
    "twenty_train.data[3].split('\\n')"
   ]
  },
  {
   "cell_type": "code",
   "execution_count": 23,
   "metadata": {
    "id": "J1ujPYFMG2bn",
    "outputId": "e4bcc59b-c068-4b2e-8025-14e757b8ef40"
   },
   "outputs": [
    {
     "data": {
      "text/plain": [
       "array([1, 1, 3, ..., 2, 2, 2], dtype=int64)"
      ]
     },
     "execution_count": 23,
     "metadata": {},
     "output_type": "execute_result"
    }
   ],
   "source": [
    "# twenty_train.target stores the class of each post; note that for efficiency reasons (e.g., compare int or string) \n",
    "# classes are stored as integer\n",
    "twenty_train.target"
   ]
  },
  {
   "cell_type": "code",
   "execution_count": 24,
   "metadata": {
    "id": "h3EaUlsgG2bn",
    "outputId": "c31abf50-e48c-43b7-c825-e1ae0946ad94"
   },
   "outputs": [
    {
     "data": {
      "text/plain": [
       "'soc.religion.christian'"
      ]
     },
     "execution_count": 24,
     "metadata": {},
     "output_type": "execute_result"
    }
   ],
   "source": [
    "# we can check the target name; clearly the previous post belongs to category religion\n",
    "twenty_train.target_names[twenty_train.target[3]]"
   ]
  },
  {
   "cell_type": "markdown",
   "metadata": {
    "id": "X0bk7QWKG2bn"
   },
   "source": [
    "<h3>Feature Engineering</h3>\n",
    "\n",
    "To create a feature vector from unstructured text, we will encode *text* as *numbers* by performing simple word counting. We will assign each word to a numerical *id* and count the occurrence of each word. We can easily perform such task by using the *CountVectorizer* class included in Scikit learn:"
   ]
  },
  {
   "cell_type": "code",
   "execution_count": 25,
   "metadata": {
    "id": "JeiOmKeVG2bn",
    "outputId": "17de8e9a-3706-4a64-baf8-a7c13fe42961"
   },
   "outputs": [
    {
     "data": {
      "text/plain": [
       "<2257x35788 sparse matrix of type '<class 'numpy.int64'>'\n",
       "\twith 365886 stored elements in Compressed Sparse Row format>"
      ]
     },
     "execution_count": 25,
     "metadata": {},
     "output_type": "execute_result"
    }
   ],
   "source": [
    "# Feature Engineering:\n",
    "from sklearn.feature_extraction.text import CountVectorizer\n",
    "count_vect = CountVectorizer()\n",
    "X_train_counts = count_vect.fit_transform(twenty_train.data)\n",
    "X_train_counts"
   ]
  },
  {
   "cell_type": "markdown",
   "metadata": {
    "id": "-Rp9LcjuG2bo"
   },
   "source": [
    "**Q6: The result above is a sparse matrix: why is it efficient to represent the number of times each word appears as a sparse matrix? (Sparse matrix: matrix which contains very few non-zero elements)**\n",
    "\n",
    "Expected outcome: Two sentences explaining or point to relevant documentation. Understand your answer."
   ]
  },
  {
   "cell_type": "code",
   "execution_count": null,
   "metadata": {
    "id": "4tb3Wmx_G2bo"
   },
   "outputs": [],
   "source": [
    "\n"
   ]
  },
  {
   "cell_type": "code",
   "execution_count": 26,
   "metadata": {
    "id": "17-8B3zHG2bo",
    "outputId": "fa785f0b-1524-4bc6-c33c-3bfeb6db8da1"
   },
   "outputs": [
    {
     "data": {
      "text/html": [
       "<div>\n",
       "<style scoped>\n",
       "    .dataframe tbody tr th:only-of-type {\n",
       "        vertical-align: middle;\n",
       "    }\n",
       "\n",
       "    .dataframe tbody tr th {\n",
       "        vertical-align: top;\n",
       "    }\n",
       "\n",
       "    .dataframe thead th {\n",
       "        text-align: right;\n",
       "    }\n",
       "</style>\n",
       "<table border=\"1\" class=\"dataframe\">\n",
       "  <thead>\n",
       "    <tr style=\"text-align: right;\">\n",
       "      <th></th>\n",
       "      <th>00</th>\n",
       "      <th>000</th>\n",
       "      <th>0000</th>\n",
       "      <th>0000001200</th>\n",
       "      <th>000005102000</th>\n",
       "      <th>0001</th>\n",
       "      <th>000100255pixel</th>\n",
       "      <th>00014</th>\n",
       "      <th>000406</th>\n",
       "      <th>0007</th>\n",
       "      <th>...</th>\n",
       "      <th>zvi</th>\n",
       "      <th>zvonko</th>\n",
       "      <th>zwart</th>\n",
       "      <th>zyeh</th>\n",
       "      <th>zyklon</th>\n",
       "      <th>zyxel</th>\n",
       "      <th>zz</th>\n",
       "      <th>zzz</th>\n",
       "      <th>ªl</th>\n",
       "      <th>íålittin</th>\n",
       "    </tr>\n",
       "  </thead>\n",
       "  <tbody>\n",
       "    <tr>\n",
       "      <th>0</th>\n",
       "      <td>0</td>\n",
       "      <td>0</td>\n",
       "      <td>0</td>\n",
       "      <td>0</td>\n",
       "      <td>0</td>\n",
       "      <td>0</td>\n",
       "      <td>0</td>\n",
       "      <td>0</td>\n",
       "      <td>0</td>\n",
       "      <td>0</td>\n",
       "      <td>...</td>\n",
       "      <td>0</td>\n",
       "      <td>0</td>\n",
       "      <td>0</td>\n",
       "      <td>0</td>\n",
       "      <td>0</td>\n",
       "      <td>0</td>\n",
       "      <td>0</td>\n",
       "      <td>0</td>\n",
       "      <td>0</td>\n",
       "      <td>0</td>\n",
       "    </tr>\n",
       "    <tr>\n",
       "      <th>1</th>\n",
       "      <td>0</td>\n",
       "      <td>0</td>\n",
       "      <td>0</td>\n",
       "      <td>0</td>\n",
       "      <td>0</td>\n",
       "      <td>0</td>\n",
       "      <td>0</td>\n",
       "      <td>0</td>\n",
       "      <td>0</td>\n",
       "      <td>0</td>\n",
       "      <td>...</td>\n",
       "      <td>0</td>\n",
       "      <td>0</td>\n",
       "      <td>0</td>\n",
       "      <td>0</td>\n",
       "      <td>0</td>\n",
       "      <td>0</td>\n",
       "      <td>0</td>\n",
       "      <td>0</td>\n",
       "      <td>0</td>\n",
       "      <td>0</td>\n",
       "    </tr>\n",
       "    <tr>\n",
       "      <th>2</th>\n",
       "      <td>0</td>\n",
       "      <td>0</td>\n",
       "      <td>0</td>\n",
       "      <td>0</td>\n",
       "      <td>0</td>\n",
       "      <td>0</td>\n",
       "      <td>0</td>\n",
       "      <td>0</td>\n",
       "      <td>0</td>\n",
       "      <td>0</td>\n",
       "      <td>...</td>\n",
       "      <td>0</td>\n",
       "      <td>0</td>\n",
       "      <td>0</td>\n",
       "      <td>0</td>\n",
       "      <td>0</td>\n",
       "      <td>0</td>\n",
       "      <td>0</td>\n",
       "      <td>0</td>\n",
       "      <td>0</td>\n",
       "      <td>0</td>\n",
       "    </tr>\n",
       "    <tr>\n",
       "      <th>3</th>\n",
       "      <td>0</td>\n",
       "      <td>0</td>\n",
       "      <td>0</td>\n",
       "      <td>0</td>\n",
       "      <td>0</td>\n",
       "      <td>0</td>\n",
       "      <td>0</td>\n",
       "      <td>0</td>\n",
       "      <td>0</td>\n",
       "      <td>0</td>\n",
       "      <td>...</td>\n",
       "      <td>0</td>\n",
       "      <td>0</td>\n",
       "      <td>2</td>\n",
       "      <td>0</td>\n",
       "      <td>0</td>\n",
       "      <td>0</td>\n",
       "      <td>0</td>\n",
       "      <td>0</td>\n",
       "      <td>0</td>\n",
       "      <td>0</td>\n",
       "    </tr>\n",
       "    <tr>\n",
       "      <th>4</th>\n",
       "      <td>1</td>\n",
       "      <td>0</td>\n",
       "      <td>0</td>\n",
       "      <td>0</td>\n",
       "      <td>0</td>\n",
       "      <td>0</td>\n",
       "      <td>0</td>\n",
       "      <td>0</td>\n",
       "      <td>0</td>\n",
       "      <td>0</td>\n",
       "      <td>...</td>\n",
       "      <td>0</td>\n",
       "      <td>0</td>\n",
       "      <td>0</td>\n",
       "      <td>0</td>\n",
       "      <td>0</td>\n",
       "      <td>0</td>\n",
       "      <td>0</td>\n",
       "      <td>0</td>\n",
       "      <td>0</td>\n",
       "      <td>0</td>\n",
       "    </tr>\n",
       "    <tr>\n",
       "      <th>...</th>\n",
       "      <td>...</td>\n",
       "      <td>...</td>\n",
       "      <td>...</td>\n",
       "      <td>...</td>\n",
       "      <td>...</td>\n",
       "      <td>...</td>\n",
       "      <td>...</td>\n",
       "      <td>...</td>\n",
       "      <td>...</td>\n",
       "      <td>...</td>\n",
       "      <td>...</td>\n",
       "      <td>...</td>\n",
       "      <td>...</td>\n",
       "      <td>...</td>\n",
       "      <td>...</td>\n",
       "      <td>...</td>\n",
       "      <td>...</td>\n",
       "      <td>...</td>\n",
       "      <td>...</td>\n",
       "      <td>...</td>\n",
       "      <td>...</td>\n",
       "    </tr>\n",
       "    <tr>\n",
       "      <th>2252</th>\n",
       "      <td>0</td>\n",
       "      <td>0</td>\n",
       "      <td>0</td>\n",
       "      <td>0</td>\n",
       "      <td>0</td>\n",
       "      <td>0</td>\n",
       "      <td>0</td>\n",
       "      <td>1</td>\n",
       "      <td>0</td>\n",
       "      <td>0</td>\n",
       "      <td>...</td>\n",
       "      <td>0</td>\n",
       "      <td>0</td>\n",
       "      <td>0</td>\n",
       "      <td>0</td>\n",
       "      <td>0</td>\n",
       "      <td>0</td>\n",
       "      <td>0</td>\n",
       "      <td>0</td>\n",
       "      <td>0</td>\n",
       "      <td>0</td>\n",
       "    </tr>\n",
       "    <tr>\n",
       "      <th>2253</th>\n",
       "      <td>0</td>\n",
       "      <td>0</td>\n",
       "      <td>0</td>\n",
       "      <td>0</td>\n",
       "      <td>0</td>\n",
       "      <td>0</td>\n",
       "      <td>0</td>\n",
       "      <td>0</td>\n",
       "      <td>0</td>\n",
       "      <td>0</td>\n",
       "      <td>...</td>\n",
       "      <td>0</td>\n",
       "      <td>0</td>\n",
       "      <td>0</td>\n",
       "      <td>0</td>\n",
       "      <td>0</td>\n",
       "      <td>0</td>\n",
       "      <td>0</td>\n",
       "      <td>0</td>\n",
       "      <td>0</td>\n",
       "      <td>0</td>\n",
       "    </tr>\n",
       "    <tr>\n",
       "      <th>2254</th>\n",
       "      <td>0</td>\n",
       "      <td>0</td>\n",
       "      <td>0</td>\n",
       "      <td>0</td>\n",
       "      <td>0</td>\n",
       "      <td>0</td>\n",
       "      <td>0</td>\n",
       "      <td>0</td>\n",
       "      <td>0</td>\n",
       "      <td>0</td>\n",
       "      <td>...</td>\n",
       "      <td>0</td>\n",
       "      <td>0</td>\n",
       "      <td>0</td>\n",
       "      <td>0</td>\n",
       "      <td>0</td>\n",
       "      <td>0</td>\n",
       "      <td>0</td>\n",
       "      <td>0</td>\n",
       "      <td>0</td>\n",
       "      <td>0</td>\n",
       "    </tr>\n",
       "    <tr>\n",
       "      <th>2255</th>\n",
       "      <td>0</td>\n",
       "      <td>0</td>\n",
       "      <td>0</td>\n",
       "      <td>0</td>\n",
       "      <td>0</td>\n",
       "      <td>0</td>\n",
       "      <td>0</td>\n",
       "      <td>0</td>\n",
       "      <td>0</td>\n",
       "      <td>0</td>\n",
       "      <td>...</td>\n",
       "      <td>0</td>\n",
       "      <td>0</td>\n",
       "      <td>0</td>\n",
       "      <td>0</td>\n",
       "      <td>0</td>\n",
       "      <td>0</td>\n",
       "      <td>0</td>\n",
       "      <td>0</td>\n",
       "      <td>0</td>\n",
       "      <td>0</td>\n",
       "    </tr>\n",
       "    <tr>\n",
       "      <th>2256</th>\n",
       "      <td>0</td>\n",
       "      <td>0</td>\n",
       "      <td>0</td>\n",
       "      <td>0</td>\n",
       "      <td>0</td>\n",
       "      <td>0</td>\n",
       "      <td>0</td>\n",
       "      <td>0</td>\n",
       "      <td>0</td>\n",
       "      <td>0</td>\n",
       "      <td>...</td>\n",
       "      <td>0</td>\n",
       "      <td>0</td>\n",
       "      <td>0</td>\n",
       "      <td>0</td>\n",
       "      <td>0</td>\n",
       "      <td>0</td>\n",
       "      <td>0</td>\n",
       "      <td>0</td>\n",
       "      <td>0</td>\n",
       "      <td>0</td>\n",
       "    </tr>\n",
       "  </tbody>\n",
       "</table>\n",
       "<p>2257 rows × 35788 columns</p>\n",
       "</div>"
      ],
      "text/plain": [
       "      00  000  0000  0000001200  000005102000  0001  000100255pixel  00014  \\\n",
       "0      0    0     0           0             0     0               0      0   \n",
       "1      0    0     0           0             0     0               0      0   \n",
       "2      0    0     0           0             0     0               0      0   \n",
       "3      0    0     0           0             0     0               0      0   \n",
       "4      1    0     0           0             0     0               0      0   \n",
       "...   ..  ...   ...         ...           ...   ...             ...    ...   \n",
       "2252   0    0     0           0             0     0               0      1   \n",
       "2253   0    0     0           0             0     0               0      0   \n",
       "2254   0    0     0           0             0     0               0      0   \n",
       "2255   0    0     0           0             0     0               0      0   \n",
       "2256   0    0     0           0             0     0               0      0   \n",
       "\n",
       "      000406  0007  ...  zvi  zvonko  zwart  zyeh  zyklon  zyxel  zz  zzz  ªl  \\\n",
       "0          0     0  ...    0       0      0     0       0      0   0    0   0   \n",
       "1          0     0  ...    0       0      0     0       0      0   0    0   0   \n",
       "2          0     0  ...    0       0      0     0       0      0   0    0   0   \n",
       "3          0     0  ...    0       0      2     0       0      0   0    0   0   \n",
       "4          0     0  ...    0       0      0     0       0      0   0    0   0   \n",
       "...      ...   ...  ...  ...     ...    ...   ...     ...    ...  ..  ...  ..   \n",
       "2252       0     0  ...    0       0      0     0       0      0   0    0   0   \n",
       "2253       0     0  ...    0       0      0     0       0      0   0    0   0   \n",
       "2254       0     0  ...    0       0      0     0       0      0   0    0   0   \n",
       "2255       0     0  ...    0       0      0     0       0      0   0    0   0   \n",
       "2256       0     0  ...    0       0      0     0       0      0   0    0   0   \n",
       "\n",
       "      íålittin  \n",
       "0            0  \n",
       "1            0  \n",
       "2            0  \n",
       "3            0  \n",
       "4            0  \n",
       "...        ...  \n",
       "2252         0  \n",
       "2253         0  \n",
       "2254         0  \n",
       "2255         0  \n",
       "2256         0  \n",
       "\n",
       "[2257 rows x 35788 columns]"
      ]
     },
     "execution_count": 26,
     "metadata": {},
     "output_type": "execute_result"
    }
   ],
   "source": [
    "# let us check the contents of the word matrix:\n",
    "import pandas as pd\n",
    "pd.DataFrame(X_train_counts.toarray(), columns=count_vect.get_feature_names())"
   ]
  },
  {
   "cell_type": "code",
   "execution_count": 27,
   "metadata": {
    "id": "T-JjslizG2bo",
    "outputId": "d2002e8a-27b6-4d24-c545-ec70e7c877cc"
   },
   "outputs": [
    {
     "name": "stdout",
     "output_type": "stream",
     "text": [
      "'God is love' => soc.religion.christian\n",
      "'OpenGL on the GPU is fast' => comp.graphics\n",
      "'Help with printer' => comp.graphics\n",
      "'My knee hurts' => sci.med\n"
     ]
    }
   ],
   "source": [
    "# We now apply the (Multinomial) Naive Bayes; \n",
    "\n",
    "# Remember the 5 steps we need to apply...\n",
    "\n",
    "# 1. Select model and import it\n",
    "from sklearn.naive_bayes import MultinomialNB\n",
    "\n",
    "# 2. Select model hyperparameters; alpha is a smoothing parameter\n",
    "model = MultinomialNB(alpha=10)\n",
    "\n",
    "# 3. Arrange data in feature matrix / perform feature engineering\n",
    "count_vect = CountVectorizer()\n",
    "X_train_counts = count_vect.fit_transform(twenty_train.data)\n",
    "Y = twenty_train.target\n",
    "\n",
    "# 4. Fit model to data\n",
    "clf = model.fit(X_train_counts, Y)\n",
    "\n",
    "# 5. Apply model to new examples\n",
    "docs_new = ['God is love', 'OpenGL on the GPU is fast','Help with printer','My knee hurts']\n",
    "\n",
    "X_new_counts = count_vect.transform(docs_new)\n",
    "\n",
    "predicted = clf.predict(X_new_counts)\n",
    "\n",
    "for doc, category in zip(docs_new, predicted):\n",
    "    print('%r => %s' % (doc, twenty_train.target_names[category]))"
   ]
  },
  {
   "cell_type": "markdown",
   "metadata": {
    "id": "WMkPdh0uG2bo"
   },
   "source": [
    "<h3>Model validation</h3>\n",
    "\n",
    "We created a model trained on previous examples of text and categories and applied it to new example. \n",
    "\n",
    "In general, how *good* is our model? Here we will validate the model we created and understand how to tune it to perform better.\n",
    "\n",
    "We will use the **TfidfTransformer**: this will transform a count matrix to a normalized tf or tf-idf representation; *Tf* means term-frequency while *tf-idf* means term-frequency times inverse document-frequency. This is a common term weighting scheme in information retrieval, that has also found good use in document classification. The goal of using tf-idf instead of the raw frequencies of occurrence of a token in a given document (as in the previous example) is to scale down the impact of tokens that occur very frequently in a given corpus and that are hence empirically less informative than features that occur in a small fraction of the training corpus. If needed, more info [here](https://scikit-learn.org/stable/modules/generated/sklearn.feature_extraction.text.TfidfTransformer.html). "
   ]
  },
  {
   "cell_type": "code",
   "execution_count": 69,
   "metadata": {
    "id": "H1BudYQ8G2bp",
    "outputId": "7151385a-faad-46a7-e1c9-718c9ba99470"
   },
   "outputs": [
    {
     "data": {
      "text/plain": [
       "0.8348868175765646"
      ]
     },
     "execution_count": 69,
     "metadata": {},
     "output_type": "execute_result"
    }
   ],
   "source": [
    "from sklearn.pipeline import Pipeline\n",
    "from sklearn.feature_extraction.text import TfidfTransformer\n",
    "\n",
    "text_clf = Pipeline([\n",
    "    ('vect', CountVectorizer()),\n",
    "    ('tfidf', TfidfTransformer()),\n",
    "    ('clf', MultinomialNB(alpha=1))])\n",
    "\n",
    "text_clf.fit(twenty_train.data, twenty_train.target)\n",
    "\n",
    "# create a test set -> this is a set different than the train set\n",
    "twenty_test = fetch_20newsgroups(subset='test', categories=categories, shuffle=True, random_state=42)\n",
    "docs_test = twenty_test.data\n",
    "predicted = text_clf.predict(docs_test)\n",
    "\n",
    "#in out many examples if our model guessing the right post category?\n",
    "np.mean(predicted == twenty_test.target)"
   ]
  },
  {
   "cell_type": "markdown",
   "metadata": {
    "id": "yG7XOc3CG2bp"
   },
   "source": [
    "In the example above we are computing model accuracy, as the fraction of correctly predicted text classes.\n",
    "\n",
    "In general, we can distinguish between the number of examples belonging to each class that that are correctly or incorrectly classified; this leads to the so-called *confusion matrix* (see section 4.4.3 of ISLR or chapter [Introducing Scikit-learn](https://jakevdp.github.io/PythonDataScienceHandbook/05.02-introducing-scikit-learn.html) of PDSH):"
   ]
  },
  {
   "cell_type": "code",
   "execution_count": 29,
   "metadata": {
    "id": "zJf0ZkqCG2bp",
    "outputId": "1df61f60-10c8-4068-c858-8284f9f40351"
   },
   "outputs": [
    {
     "name": "stdout",
     "output_type": "stream",
     "text": [
      "[[192   2   6 119]\n",
      " [  2 347   4  36]\n",
      " [  2  11 322  61]\n",
      " [  2   2   1 393]]\n"
     ]
    },
    {
     "data": {
      "image/png": "[encoded data removed]",
      "text/plain": [
       "<Figure size 432x288 with 1 Axes>"
      ]
     },
     "metadata": {
      "needs_background": "light"
     },
     "output_type": "display_data"
    }
   ],
   "source": [
    "from sklearn.metrics import confusion_matrix\n",
    "\n",
    "mat = confusion_matrix(twenty_test.target, predicted)\n",
    "\n",
    "print(mat)\n",
    "\n",
    "fig, ax = plt.subplots()\n",
    "ax.imshow(mat, cmap='viridis', interpolation='nearest')\n",
    "ax.set_xlabel('predicted value')\n",
    "ax.set_ylabel('true value');\n",
    "ax.set_xticks([0,1,2,3])\n",
    "ax.set_yticks([0,1,2,3])\n",
    "ax.set_xticklabels(categories, rotation='vertical')\n",
    "ax.set_yticklabels(categories)\n",
    "\n",
    "# Loop over data to create text annotations.\n",
    "for i in range(len(mat)):\n",
    "    for j in range(len(mat)):\n",
    "        text = ax.text(j, i, mat[i, j],\n",
    "                       ha=\"center\", va=\"center\", color=\"w\")\n",
    "plt.show()"
   ]
  },
  {
   "cell_type": "markdown",
   "metadata": {
    "id": "RRGn6AIFG2bp"
   },
   "source": [
    "**Q6.1: How many times are texts classified as med? (Positives - P)**\n",
    "\n",
    "**Q6.2: How many times are texts not classified as med? (Negatives - N)**\n",
    "\n",
    "**Q6.3: How many times are texts belonging to category med correctly classified? (True Positives - TP)**\n",
    "\n",
    "**Q6.4: How many times are texts belonging to category med wrongly classified? (False Negative - FN)**\n",
    "\n",
    "**Q6.5: How many times are texts not belonging to category med correctly classified as not being med? (True Negatives - TN)**\n",
    "\n",
    "**Q6.6: What is the sensitivity of this model associated with class med? (Sensitivity = TP/P)** \n",
    "\n",
    "**Q6.7: What is the specificity of this model associated with class christian? (Specificity = TN/N)**\n",
    "\n",
    "Expected output: one numerical value for each question."
   ]
  },
  {
   "cell_type": "code",
   "execution_count": 68,
   "metadata": {},
   "outputs": [
    {
     "name": "stdout",
     "output_type": "stream",
     "text": [
      "Positives 609\n",
      "Negatives 893\n",
      "True positives 393\n",
      "False negatives 5\n",
      "True negatives 888\n",
      "Sensitivity 0.9874371859296482\n",
      "Specificity 0.8043478260869565\n"
     ]
    }
   ],
   "source": [
    "p = np.sum(mat[:,3])\n",
    "n = np.sum(mat[:,:3])\n",
    "tp = mat[3,3]\n",
    "fn = np.sum(mat[3,:3])\n",
    "tn = np.sum(mat[:3,:3]) # alternatively: n - fn\n",
    "fp = np.sum(mat[:3,3])\n",
    "\n",
    "sens = tp / (tp+fn)\n",
    "spec = tn / (tn+fp)\n",
    "\n",
    "print(f'Positives {p}')\n",
    "print(f'Negatives {n}')\n",
    "print(f'True positives {tp}')\n",
    "print(f'False negatives {fn}')\n",
    "print(f'True negatives {tn}')\n",
    "print(f'Sensitivity {sens}')\n",
    "print(f'Specificity {spec}')"
   ]
  },
  {
   "cell_type": "code",
   "execution_count": 64,
   "metadata": {},
   "outputs": [
    {
     "name": "stdout",
     "output_type": "stream",
     "text": [
      "                        precision    recall  f1-score   support\n",
      "\n",
      "           alt.atheism   0.969697  0.601881  0.742747       319\n",
      "soc.religion.christian   0.958564  0.892031  0.924101       389\n",
      "         comp.graphics   0.966967  0.813131  0.883402       396\n",
      "               sci.med   0.645320  0.987437  0.780536       398\n",
      "\n",
      "              accuracy                       0.834887      1502\n",
      "             macro avg   0.885137  0.823620  0.832696      1502\n",
      "          weighted avg   0.880140  0.834887  0.836812      1502\n",
      "\n"
     ]
    }
   ],
   "source": [
    "from sklearn.metrics import classification_report\n",
    "print(classification_report(twenty_test.target, predicted, target_names=categories, digits=6))"
   ]
  },
  {
   "cell_type": "markdown",
   "metadata": {
    "id": "k6TvElORG2br"
   },
   "source": [
    "**Q7: Which parameters would maximize the accuracy of our model? Remember GridSearchCV introduced above**\n",
    "\n",
    "Expected outcome: 3 values, one for each of the following parameters:\n",
    "\n",
    "- vect__ngram_range\n",
    "\n",
    "- clf__alpha\n",
    "\n",
    "- tfidf__use_idf\n",
    "\n",
    "Please check the documentation of [MultinomialNB](https://scikit-learn.org/stable/modules/generated/sklearn.naive_bayes.MultinomialNB.html) to get familiar with each of those parameters."
   ]
  },
  {
   "cell_type": "code",
   "execution_count": 101,
   "metadata": {
    "id": "UtNoqXfrG2br"
   },
   "outputs": [],
   "source": [
    "from sklearn.model_selection import GridSearchCV\n",
    "parameters = {'vect__ngram_range': [(1, 1), (1, 2), (1, 3)],\n",
    "              'clf__alpha': (1, 1e-1, 1e-2, 1e-3),\n",
    "              'tfidf__use_idf': (True, False)}\n",
    "\n",
    "grid = GridSearchCV(text_clf, param_grid, cv=5)\n",
    "grid = grid.fit(twenty_train.data[:400], twenty_train.target[:400]);"
   ]
  },
  {
   "cell_type": "code",
   "execution_count": 102,
   "metadata": {
    "scrolled": true
   },
   "outputs": [
    {
     "name": "stdout",
     "output_type": "stream",
     "text": [
      "clf__alpha: 0.01\n",
      "tfidf__use_idf: True\n",
      "vect__ngram_range: (1, 2)\n"
     ]
    }
   ],
   "source": [
    "for param_name in sorted(parameters.keys()):\n",
    "    print(\"%s: %r\" % (param_name, grid.best_params_[param_name]))"
   ]
  },
  {
   "cell_type": "code",
   "execution_count": 103,
   "metadata": {},
   "outputs": [
    {
     "data": {
      "text/plain": [
       "0.9349999999999999"
      ]
     },
     "execution_count": 103,
     "metadata": {},
     "output_type": "execute_result"
    }
   ],
   "source": [
    "grid.best_score_"
   ]
  },
  {
   "cell_type": "markdown",
   "metadata": {
    "id": "V6p6AGNTG2bs"
   },
   "source": [
    "**Q8: Re-apply the best model to the examples above (docs_new); Create 4 more examples (related with categories 'alt.atheism', 'soc.religion.christian', 'comp.graphics', 'sci.med') and test the best model found in the GridSearch. Feel try to play with other examples of text you find fun.**"
   ]
  },
  {
   "cell_type": "code",
   "execution_count": 114,
   "metadata": {
    "id": "ILc0RANSG2bs",
    "outputId": "7b144cd6-468d-46d5-859c-2555c2d93fa7"
   },
   "outputs": [
    {
     "name": "stdout",
     "output_type": "stream",
     "text": [
      "'I hope to god the IVF treatment we are doing at the hospital is working' => soc.religion.christian\n"
     ]
    }
   ],
   "source": [
    "docs_new = ['I hope the IVF treatment we are doing at the hospital is working']\n",
    "\n",
    "predicted = grid.predict(docs_new)\n",
    "\n",
    "for doc, category in zip(docs_new, predicted):\n",
    "    print('%r => %s' % (doc, twenty_train.target_names[category]))"
   ]
  }
 ],
 "metadata": {
  "colab": {
   "collapsed_sections": [],
   "name": "Lab3.ipynb",
   "provenance": []
  },
  "kernelspec": {
   "display_name": "Python 3",
   "language": "python",
   "name": "python3"
  },
  "language_info": {
   "codemirror_mode": {
    "name": "ipython",
    "version": 3
   },
   "file_extension": ".py",
   "mimetype": "text/x-python",
   "name": "python",
   "nbconvert_exporter": "python",
   "pygments_lexer": "ipython3",
   "version": "3.8.8"
  }
 },
 "nbformat": 4,
 "nbformat_minor": 1
}
