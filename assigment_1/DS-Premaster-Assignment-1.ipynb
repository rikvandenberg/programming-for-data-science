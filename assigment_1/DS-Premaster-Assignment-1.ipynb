{
 "cells": [
  {
   "cell_type": "markdown",
   "metadata": {},
   "source": [
    "## Programming for Data Science 2020-2021\n",
    "### Assignment 1: Python Programming\n",
    "\n",
    "This assignment consists of 3 different excercises, of advancing difficulty. \n",
    "\n",
    "You can use those in order to evaluate your progress. \n",
    "\n",
    "For any questions, you can use the Canvas discussions page."
   ]
  },
  {
   "cell_type": "markdown",
   "metadata": {},
   "source": [
    "### Excersise 1\n",
    "\n",
    "This excercise will test your knowledge of basic data structures.\n",
    "\n",
    "*Implement the required functionality.*"
   ]
  },
  {
   "cell_type": "code",
   "execution_count": 1,
   "metadata": {},
   "outputs": [
    {
     "name": "stdout",
     "output_type": "stream",
     "text": [
      "All animals with 4 legs:\n",
      "cat\n",
      "dog\n",
      "ox\n",
      "Total number of animals: 5\n",
      "All animals that have names with 3 characters or less:\n",
      "cat\n",
      "dog\n",
      "ox\n"
     ]
    }
   ],
   "source": [
    "animals = [\n",
    "    {'name': 'cat', 'legs': 4},\n",
    "    {'name': 'dog', 'legs': 4},\n",
    "    {'name': 'pelican', 'legs': 2},\n",
    "    {'name': 'snake', 'legs': 0},\n",
    "    {'name': 'ox', 'legs': 4}\n",
    "]\n",
    "\n",
    "# print the names of all the animals who have 4 legs\n",
    "animal_names_with_four_legs = list([animal for animal in animals if animal['legs'] == 4])\n",
    "print(\"All animals with 4 legs:\")\n",
    "for animal in animal_names_with_four_legs:\n",
    "    print(animal['name'])\n",
    "\n",
    "# print the total number of animals in the 'animals' list\n",
    "print(f\"Total number of animals: {len(animals)}\")\n",
    "\n",
    "# print all the animals names that are 3 characters or less in length\n",
    "animals_with_names_longer_than_three_characters = list([animal for animal in animals if len(animal['name']) <= 3])\n",
    "print(\"All animals that have names with 3 characters or less:\")\n",
    "for animal in animal_names_with_four_legs:\n",
    "    print(animal['name'])"
   ]
  },
  {
   "cell_type": "markdown",
   "metadata": {},
   "source": [
    "### Excersise 2\n",
    "\n",
    "This excercise will test your understanding of functions, iterators, list comprehensions, if statements, and other basic building blocks of the python language.\n",
    "\n",
    "*Implement each function, according to the instructions.*"
   ]
  },
  {
   "cell_type": "code",
   "execution_count": 2,
   "metadata": {},
   "outputs": [],
   "source": [
    "def square(num_list):\n",
    "    \"\"\"\n",
    "    Accepts a list of numbers, and returns a list of the same numbers squared.\n",
    "    e.g. [1, 2, 3] -> [1, 4, 9]\n",
    "    \"\"\"\n",
    "    \n",
    "    squared_list = list(map(lambda x: x*x, num_list))\n",
    "    return squared_list"
   ]
  },
  {
   "cell_type": "code",
   "execution_count": 3,
   "metadata": {},
   "outputs": [],
   "source": [
    "def sum_list(num_list):\n",
    "    \"\"\"\n",
    "    Accepts a list and returns the sum of its elements. !Do not use Python's sum() function!\n",
    "    e.g. [1, 2, 3] -> 6\n",
    "    \"\"\"\n",
    "    \n",
    "    sum_of_list = functools.reduce(lambda x, y: x+y, num_list)\n",
    "    return sum_of_list"
   ]
  },
  {
   "cell_type": "code",
   "execution_count": 4,
   "metadata": {},
   "outputs": [],
   "source": [
    "def add(list_a, list_b):\n",
    "    \"\"\"\n",
    "    Accepts 2 lists, and returns a list of the sum of the lists, element-wise.\n",
    "    e.g. add([1, 2, 3], [1, 1, 1]) -> [2, 3, 4]\n",
    "    \"\"\"\n",
    "    if len(list_a) != len(list_b):\n",
    "        print(\"Lists are not the same length!\")\n",
    "        return\n",
    "    \n",
    "    sum_list = list(map(lambda x,y: x+y, list_a, list_b))\n",
    "    return sum_list"
   ]
  },
  {
   "cell_type": "code",
   "execution_count": 5,
   "metadata": {},
   "outputs": [],
   "source": [
    "def add_index(str_list):\n",
    "    \"\"\"\n",
    "    Accepts a list of strings and returns a list with the strings and their index.\n",
    "    e.g. ['hello', 'world'] -> ['1 - hello', '2 - world']\n",
    "    \"\"\"\n",
    "    \n",
    "    list_with_indexes = [f'{i+1} - {x}' for i,x in enumerate(str_list)]\n",
    "    return list_with_indexes"
   ]
  },
  {
   "cell_type": "code",
   "execution_count": 6,
   "metadata": {},
   "outputs": [],
   "source": [
    "def minmax(num_list):\n",
    "    \"\"\"\n",
    "    Accepts a list and returns 2 values: the minimum and the maximum of the list.\n",
    "    e.g. [1, 2, 3, 4, 5] -> (1, 5)\n",
    "    \"\"\"\n",
    "    \n",
    "    list_min = min(num_list)\n",
    "    list_max = max(num_list)\n",
    "    return list_min, list_max"
   ]
  },
  {
   "cell_type": "code",
   "execution_count": 7,
   "metadata": {},
   "outputs": [],
   "source": [
    "def even(num_list):\n",
    "    \"\"\"\n",
    "    Accepts a list of numbers and returns a list of the even items of the list.\n",
    "    e.g. [1, 2, 3, 4] -> [2, 4]\n",
    "    \"\"\"\n",
    "    \n",
    "    even_list = list(filter(lambda x: x % 2 == 0, num_list))\n",
    "    return even_list"
   ]
  },
  {
   "cell_type": "code",
   "execution_count": 9,
   "metadata": {},
   "outputs": [],
   "source": [
    "def odd(num_list):\n",
    "    \"\"\"\n",
    "    Accepts a list of numbers and returns the odd items. However, implement it using the even() function!\n",
    "    e.g. [1, 2, 3, 4] -> [1, 3]\n",
    "    \"\"\"\n",
    "    \n",
    "    even_list = even(num_list)\n",
    "    odd_list = [odd for odd in num_list if odd not in even_list]\n",
    "    return odd_list"
   ]
  },
  {
   "cell_type": "markdown",
   "metadata": {},
   "source": [
    "### Excersise 3\n",
    "\n",
    "In this escercise you will implement the basic functionality of a query language, let's say Data Science Query Language. This language provides results regarding machine learning algorithms. Your job is to write a simple select query, that will return all the attributes the user asks.\n",
    " \n",
    "e.g. `select name` should return\n",
    "\n",
    "```\n",
    "K-Means\n",
    "MeanShift\n",
    "KNN\n",
    "SVC\n",
    "Lasso\n",
    "SVR\n",
    "```\n",
    "\n",
    "e.g. `select name type` should return\n",
    "\n",
    "```\n",
    "K-Means clustering\n",
    "MeanShift clustering\n",
    "KNN classification\n",
    "SVC classification\n",
    "Lasso regression\n",
    "SVR regression\n",
    "```\n",
    "\n",
    "The user will be able to provide the query using the raw_input, which will be implemented for you. You should implement the functionality needed, so that you can read the attribute names, and return the information of those exact attribute names from the dictionary 'dsql_table'. The query should work like this:\n",
    " - first word is always 'select';\n",
    " - then follows a list of the attributes the user wants to see.\n",
    " - It will close the dsql prompt by typing 'exit'\n",
    " \n",
    "\n",
    "In order to simplify this excercise, we will avoid all error handling and just put everything in a generic try-except block.\n",
    "\n",
    "*Implement the required functionality.*"
   ]
  },
  {
   "cell_type": "code",
   "execution_count": 26,
   "metadata": {
    "ExecuteTime": {
     "end_time": "2020-06-12T06:28:07.683611Z",
     "start_time": "2020-06-12T06:28:07.673638Z"
    },
    "run_control": {
     "marked": false
    }
   },
   "outputs": [
    {
     "name": "stdout",
     "output_type": "stream",
     "text": [
      "dsql> select name type learning_type\n",
      "K-Means\tclustering\tunsupervised\t\n",
      "KNN\tclassification\tsupervised\t\n",
      "Lasso\tregression\tsupervised\t\n",
      "SVR\tregression\tsupervised\t\n",
      "dsql> exit\n",
      "Thanks for using dsql!\n"
     ]
    }
   ],
   "source": [
    "dsql_table = [\n",
    "    {'name': 'K-Means',    'type': 'clustering',     'learning_type': 'unsupervised'},\n",
    "    {'name': 'KNN',        'type': 'classification', 'learning_type': 'supervised'},\n",
    "    {'name': 'Lasso',      'type': 'regression',     'learning_type': 'supervised'},\n",
    "    {'name': 'SVR',        'type': 'regression',     'learning_type': 'supervised'},\n",
    "]\n",
    "\n",
    "\n",
    "try:\n",
    "    query = input('dsql> ')\n",
    "    \n",
    "    while query != 'exit':\n",
    "        # Write the required code here. remember, that input is a string, starting with 'select',\n",
    "        # followed by the attributes, which are the keys of the dictionaries in our table (dsql_table)\n",
    "        \n",
    "        # --- code start ---\n",
    "        if (query.startswith('select')):\n",
    "            columns = query.split(' ')[1:]\n",
    "            for row in dsql_table:\n",
    "                for column in columns:\n",
    "                    print(row[column], end='\\t')\n",
    "                print()\n",
    "        else:\n",
    "            print('Error: query must start with \"select\"')\n",
    "        # --- code finish ---\n",
    "        \n",
    "        # show the prompt again, so that the user will be able to ask another query\n",
    "        # only exit by typing 'exit'\n",
    "        query = input('dsql> ')\n",
    "    \n",
    "    print('Thanks for using dsql!')\n",
    "except:\n",
    "    print('Something went wrong! Please, try again.')\n",
    "    "
   ]
  },
  {
   "cell_type": "markdown",
   "metadata": {},
   "source": [
    "### Excersise 4\n",
    "\n",
    "Reuse the code from exercise 3, and recreate the excercise, but this time use classes. \n",
    "\n",
    "Instead of having a list of dictionaries, you will create an Algorithm class with 3 properties (name, type, learning_type), and populate the list with the Algorithm objects. \n",
    "\n",
    "You can actually use the list above to create a loop to populate your new list, with very few lines of code."
   ]
  },
  {
   "cell_type": "code",
   "execution_count": 50,
   "metadata": {
    "ExecuteTime": {
     "end_time": "2020-06-11T18:08:16.104022Z",
     "start_time": "2020-06-11T18:08:12.351851Z"
    }
   },
   "outputs": [
    {
     "name": "stdout",
     "output_type": "stream",
     "text": [
      "dsql> select name type learning_type\n",
      "K-Means\tclustering\tunsupervised\t\n",
      "KNN\tclassification\tsupervised\t\n",
      "Lasso\tregression\tsupervised\t\n",
      "SVR\tregression\tsupervised\t\n",
      "dsql> exit\n",
      "Thanks for using dsql!\n"
     ]
    }
   ],
   "source": [
    "dsql_table = [\n",
    "    {'name': 'K-Means',    'type': 'clustering',     'learning_type': 'unsupervised'},\n",
    "    {'name': 'KNN',        'type': 'classification', 'learning_type': 'supervised'},\n",
    "    {'name': 'Lasso',      'type': 'regression',     'learning_type': 'supervised'},\n",
    "    {'name': 'SVR',        'type': 'regression',     'learning_type': 'supervised'},\n",
    "]\n",
    "\n",
    "class Algorithm:\n",
    "    def __init__(self, name, type, learning_type):\n",
    "        self.name = name\n",
    "        self.type = type\n",
    "        self.learning_type = learning_type\n",
    "    def print_columns(self, columns):\n",
    "        for column in columns:\n",
    "            print(getattr(self, column), end='\\t')\n",
    "        print()\n",
    "        \n",
    "\n",
    "table = [Algorithm(row['name'], row['type'], row['learning_type']) for row in dsql_table]\n",
    "\n",
    "try:\n",
    "    query = input('dsql> ')\n",
    "\n",
    "    while query != 'exit':\n",
    "        # Write the required code here. remember, that input is a string, starting with 'select',\n",
    "        # followed by the attributes, which are the keys of the dictionaries in our table (dsql_table)\n",
    "\n",
    "        # --- code start ---\n",
    "        if (query.startswith('select')):\n",
    "            columns = query.split(' ')[1:]\n",
    "            for algorithm in table:\n",
    "                algorithm.print_columns(columns)\n",
    "        else:\n",
    "            print('Error: query must start with \"select\"')\n",
    "        # --- code finish ---\n",
    "        \n",
    "        # show the prompt again, so that the user will be able to ask another query\n",
    "        # only exit by typing 'exit'\n",
    "        query = input('dsql> ')\n",
    "    \n",
    "    print('Thanks for using dsql!')\n",
    "except:    \n",
    "    print('Something went wrong! Please, try again.')\n"
   ]
  },
  {
   "cell_type": "code",
   "execution_count": null,
   "metadata": {},
   "outputs": [],
   "source": []
  }
 ],
 "metadata": {
  "kernelspec": {
   "display_name": "Python 3",
   "language": "python",
   "name": "python3"
  },
  "language_info": {
   "codemirror_mode": {
    "name": "ipython",
    "version": 3
   },
   "file_extension": ".py",
   "mimetype": "text/x-python",
   "name": "python",
   "nbconvert_exporter": "python",
   "pygments_lexer": "ipython3",
   "version": "3.8.8"
  },
  "varInspector": {
   "cols": {
    "lenName": 16,
    "lenType": 16,
    "lenVar": 40
   },
   "kernels_config": {
    "python": {
     "delete_cmd_postfix": "",
     "delete_cmd_prefix": "del ",
     "library": "var_list.py",
     "varRefreshCmd": "print(var_dic_list())"
    },
    "r": {
     "delete_cmd_postfix": ") ",
     "delete_cmd_prefix": "rm(",
     "library": "var_list.r",
     "varRefreshCmd": "cat(var_dic_list()) "
    }
   },
   "types_to_exclude": [
    "module",
    "function",
    "builtin_function_or_method",
    "instance",
    "_Feature"
   ],
   "window_display": false
  }
 },
 "nbformat": 4,
 "nbformat_minor": 2
}
