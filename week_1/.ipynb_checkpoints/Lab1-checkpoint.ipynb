{
 "cells": [
  {
   "cell_type": "markdown",
   "metadata": {
    "id": "Yfj75KD5eUkf"
   },
   "source": [
    "<h1><center> Lab 1: Python (and data science libraries) basics notebook </center></h1>\n",
    "\n",
    "Welcome to Fundamentals of Data Science 2021/2022!\n",
    "\n",
    "In this first notebook you will experiment with some elementary Python and NumPy code. The main purpose of using this notebook is to confirm that you can open and run Jupyter notebooks and understand the basics of Python and Numpy code. \n",
    "\n",
    "An additional goal of this notebook is to guarantee that you downloaded and are able to run the following libraries: *Numpy*, *Pandas*, *Matplotlib*, *Scikit-learn*. All these libraries will be fundamental to complete the group assignment.\n",
    "\n",
    "For each example, try to understand the code and anticipate the output before you run the cell. Did it confirm your guess? Great! If not, try to understand what you were missing and ask questions in your Wercollege.\n",
    "\n",
    "**Questions** are in bold. These are not mandatory or graded, they are simply to encourage you to think how you could answer them.\n",
    "\n",
    "This notebook follows sections of [*A Whirlwind Tour of Python*](https://jakevdp.github.io/WhirlwindTourOfPython/) and Chapter 1 of the [*Python Data Science Handbook*](https://jakevdp.github.io/PythonDataScienceHandbook/). It is expected that you consult these references to complete the exercises\n",
    "\n",
    "If you have any question please contact the teaching assistant of your group, preferentially during your werkcollege.\n",
    "\n",
    "If you believe the answer to your question can help other colleagues, we encourage you to post it in the corresponding discussion section (Canvas). Check Canvas (Discussion and other sections frequently).\n",
    "\n",
    "**Contacts:**\n",
    "\n",
    "(Group H) Cristian Rodriguez Rivero: c.m.rodriguezrivero@uva.nl\n",
    "\n",
    "(Group D) Sara Mahdavi Hezavehi: s.mahdavihezavehi@uva.nl \n",
    "\n",
    "(Group B) Reshmi Gopalakrishna Pillai: r.gopalakrishnapillai@uva.nl \n",
    "\n",
    "(Group C) Tom van Sonsbeek: t.j.vansonsbeek@uva.nl \n",
    "\n",
    "(Group F) Dimitris Michailidis: d.michailidis@uva.nl \n",
    "\n",
    "(Group G) Ilse van der Linden: i.w.c.vanderlinden@uva.nl\n",
    "\n",
    "(Group E) Sara E. Altamirano: s.e.altamirano@uva.nl \n",
    "\n",
    "(Group I) Peter Fratric: p.fratric@uva.nl\n",
    "\n",
    "(Group A) João M. Pereira: j.p.lebremagalhaespereira@uva.nl\n",
    "\n",
    "(Online support) Ashish Sai: ashish.sai@lero.ie\n",
    "\n",
    "or, if needed, the course coordinator\n",
    "\n",
    "Fernando P. Santos: f.p.santos@uva.nl"
   ]
  },
  {
   "cell_type": "markdown",
   "metadata": {
    "id": "9YWB774EeUki"
   },
   "source": [
    "<h1><center> Part I: Basic Python </center></h1>"
   ]
  },
  {
   "cell_type": "markdown",
   "metadata": {
    "id": "-beyEA17eUkj"
   },
   "source": [
    "<h2><center> Jupyter notebook tips </center></h2>\n",
    "\n",
    "The Jupyter notebook is a browser-based graphical interface to the shell used to run Python (IPython). It is convenient as it allows to combine formatted text with dynamic visualizations. Cells can be of type *code* or *text*. The current cell type is text (Markdown). Check [here](https://www.markdownguide.org/basic-syntax/) for more details on the Markdown syntax. You can change the cell type by selecting Cell > Cell Type. \n",
    "\n",
    "Some IPython tricks you can use in Jupyter notebook:\n",
    "\n",
    "* You can easily access the documentation of built-in functions with the ? character. Test this by running the following code cell (to run a cell do Shift+Enter):"
   ]
  },
  {
   "cell_type": "code",
   "execution_count": 54,
   "metadata": {
    "executionInfo": {
     "elapsed": 5,
     "status": "ok",
     "timestamp": 1630652710659,
     "user": {
      "displayName": "Fernando P. Santos",
      "photoUrl": "",
      "userId": "04560328353458146366"
     },
     "user_tz": -120
    },
    "id": "E0BG8I16eUkj"
   },
   "outputs": [],
   "source": [
    "len?"
   ]
  },
  {
   "cell_type": "markdown",
   "metadata": {
    "id": "0JbHychCeUkk"
   },
   "source": [
    "* You can use the Tab key for autocompletion. You can access the methods avaible for a given object by pressing Tab. Place your cursor after <code>name.</code> and press Tab. Can you see a drop-down menu with options?"
   ]
  },
  {
   "cell_type": "code",
   "execution_count": null,
   "metadata": {
    "id": "O84wnkdzeUkl",
    "scrolled": true
   },
   "outputs": [],
   "source": [
    "name = \"Test\"\n",
    "name.\n",
    "\n",
    "#In Colab this functionality might not work, in that case please ignore this cell"
   ]
  },
  {
   "cell_type": "markdown",
   "metadata": {
    "id": "fLWgGgxueUkl"
   },
   "source": [
    "* You can use _ to access the last output (or __ for the second last, and so on)."
   ]
  },
  {
   "cell_type": "code",
   "execution_count": 3,
   "metadata": {
    "id": "1hnyZVH-eUkm"
   },
   "outputs": [
    {
     "data": {
      "text/plain": [
       "4"
      ]
     },
     "execution_count": 3,
     "metadata": {},
     "output_type": "execute_result"
    }
   ],
   "source": [
    "2+2"
   ]
  },
  {
   "cell_type": "code",
   "execution_count": 4,
   "metadata": {
    "id": "D4WjuWCbeUkm"
   },
   "outputs": [
    {
     "data": {
      "text/plain": [
       "10"
      ]
     },
     "execution_count": 4,
     "metadata": {},
     "output_type": "execute_result"
    }
   ],
   "source": [
    "5+5"
   ]
  },
  {
   "cell_type": "code",
   "execution_count": 5,
   "metadata": {
    "id": "tULVMdbseUkm"
   },
   "outputs": [
    {
     "name": "stdout",
     "output_type": "stream",
     "text": [
      "10\n",
      "4\n"
     ]
    }
   ],
   "source": [
    "print(_)\n",
    "print(__)"
   ]
  },
  {
   "cell_type": "markdown",
   "metadata": {
    "id": "slBn0cVIeUkn"
   },
   "source": [
    "* If you face errors (exceptions) that are hard to understand, you can use the <code>%debug</code> tool. Bellow you can find a rather obvious example. Once you run <code>%debug</code> an ipdb (IPython-enabled Python Debugger) shell appears and you can inspect the value of different variables. Try <code>print(i)</code> or <code>p(i)</code> and confirm that variable <code>i</code> was 0. To quit the ipdb shell type <code>quit</code> or  <code>q</code>."
   ]
  },
  {
   "cell_type": "code",
   "execution_count": 6,
   "metadata": {
    "id": "45JxuMQCeUkn"
   },
   "outputs": [
    {
     "ename": "ZeroDivisionError",
     "evalue": "division by zero",
     "output_type": "error",
     "traceback": [
      "\u001b[1;31m---------------------------------------------------------------------------\u001b[0m",
      "\u001b[1;31mZeroDivisionError\u001b[0m                         Traceback (most recent call last)",
      "\u001b[1;32m<ipython-input-6-1d5752d26e97>\u001b[0m in \u001b[0;36m<module>\u001b[1;34m\u001b[0m\n\u001b[0;32m      1\u001b[0m \u001b[1;32mfor\u001b[0m \u001b[0mi\u001b[0m \u001b[1;32min\u001b[0m \u001b[0mrange\u001b[0m\u001b[1;33m(\u001b[0m\u001b[1;36m10\u001b[0m\u001b[1;33m,\u001b[0m\u001b[1;33m-\u001b[0m\u001b[1;36m1\u001b[0m\u001b[1;33m,\u001b[0m\u001b[1;33m-\u001b[0m\u001b[1;36m1\u001b[0m\u001b[1;33m)\u001b[0m\u001b[1;33m:\u001b[0m\u001b[1;33m\u001b[0m\u001b[1;33m\u001b[0m\u001b[0m\n\u001b[1;32m----> 2\u001b[1;33m     \u001b[0mc\u001b[0m \u001b[1;33m=\u001b[0m \u001b[1;36m10\u001b[0m \u001b[1;33m/\u001b[0m \u001b[0mi\u001b[0m\u001b[1;33m\u001b[0m\u001b[1;33m\u001b[0m\u001b[0m\n\u001b[0m",
      "\u001b[1;31mZeroDivisionError\u001b[0m: division by zero"
     ]
    }
   ],
   "source": [
    "for i in range(10,-1,-1):\n",
    "    c = 10 / i"
   ]
  },
  {
   "cell_type": "code",
   "execution_count": 7,
   "metadata": {
    "id": "czHInHz8eUko"
   },
   "outputs": [
    {
     "name": "stdout",
     "output_type": "stream",
     "text": [
      "> \u001b[1;32m<ipython-input-6-1d5752d26e97>\u001b[0m(2)\u001b[0;36m<module>\u001b[1;34m()\u001b[0m\n",
      "\u001b[1;32m      1 \u001b[1;33m\u001b[1;32mfor\u001b[0m \u001b[0mi\u001b[0m \u001b[1;32min\u001b[0m \u001b[0mrange\u001b[0m\u001b[1;33m(\u001b[0m\u001b[1;36m10\u001b[0m\u001b[1;33m,\u001b[0m\u001b[1;33m-\u001b[0m\u001b[1;36m1\u001b[0m\u001b[1;33m,\u001b[0m\u001b[1;33m-\u001b[0m\u001b[1;36m1\u001b[0m\u001b[1;33m)\u001b[0m\u001b[1;33m:\u001b[0m\u001b[1;33m\u001b[0m\u001b[1;33m\u001b[0m\u001b[0m\n",
      "\u001b[0m\u001b[1;32m----> 2 \u001b[1;33m    \u001b[0mc\u001b[0m \u001b[1;33m=\u001b[0m \u001b[1;36m10\u001b[0m \u001b[1;33m/\u001b[0m \u001b[0mi\u001b[0m\u001b[1;33m\u001b[0m\u001b[1;33m\u001b[0m\u001b[0m\n",
      "\u001b[0m\n",
      "ipdb> print(i)\n",
      "0\n",
      "ipdb> q\n"
     ]
    }
   ],
   "source": [
    "%debug"
   ]
  },
  {
   "cell_type": "markdown",
   "metadata": {
    "id": "FfNuFGnreUko"
   },
   "source": [
    "<h2><center> Syntax, input and control statements </center></h2>"
   ]
  },
  {
   "cell_type": "code",
   "execution_count": 8,
   "metadata": {
    "id": "N1EmrSeQeUko"
   },
   "outputs": [
    {
     "name": "stdout",
     "output_type": "stream",
     "text": [
      "Please enter an integer: 5\n"
     ]
    }
   ],
   "source": [
    "# example of code\n",
    "\n",
    "x = int(input(\"Please enter an integer: \"))"
   ]
  },
  {
   "cell_type": "code",
   "execution_count": 9,
   "metadata": {
    "id": "Ai-lVBljeUko"
   },
   "outputs": [
    {
     "name": "stdout",
     "output_type": "stream",
     "text": [
      "More\n"
     ]
    }
   ],
   "source": [
    "if x < 0:\n",
    "    x = 0\n",
    "    print('Negative changed to zero')\n",
    "elif x == 0:\n",
    "    print('Zero')\n",
    "elif x == 1:\n",
    "    print('Single')\n",
    "else:\n",
    "    print('More')"
   ]
  },
  {
   "cell_type": "markdown",
   "metadata": {
    "id": "0jjxP_aJeUkp"
   },
   "source": [
    "**Q1: Can you make a control function that receives two inputs (integer) and prints the highest?**"
   ]
  },
  {
   "cell_type": "code",
   "execution_count": 11,
   "metadata": {
    "id": "xp1CVTYeeUkp"
   },
   "outputs": [
    {
     "name": "stdout",
     "output_type": "stream",
     "text": [
      "please enter number a: 5413213\n",
      "please enter number b: 123123123123123\n"
     ]
    },
    {
     "data": {
      "text/plain": [
       "123123123123123"
      ]
     },
     "execution_count": 11,
     "metadata": {},
     "output_type": "execute_result"
    }
   ],
   "source": [
    "a = int(input(\"please enter number a: \"))\n",
    "b = int(input(\"please enter number b: \"))\n",
    "max(a,b)"
   ]
  },
  {
   "cell_type": "markdown",
   "metadata": {
    "id": "dDuxhT2ceUkp"
   },
   "source": [
    "<h2><center> Integers and Strings </center></h2>"
   ]
  },
  {
   "cell_type": "markdown",
   "metadata": {
    "id": "U5xoneOIeUkp"
   },
   "source": [
    "Python is dynamically-typed: variable names can point to objects of any type.\n",
    "\n",
    "This happens as variables are in fact pointers to objects. While objects have a specific type, variables can point to objects of any type. Below, we create a variable <code>x</code> and assign it (i.e., make it point) to an integer object with value 10. After that, we re-assign variable <code>x</code> so that it points to a string object."
   ]
  },
  {
   "cell_type": "code",
   "execution_count": 12,
   "metadata": {
    "id": "NO6-rbSleUkq"
   },
   "outputs": [],
   "source": [
    "x = 10\n",
    "x = 'hello'\n",
    "x = \"hello to show no differences between quote and double quote\""
   ]
  },
  {
   "cell_type": "markdown",
   "metadata": {
    "id": "I8SbJx54eUkq"
   },
   "source": [
    "**Q2: Can you generete a string equal to x but with all characters in upper case?**\n",
    "\n",
    "*Remember how to use Tab to auto-complete and check methods available to strings with x.*"
   ]
  },
  {
   "cell_type": "code",
   "execution_count": 14,
   "metadata": {
    "id": "pSRDXSSgeUkq"
   },
   "outputs": [
    {
     "data": {
      "text/plain": [
       "'HELLO TO SHOW NO DIFFERENCES BETWEEN QUOTE AND DOUBLE QUOTE'"
      ]
     },
     "execution_count": 14,
     "metadata": {},
     "output_type": "execute_result"
    }
   ],
   "source": [
    "x.upper()"
   ]
  },
  {
   "cell_type": "markdown",
   "metadata": {
    "id": "AXt4TRS2eUkr"
   },
   "source": [
    "**Q3: Can you split string x given words separated by spaces?**"
   ]
  },
  {
   "cell_type": "code",
   "execution_count": 15,
   "metadata": {
    "id": "35_tu6cDeUkr"
   },
   "outputs": [
    {
     "data": {
      "text/plain": [
       "['hello',\n",
       " 'to',\n",
       " 'show',\n",
       " 'no',\n",
       " 'differences',\n",
       " 'between',\n",
       " 'quote',\n",
       " 'and',\n",
       " 'double',\n",
       " 'quote']"
      ]
     },
     "execution_count": 15,
     "metadata": {},
     "output_type": "execute_result"
    }
   ],
   "source": [
    "x.split()"
   ]
  },
  {
   "cell_type": "code",
   "execution_count": 16,
   "metadata": {
    "id": "Ekoly-coeUkr"
   },
   "outputs": [],
   "source": [
    "a = \"Name name is\"\n",
    "b = \" R2D2\"\n",
    "c = \".\""
   ]
  },
  {
   "cell_type": "markdown",
   "metadata": {
    "id": "pMNSOd_MeUks"
   },
   "source": [
    "**Q4 : Can you concatenate the strings <code>a</code>, <code>b</code> and <code>c</code>?**"
   ]
  },
  {
   "cell_type": "code",
   "execution_count": 20,
   "metadata": {
    "id": "mGAydBhSeUks"
   },
   "outputs": [
    {
     "data": {
      "text/plain": [
       "'Name name is R2D2.'"
      ]
     },
     "execution_count": 20,
     "metadata": {},
     "output_type": "execute_result"
    }
   ],
   "source": [
    "a+b+c"
   ]
  },
  {
   "cell_type": "markdown",
   "metadata": {
    "id": "HtBT0wHeeUks"
   },
   "source": [
    "**Q5: Can you repeat string <code>b</code> 10 times using a maximum of 3 characters?**"
   ]
  },
  {
   "cell_type": "code",
   "execution_count": 23,
   "metadata": {
    "id": "hv5hFKLweUks"
   },
   "outputs": [
    {
     "name": "stdout",
     "output_type": "stream",
     "text": [
      " R2\n",
      " R2\n",
      " R2\n",
      " R2\n",
      " R2\n",
      " R2\n",
      " R2\n",
      " R2\n",
      " R2\n",
      " R2\n"
     ]
    }
   ],
   "source": [
    "for i in range(10):\n",
    "    print(b[:3])"
   ]
  },
  {
   "cell_type": "code",
   "execution_count": 24,
   "metadata": {
    "id": "W9SDjuj9eUkt"
   },
   "outputs": [],
   "source": [
    "a = 10\n",
    "b = 3"
   ]
  },
  {
   "cell_type": "markdown",
   "metadata": {
    "id": "LfxcJ6nGeUkt"
   },
   "source": [
    "**Q6: Can you print the result of the following quantities?**\n",
    "\n",
    "* sum of a and b\n",
    "* a divided by b\n",
    "* integer (or floor) division between a and b\n",
    "* integer remainder after division of a by b\n",
    "* a raised to the power of b"
   ]
  },
  {
   "cell_type": "code",
   "execution_count": 34,
   "metadata": {
    "id": "SSb2KBoNeUku"
   },
   "outputs": [
    {
     "name": "stdout",
     "output_type": "stream",
     "text": [
      "13\n",
      "3.3333333333333335\n",
      "3\n",
      "1\n",
      "9\n"
     ]
    }
   ],
   "source": [
    "print(a+b)\n",
    "print(a/b)\n",
    "print(int(a/b))\n",
    "print(a%b)\n",
    "print(a^b)"
   ]
  },
  {
   "cell_type": "code",
   "execution_count": 36,
   "metadata": {
    "id": "lUJLiLtzeUkv"
   },
   "outputs": [
    {
     "name": "stdout",
     "output_type": "stream",
     "text": [
      "True\n",
      "True\n"
     ]
    }
   ],
   "source": [
    "a = 1.0\n",
    "b = 1.0\n",
    "a = b\n",
    "print(a == b)\n",
    "print(a is b)"
   ]
  },
  {
   "cell_type": "markdown",
   "metadata": {
    "id": "DSLQB8exeUkv"
   },
   "source": [
    "**Q7: Can you explain why the first expression is evaluated as True and the second False? Substitute <code>#\\<line></code> such that both expressions evaluate to True**"
   ]
  },
  {
   "cell_type": "code",
   "execution_count": 37,
   "metadata": {
    "id": "Igr38t7MeUkw"
   },
   "outputs": [],
   "source": [
    "# The is operator check if the reference/object is the same. a and b are instantiated differently and thus not equal"
   ]
  },
  {
   "cell_type": "markdown",
   "metadata": {
    "id": "3MgF5G3aeUkx"
   },
   "source": [
    "<h2><center> Lists </center></h2>\n",
    "\n",
    "Ordered and mutable collection. Values within [square brackets] and comma-separated."
   ]
  },
  {
   "cell_type": "code",
   "execution_count": 38,
   "metadata": {
    "id": "wS2T0i3NeUkx"
   },
   "outputs": [
    {
     "data": {
      "text/plain": [
       "'kiwi'"
      ]
     },
     "execution_count": 38,
     "metadata": {},
     "output_type": "execute_result"
    }
   ],
   "source": [
    "fruits = ['orange', 'apple', 'pear', 'banana', 'kiwi', 'apple', 'banana']\n",
    "fruits[4]"
   ]
  },
  {
   "cell_type": "code",
   "execution_count": 39,
   "metadata": {
    "id": "YVdHS1JneUky"
   },
   "outputs": [
    {
     "data": {
      "text/plain": [
       "['pear', 'banana', 'kiwi']"
      ]
     },
     "execution_count": 39,
     "metadata": {},
     "output_type": "execute_result"
    }
   ],
   "source": [
    "fruits[2:5]"
   ]
  },
  {
   "cell_type": "code",
   "execution_count": 40,
   "metadata": {
    "id": "PZvpRbuTeUky"
   },
   "outputs": [
    {
     "data": {
      "text/plain": [
       "2"
      ]
     },
     "execution_count": 40,
     "metadata": {},
     "output_type": "execute_result"
    }
   ],
   "source": [
    "fruits.count('apple')"
   ]
  },
  {
   "cell_type": "code",
   "execution_count": 41,
   "metadata": {
    "id": "2iVKkFn9eUky"
   },
   "outputs": [
    {
     "data": {
      "text/plain": [
       "3"
      ]
     },
     "execution_count": 41,
     "metadata": {},
     "output_type": "execute_result"
    }
   ],
   "source": [
    "fruits.index('banana')"
   ]
  },
  {
   "cell_type": "code",
   "execution_count": 42,
   "metadata": {
    "id": "lwOU5fUmeUkz"
   },
   "outputs": [
    {
     "data": {
      "text/plain": [
       "True"
      ]
     },
     "execution_count": 42,
     "metadata": {},
     "output_type": "execute_result"
    }
   ],
   "source": [
    "'apple' in fruits"
   ]
  },
  {
   "cell_type": "code",
   "execution_count": 43,
   "metadata": {
    "id": "_hBwXr0GeUkz"
   },
   "outputs": [
    {
     "data": {
      "text/plain": [
       "['apple', 'apple', 'banana', 'banana', 'kiwi', 'orange', 'pear']"
      ]
     },
     "execution_count": 43,
     "metadata": {},
     "output_type": "execute_result"
    }
   ],
   "source": [
    "fruits.sort()\n",
    "fruits"
   ]
  },
  {
   "cell_type": "code",
   "execution_count": 44,
   "metadata": {
    "id": "bM9TLmi5eUk0"
   },
   "outputs": [
    {
     "data": {
      "text/plain": [
       "7"
      ]
     },
     "execution_count": 44,
     "metadata": {},
     "output_type": "execute_result"
    }
   ],
   "source": [
    "len(fruits)"
   ]
  },
  {
   "cell_type": "code",
   "execution_count": 45,
   "metadata": {
    "id": "g4Wti-8leUk0"
   },
   "outputs": [
    {
     "data": {
      "text/plain": [
       "['apple', 'apple', 'banana', 'banana', 'kiwi', 'orange', 'pear', 100]"
      ]
     },
     "execution_count": 45,
     "metadata": {},
     "output_type": "execute_result"
    }
   ],
   "source": [
    "fruits += [100]\n",
    "fruits"
   ]
  },
  {
   "cell_type": "markdown",
   "metadata": {
    "id": "KW3e6-ApeUk0"
   },
   "source": [
    "**Q8: Can you work out how to insert a new object ('strawberry') in the middle of the above list?**\n",
    "\n",
    "*Tip: remember to use *\\<tab>* and *?* to autocomplete and access documentation of methods"
   ]
  },
  {
   "cell_type": "code",
   "execution_count": 57,
   "metadata": {
    "id": "ZHJQXUGpeUk0"
   },
   "outputs": [],
   "source": [
    "fruits.insert(int(len(fruits)/2),'strawberry')"
   ]
  },
  {
   "cell_type": "code",
   "execution_count": 58,
   "metadata": {},
   "outputs": [
    {
     "data": {
      "text/plain": [
       "['apple',\n",
       " 'apple',\n",
       " 'banana',\n",
       " 'banana',\n",
       " 'strawberry',\n",
       " 'kiwi',\n",
       " 'orange',\n",
       " 'pear',\n",
       " 100]"
      ]
     },
     "execution_count": 58,
     "metadata": {},
     "output_type": "execute_result"
    }
   ],
   "source": [
    "fruits"
   ]
  },
  {
   "cell_type": "code",
   "execution_count": 59,
   "metadata": {
    "id": "dX-v766AeUk1"
   },
   "outputs": [],
   "source": [
    "x = [1, 2, 3]\n",
    "y = x\n",
    "y[1] = 10"
   ]
  },
  {
   "cell_type": "markdown",
   "metadata": {
    "id": "4D14XW8MeUk1"
   },
   "source": [
    "**Q9: What will be the value of the listed pointed by x? Can you explain why?** \n",
    "\n",
    "Test your intuition by running <code>print(x)</code>"
   ]
  },
  {
   "cell_type": "code",
   "execution_count": 61,
   "metadata": {
    "id": "K4hZ5tlDeUk1"
   },
   "outputs": [
    {
     "name": "stdout",
     "output_type": "stream",
     "text": [
      "[1, 10, 3]\n"
     ]
    }
   ],
   "source": [
    "# The answer will be 1,10,3 because both x and y have the some object/list\n",
    "print(x)"
   ]
  },
  {
   "cell_type": "code",
   "execution_count": 63,
   "metadata": {
    "id": "oM29XTIueUk1"
   },
   "outputs": [],
   "source": [
    "x = 10\n",
    "y = x\n",
    "y = y + 20"
   ]
  },
  {
   "cell_type": "markdown",
   "metadata": {
    "id": "rZRDbHzHeUk1"
   },
   "source": [
    "**Q10: What will be the value of the value pointed by x? Can you explain why? What is the difference to the previous example?** \n",
    "\n",
    "Test your intuition by running <code>print(x)</code>"
   ]
  },
  {
   "cell_type": "code",
   "execution_count": 66,
   "metadata": {
    "id": "LmK49BbeeUk1"
   },
   "outputs": [
    {
     "name": "stdout",
     "output_type": "stream",
     "text": [
      "10\n",
      "30\n"
     ]
    }
   ],
   "source": [
    "# x will be 10 because an integer is a immmutable/value types and thus only y will change to 30\n",
    "print(x)\n",
    "print(y)"
   ]
  },
  {
   "cell_type": "code",
   "execution_count": 67,
   "metadata": {
    "id": "bZAZCM2keUk1"
   },
   "outputs": [],
   "source": [
    "x = [1, 2, 3, 4, 5, 6, 7, 8]\n",
    "a = 6.2"
   ]
  },
  {
   "cell_type": "markdown",
   "metadata": {
    "id": "pgI59LIieUk2"
   },
   "source": [
    "**Q11: Write code that prints 'a not contained in x' if <code>a</code> is not contained in <code>x</code>.**"
   ]
  },
  {
   "cell_type": "code",
   "execution_count": 69,
   "metadata": {
    "id": "VYfllHWzeUk2"
   },
   "outputs": [
    {
     "name": "stdout",
     "output_type": "stream",
     "text": [
      "a not contained in x\n"
     ]
    }
   ],
   "source": [
    "if a not in x:\n",
    "    print('a not contained in x')"
   ]
  },
  {
   "cell_type": "markdown",
   "metadata": {
    "id": "bJqv57XeeUk2"
   },
   "source": [
    "**Q12: Indexing: Can you write code to select elements of x from the 3rd to the second-last element (inclusive)?**"
   ]
  },
  {
   "cell_type": "code",
   "execution_count": 72,
   "metadata": {
    "id": "IK8rEplWeUk2"
   },
   "outputs": [
    {
     "data": {
      "text/plain": [
       "[4, 5, 6]"
      ]
     },
     "execution_count": 72,
     "metadata": {},
     "output_type": "execute_result"
    }
   ],
   "source": [
    "x[3:-2]"
   ]
  },
  {
   "cell_type": "markdown",
   "metadata": {
    "id": "lzSzBNX9eUk3"
   },
   "source": [
    "**Q13: Indexing: Can you write code to select elements of x in even positions (0, 2, 4, 6 ...)?**"
   ]
  },
  {
   "cell_type": "code",
   "execution_count": 73,
   "metadata": {
    "id": "ryfr8nnLeUk3"
   },
   "outputs": [
    {
     "data": {
      "text/plain": [
       "[2, 4, 6, 8]"
      ]
     },
     "execution_count": 73,
     "metadata": {},
     "output_type": "execute_result"
    }
   ],
   "source": [
    "x[1::2]"
   ]
  },
  {
   "cell_type": "markdown",
   "metadata": {
    "id": "lCFIDSoAeUk3"
   },
   "source": [
    "**Q14: Indexing: Can you write code to select elements of x in odd positions (1, 3, 5...) in reverse order?**"
   ]
  },
  {
   "cell_type": "code",
   "execution_count": 81,
   "metadata": {
    "id": "BmiHg-vMeUk3"
   },
   "outputs": [
    {
     "data": {
      "text/plain": [
       "[7, 5, 3, 1]"
      ]
     },
     "execution_count": 81,
     "metadata": {},
     "output_type": "execute_result"
    }
   ],
   "source": [
    "x[-2::-2]"
   ]
  },
  {
   "cell_type": "markdown",
   "metadata": {
    "id": "xq3gMli_eUk3"
   },
   "source": [
    "<h2><center> Tuple </center></h2>\n",
    "\n",
    "Ordered and **immutable** collection. Values within (square brackets) and comma-separated."
   ]
  },
  {
   "cell_type": "code",
   "execution_count": 91,
   "metadata": {
    "id": "zk92dd9TeUk3"
   },
   "outputs": [
    {
     "ename": "TypeError",
     "evalue": "'tuple' object does not support item assignment",
     "output_type": "error",
     "traceback": [
      "\u001b[1;31m---------------------------------------------------------------------------\u001b[0m",
      "\u001b[1;31mTypeError\u001b[0m                                 Traceback (most recent call last)",
      "\u001b[1;32m<ipython-input-91-38c3e42b9c50>\u001b[0m in \u001b[0;36m<module>\u001b[1;34m\u001b[0m\n\u001b[0;32m      1\u001b[0m \u001b[0mt\u001b[0m \u001b[1;33m=\u001b[0m \u001b[1;33m(\u001b[0m\u001b[1;36m1\u001b[0m\u001b[1;33m,\u001b[0m\u001b[1;36m2\u001b[0m\u001b[1;33m,\u001b[0m\u001b[1;36m3\u001b[0m\u001b[1;33m)\u001b[0m\u001b[1;33m\u001b[0m\u001b[1;33m\u001b[0m\u001b[0m\n\u001b[1;32m----> 2\u001b[1;33m \u001b[0mt\u001b[0m\u001b[1;33m[\u001b[0m\u001b[1;36m2\u001b[0m\u001b[1;33m]\u001b[0m \u001b[1;33m=\u001b[0m \u001b[1;36m5\u001b[0m\u001b[1;33m\u001b[0m\u001b[1;33m\u001b[0m\u001b[0m\n\u001b[0m",
      "\u001b[1;31mTypeError\u001b[0m: 'tuple' object does not support item assignment"
     ]
    }
   ],
   "source": [
    "t = (1,2,3)\n",
    "t[2] = 5"
   ]
  },
  {
   "cell_type": "markdown",
   "metadata": {
    "id": "-56sRj9ZeUk3"
   },
   "source": [
    "**Q15: The previous cell should generate a TypeError. Can you explain why? Can you create a list with the same values as <code>t</code> and assign 5 to position 2 of the newly created list?**"
   ]
  },
  {
   "cell_type": "code",
   "execution_count": 92,
   "metadata": {
    "id": "j_Zt3jXoeUk4"
   },
   "outputs": [
    {
     "data": {
      "text/plain": [
       "[1, 2, 5]"
      ]
     },
     "execution_count": 92,
     "metadata": {},
     "output_type": "execute_result"
    }
   ],
   "source": [
    "t = list(range(1, 4))\n",
    "t[2] = 5\n",
    "t"
   ]
  },
  {
   "cell_type": "markdown",
   "metadata": {
    "id": "WITPYRddeUk4"
   },
   "source": [
    "<h2><center> Dictionaries </center></h2>\n",
    "\n",
    "Dictionaries play a key role in Python and (as we will see in future labs) in Pandas.\n",
    "\n",
    "Dictionaries are **mappings between key and values**."
   ]
  },
  {
   "cell_type": "code",
   "execution_count": 93,
   "metadata": {
    "id": "8jhwOlINeUk4"
   },
   "outputs": [
    {
     "data": {
      "text/plain": [
       "{'jack': 4098, 'mary': 4139, 'guido': 4127}"
      ]
     },
     "execution_count": 93,
     "metadata": {},
     "output_type": "execute_result"
    }
   ],
   "source": [
    "tel = {'jack': 4098, 'mary': 4139}\n",
    "tel['guido'] = 4127\n",
    "tel"
   ]
  },
  {
   "cell_type": "code",
   "execution_count": 94,
   "metadata": {
    "id": "QPNZgHmeeUk4"
   },
   "outputs": [
    {
     "data": {
      "text/plain": [
       "4098"
      ]
     },
     "execution_count": 94,
     "metadata": {},
     "output_type": "execute_result"
    }
   ],
   "source": [
    "tel['jack']"
   ]
  },
  {
   "cell_type": "code",
   "execution_count": 95,
   "metadata": {
    "id": "ZxklxsNueUk4"
   },
   "outputs": [
    {
     "data": {
      "text/plain": [
       "dict_keys(['jack', 'mary', 'guido'])"
      ]
     },
     "execution_count": 95,
     "metadata": {},
     "output_type": "execute_result"
    }
   ],
   "source": [
    "tel.keys()"
   ]
  },
  {
   "cell_type": "code",
   "execution_count": 96,
   "metadata": {
    "id": "vERlC3T7eUk4"
   },
   "outputs": [
    {
     "data": {
      "text/plain": [
       "True"
      ]
     },
     "execution_count": 96,
     "metadata": {},
     "output_type": "execute_result"
    }
   ],
   "source": [
    "'guido' in tel\n",
    "True"
   ]
  },
  {
   "cell_type": "markdown",
   "metadata": {
    "id": "a1sfJhMZeUk4"
   },
   "source": [
    "<h2><center>Sets</center></h2>\n",
    "\n",
    "**Unordered** collections of **unique** items. Values within {curly brackets} and comma-separated. You can apply well-known set functions: union, intersection..."
   ]
  },
  {
   "cell_type": "code",
   "execution_count": 97,
   "metadata": {
    "id": "E3vxt7sVeUk4"
   },
   "outputs": [
    {
     "data": {
      "text/plain": [
       "{1, 3, 5, 7, 9}"
      ]
     },
     "execution_count": 97,
     "metadata": {},
     "output_type": "execute_result"
    }
   ],
   "source": [
    "primes = {2, 3, 5, 7}\n",
    "odds = set(range(1,10,2))\n",
    "odds"
   ]
  },
  {
   "cell_type": "code",
   "execution_count": 98,
   "metadata": {
    "id": "axtMbgHUeUk5"
   },
   "outputs": [
    {
     "data": {
      "text/plain": [
       "{1, 2, 3, 5, 7, 9}"
      ]
     },
     "execution_count": 98,
     "metadata": {},
     "output_type": "execute_result"
    }
   ],
   "source": [
    "primes | odds"
   ]
  },
  {
   "cell_type": "code",
   "execution_count": 99,
   "metadata": {
    "id": "fB6h0Ov8eUk5"
   },
   "outputs": [
    {
     "data": {
      "text/plain": [
       "{3, 5, 7}"
      ]
     },
     "execution_count": 99,
     "metadata": {},
     "output_type": "execute_result"
    }
   ],
   "source": [
    "primes & odds"
   ]
  },
  {
   "cell_type": "code",
   "execution_count": 100,
   "metadata": {
    "id": "HeQUv4YJeUk5"
   },
   "outputs": [
    {
     "data": {
      "text/plain": [
       "{1, 9}"
      ]
     },
     "execution_count": 100,
     "metadata": {},
     "output_type": "execute_result"
    }
   ],
   "source": [
    "odds - primes"
   ]
  },
  {
   "cell_type": "markdown",
   "metadata": {
    "id": "gQS7lbP9eUk5"
   },
   "source": [
    "**Q16: Can you write 1-line of code to count the number of integers from 0 to 10 that are prime and even?**"
   ]
  },
  {
   "cell_type": "code",
   "execution_count": 104,
   "metadata": {
    "id": "ngmox-6IeUk5"
   },
   "outputs": [
    {
     "data": {
      "text/plain": [
       "[2]"
      ]
     },
     "execution_count": 104,
     "metadata": {},
     "output_type": "execute_result"
    }
   ],
   "source": [
    "y = list(filter(lambda x: x in primes and x not in odds, x))\n",
    "y"
   ]
  },
  {
   "cell_type": "markdown",
   "metadata": {
    "id": "l1o6W-d2eUk5"
   },
   "source": [
    "<h2><center> Loops </center></h2>\n",
    "\n",
    "It is possible to use *for* to iterate over any object that is *iterable*. Lists, Strings, Tuples are iterable"
   ]
  },
  {
   "cell_type": "code",
   "execution_count": 1,
   "metadata": {
    "id": "GZKTZWumeUk5"
   },
   "outputs": [
    {
     "name": "stdout",
     "output_type": "stream",
     "text": [
      "w\n",
      "o\n",
      "r\n",
      "d\n",
      "s\n"
     ]
    }
   ],
   "source": [
    "for l in 'words':\n",
    "    print(l)"
   ]
  },
  {
   "cell_type": "code",
   "execution_count": 2,
   "metadata": {
    "id": "oIdv6lcOeUk5"
   },
   "outputs": [
    {
     "name": "stdout",
     "output_type": "stream",
     "text": [
      "cat 3\n",
      "window 6\n",
      "defenestrate 12\n"
     ]
    }
   ],
   "source": [
    "words = ['cat', 'window', 'defenestrate']\n",
    "for w in words:\n",
    "    print(w, len(w))"
   ]
  },
  {
   "cell_type": "code",
   "execution_count": 3,
   "metadata": {
    "id": "wWrnsC6zeUk6"
   },
   "outputs": [
    {
     "name": "stdout",
     "output_type": "stream",
     "text": [
      "cat 3\n",
      "defenestrate 12\n",
      "window 6\n"
     ]
    }
   ],
   "source": [
    "# sets are also iterable, but notice that the order does not matter...\n",
    "\n",
    "setwords = {'cat', 'window', 'defenestrate'}\n",
    "for w in setwords:\n",
    "    print(w, len(w))"
   ]
  },
  {
   "cell_type": "code",
   "execution_count": 11,
   "metadata": {
    "id": "cIde0wnBeUk6"
   },
   "outputs": [
    {
     "name": "stdout",
     "output_type": "stream",
     "text": [
      "5\n",
      "6\n",
      "7\n",
      "8\n",
      "9\n"
     ]
    }
   ],
   "source": [
    "for i in range(5,10):\n",
    "    print(i)"
   ]
  },
  {
   "cell_type": "markdown",
   "metadata": {
    "id": "ThIu_iCieUk6"
   },
   "source": [
    "**Q17: For the list ['cat', 'window', 'defenestrate'], can you work out how to output both the index - 0, 1 or 2 - and the entry - 'cat', 'window', 'defenestrate' - in the list on the same line in the print loop?**"
   ]
  },
  {
   "cell_type": "code",
   "execution_count": 16,
   "metadata": {
    "id": "9stQMhNfeUk6"
   },
   "outputs": [
    {
     "name": "stdout",
     "output_type": "stream",
     "text": [
      "0 cat\n",
      "1 defenestrate\n",
      "2 window\n"
     ]
    }
   ],
   "source": [
    "for i,w in enumerate(setwords):\n",
    "    print(f'{i} {w}')"
   ]
  },
  {
   "cell_type": "code",
   "execution_count": 18,
   "metadata": {
    "id": "SUlmabUieUk6"
   },
   "outputs": [
    {
     "data": {
      "text/plain": [
       "{'jack': 4098, 'sape': 4139, 'guido': 4127}"
      ]
     },
     "execution_count": 18,
     "metadata": {},
     "output_type": "execute_result"
    }
   ],
   "source": [
    "tel = {'jack': 4098, 'sape': 4139}\n",
    "tel['guido'] = 4127\n",
    "tel"
   ]
  },
  {
   "cell_type": "markdown",
   "metadata": {
    "id": "xWeXgceQeUk6"
   },
   "source": [
    "**Q18: Can you output all the entries in this dictionary, line by line?**"
   ]
  },
  {
   "cell_type": "code",
   "execution_count": 24,
   "metadata": {
    "id": "NHKuKJDEeUk6"
   },
   "outputs": [
    {
     "name": "stdout",
     "output_type": "stream",
     "text": [
      "jack: 4098\n",
      "sape: 4139\n",
      "guido: 4127\n"
     ]
    }
   ],
   "source": [
    "for k,v in tel.items():\n",
    "    print(f'{k}: {v}')"
   ]
  },
  {
   "cell_type": "markdown",
   "metadata": {
    "id": "vC1-_Ot2eUk6"
   },
   "source": [
    "<h2><center> List, Set and Dictionary Comprehension </center></h2>"
   ]
  },
  {
   "cell_type": "code",
   "execution_count": 25,
   "metadata": {
    "id": "7CnmsdzReUk6"
   },
   "outputs": [
    {
     "data": {
      "text/plain": [
       "[1, 2, 4, 5, 7, 8, 10, 11, 13, 14, 16, 17, 19]"
      ]
     },
     "execution_count": 25,
     "metadata": {},
     "output_type": "execute_result"
    }
   ],
   "source": [
    "[i for i in range(20) if i % 3 > 0]"
   ]
  },
  {
   "cell_type": "code",
   "execution_count": 26,
   "metadata": {
    "id": "i1whSzvSeUk6"
   },
   "outputs": [
    {
     "data": {
      "text/plain": [
       "{0, 1, 4, 9, 16, 25, 36, 49, 64, 81, 100, 121}"
      ]
     },
     "execution_count": 26,
     "metadata": {},
     "output_type": "execute_result"
    }
   ],
   "source": [
    "{n**2 for n in range(12)}"
   ]
  },
  {
   "cell_type": "code",
   "execution_count": 27,
   "metadata": {
    "id": "ASVZfwIueUk7"
   },
   "outputs": [
    {
     "data": {
      "text/plain": [
       "{0: 0, 1: 1, 2: 8, 3: 27, 4: 64, 5: 125}"
      ]
     },
     "execution_count": 27,
     "metadata": {},
     "output_type": "execute_result"
    }
   ],
   "source": [
    "{n:n**3 for n in range(6)}"
   ]
  },
  {
   "cell_type": "markdown",
   "metadata": {
    "id": "mN_L5vf-eUk7"
   },
   "source": [
    "**Q19: Can you write code, using list comprehension, to generate the following output? [(0, 0), (0, 1), (0, 2), (0, 3), (1, 0), (1, 1), (1, 2), (1, 3)]**"
   ]
  },
  {
   "cell_type": "code",
   "execution_count": 33,
   "metadata": {
    "id": "iAFhxRrJeUk7"
   },
   "outputs": [
    {
     "data": {
      "text/plain": [
       "[(0, 0), (0, 1), (0, 2), (0, 3), (1, 0), (1, 1), (1, 2), (1, 3)]"
      ]
     },
     "execution_count": 33,
     "metadata": {},
     "output_type": "execute_result"
    }
   ],
   "source": [
    "[(i, n%4) for i in range(2) for n in range(4)]"
   ]
  },
  {
   "cell_type": "markdown",
   "metadata": {
    "id": "MwhT146eeUk7"
   },
   "source": [
    "<h2><center> Function definition </center></h2>\n",
    "\n",
    "Functions are a way of creating more readable and reusable code. To create functions we will use the <code>def</code> statement. Below you can check a function implementing the first <code>N</code> values of the well-know [Fibonacci sequence](https://en.wikipedia.org/wiki/Fibonacci_number)."
   ]
  },
  {
   "cell_type": "code",
   "execution_count": 34,
   "metadata": {
    "id": "terNFzJCeUk7"
   },
   "outputs": [
    {
     "data": {
      "text/plain": [
       "[1, 1, 2, 3, 5, 8, 13, 21, 34, 55]"
      ]
     },
     "execution_count": 34,
     "metadata": {},
     "output_type": "execute_result"
    }
   ],
   "source": [
    "def fibonacci(N):\n",
    "    L = []\n",
    "    a, b = 0, 1\n",
    "    while len(L) < N:\n",
    "        a, b = b, a + b\n",
    "        L.append(a)\n",
    "    return L\n",
    "\n",
    "fibonacci(10)"
   ]
  },
  {
   "cell_type": "markdown",
   "metadata": {
    "id": "R_Hs9CUheUk7"
   },
   "source": [
    "**Q20: Can you create a function that receives a string (argument named s) and a character (argument named c) and returns a new string with all occurences of c removed?**"
   ]
  },
  {
   "cell_type": "code",
   "execution_count": 41,
   "metadata": {
    "id": "tku4q6fAeUk7"
   },
   "outputs": [
    {
     "data": {
      "text/plain": [
       "'heo word'"
      ]
     },
     "execution_count": 41,
     "metadata": {},
     "output_type": "execute_result"
    }
   ],
   "source": [
    "def remove_character(s, c):\n",
    "    return s.replace(c, '')\n",
    "\n",
    "remove_character(\"hello world\", 'l')"
   ]
  },
  {
   "cell_type": "markdown",
   "metadata": {
    "id": "usKbiacPeUk8"
   },
   "source": [
    "<h1><center> Part II: NumPy </center></h1>"
   ]
  },
  {
   "cell_type": "markdown",
   "metadata": {
    "id": "ugzm8kvfeUk8"
   },
   "source": [
    "We have seen previously that a list in Python can store variables referring to any type of object. This brings flexibility but introduces some computational ineficiency. Each item in the list needs to be a complete object and operations within a list always need to check the type of objects they are applied to. \n",
    "\n",
    "**NumPy** provides an efficient way to store and manipulate multi-dimensional arrays in NumPy. This is achieved as arrays in python are fixed-type: only numerical values, from the same type, can be stored in one NumPy array (*ndarray*). We lose flexibility but gain efficiency in storing and manipulating data. A lot of projects in data science involve manipulating numerical values, so it is convinient to master a library intirely dedicated to such data type. Some further advantages of NumPy are:\n",
    "\n",
    "* It provides an *ndarray* structure, which allows efficient storage and manipulation of vectors, matrices, and higher-dimensional datasets.\n",
    "* It provides a readable and efficient syntax for operating on this data, from simple element-wise arithmetic to more complicated linear algebraic operations.\n",
    "\n",
    "To use the functionality provided by the NumPy library we need first to import it. The line <code>import numpy as np</code> allows to import NumPy and to create a shorter alias for its namespace. \n",
    "By convention NumPy is imported under the alias np. \n",
    "We can then use the NumPy types and methods using the prefix <code>np.</code>\n"
   ]
  },
  {
   "cell_type": "code",
   "execution_count": 42,
   "metadata": {
    "id": "8xgO4FB6eUk8"
   },
   "outputs": [],
   "source": [
    "import numpy as np"
   ]
  },
  {
   "cell_type": "markdown",
   "metadata": {
    "id": "BoMUo7KEeUk8"
   },
   "source": [
    "<h2><center> Arrays </center></h2>"
   ]
  },
  {
   "cell_type": "code",
   "execution_count": 43,
   "metadata": {
    "id": "WXgmUzVyeUk8"
   },
   "outputs": [
    {
     "data": {
      "text/plain": [
       "array([10, 11, 12, 13, 14, 15, 16, 17, 18])"
      ]
     },
     "execution_count": 43,
     "metadata": {},
     "output_type": "execute_result"
    }
   ],
   "source": [
    "# Create a NumPy array from a Python list:\n",
    "\n",
    "list_of_numbers = [10,11,12,13,14,15,16,17,18]\n",
    "numpy_array_of_numbers = np.array(list_of_numbers)\n",
    "numpy_array_of_numbers"
   ]
  },
  {
   "cell_type": "code",
   "execution_count": 44,
   "metadata": {
    "id": "HqIX_flOeUk8"
   },
   "outputs": [
    {
     "data": {
      "text/plain": [
       "array([10, 11, 12, 13, 14, 15, 16, 17, 18])"
      ]
     },
     "execution_count": 44,
     "metadata": {},
     "output_type": "execute_result"
    }
   ],
   "source": [
    "# Create a NumPy array with the NumPy method np.arange\n",
    "\n",
    "another_numpy_array = np.arange(10,19)\n",
    "another_numpy_array"
   ]
  },
  {
   "cell_type": "code",
   "execution_count": 45,
   "metadata": {
    "id": "-pcO2qqpeUk9"
   },
   "outputs": [
    {
     "name": "stdout",
     "output_type": "stream",
     "text": [
      "(9,) (9,)\n"
     ]
    }
   ],
   "source": [
    "print(numpy_array_of_numbers.shape, another_numpy_array.shape)"
   ]
  },
  {
   "cell_type": "markdown",
   "metadata": {
    "id": "fjrKYUZDeUk9"
   },
   "source": [
    "**Q21: Can you make a numpy array of only even numbers between 10 and 20 (inclusive), without using a loop?**"
   ]
  },
  {
   "cell_type": "code",
   "execution_count": 48,
   "metadata": {
    "id": "wYNLRvCzeUk9"
   },
   "outputs": [
    {
     "data": {
      "text/plain": [
       "array([10, 12, 14, 16, 18])"
      ]
     },
     "execution_count": 48,
     "metadata": {},
     "output_type": "execute_result"
    }
   ],
   "source": [
    "np.array(range(10,20,2))"
   ]
  },
  {
   "cell_type": "markdown",
   "metadata": {
    "id": "Jy2bjB4ZeUk9"
   },
   "source": [
    "<h2><center> Indexing and slicing </center></h2>"
   ]
  },
  {
   "cell_type": "code",
   "execution_count": 49,
   "metadata": {
    "id": "2Kk4AJwFeUk9"
   },
   "outputs": [
    {
     "data": {
      "text/plain": [
       "array([20, 21, 22, 23, 24, 25, 26, 27, 28, 29])"
      ]
     },
     "execution_count": 49,
     "metadata": {},
     "output_type": "execute_result"
    }
   ],
   "source": [
    "yet_another_numpy_array = np.array([20,21,22,23,24,25,26,27,28,29])\n",
    "yet_another_numpy_array"
   ]
  },
  {
   "cell_type": "code",
   "execution_count": 50,
   "metadata": {
    "id": "1ENhq1xzeUk9"
   },
   "outputs": [
    {
     "data": {
      "text/plain": [
       "25"
      ]
     },
     "execution_count": 50,
     "metadata": {},
     "output_type": "execute_result"
    }
   ],
   "source": [
    "yet_another_numpy_array[5]"
   ]
  },
  {
   "cell_type": "code",
   "execution_count": 51,
   "metadata": {
    "id": "P302XPdXeUk9"
   },
   "outputs": [
    {
     "data": {
      "text/plain": [
       "array([23, 24, 25, 26, 27, 28, 29])"
      ]
     },
     "execution_count": 51,
     "metadata": {},
     "output_type": "execute_result"
    }
   ],
   "source": [
    "yet_another_numpy_array[3:]"
   ]
  },
  {
   "cell_type": "code",
   "execution_count": 52,
   "metadata": {
    "id": "B7L30E0heUk9"
   },
   "outputs": [
    {
     "data": {
      "text/plain": [
       "array([20, 21, 22, 23, 24, 25, 26, 27])"
      ]
     },
     "execution_count": 52,
     "metadata": {},
     "output_type": "execute_result"
    }
   ],
   "source": [
    "yet_another_numpy_array[:-2]"
   ]
  },
  {
   "cell_type": "code",
   "execution_count": 53,
   "metadata": {
    "id": "SRVWyN4HeUk9"
   },
   "outputs": [
    {
     "data": {
      "text/plain": [
       "array([20, 21, 22, 23])"
      ]
     },
     "execution_count": 53,
     "metadata": {},
     "output_type": "execute_result"
    }
   ],
   "source": [
    "yet_another_numpy_array[[True,True,True,True,False,False,False,False,False,False]] #boolean array as mask"
   ]
  },
  {
   "cell_type": "code",
   "execution_count": 54,
   "metadata": {
    "id": "Pkj6QkF1eUk9"
   },
   "outputs": [
    {
     "data": {
      "text/plain": [
       "array([25, 26, 27, 28, 29])"
      ]
     },
     "execution_count": 54,
     "metadata": {},
     "output_type": "execute_result"
    }
   ],
   "source": [
    "yet_another_numpy_array[yet_another_numpy_array > 24] #boolean array as mask"
   ]
  },
  {
   "cell_type": "code",
   "execution_count": 55,
   "metadata": {
    "id": "LJUVssAneUk9"
   },
   "outputs": [
    {
     "data": {
      "text/plain": [
       "array([20, 24, 25])"
      ]
     },
     "execution_count": 55,
     "metadata": {},
     "output_type": "execute_result"
    }
   ],
   "source": [
    "yet_another_numpy_array[[0,4,5]] #fancy indexing"
   ]
  },
  {
   "cell_type": "markdown",
   "metadata": {
    "id": "1UzReWfheUk9"
   },
   "source": [
    "**Q22: How would you select only values between the \"4th from last\" to the \"2nd from last\" entries of this array?**"
   ]
  },
  {
   "cell_type": "code",
   "execution_count": 56,
   "metadata": {
    "id": "ll5s8YtNeUk-"
   },
   "outputs": [
    {
     "data": {
      "text/plain": [
       "array([26, 27])"
      ]
     },
     "execution_count": 56,
     "metadata": {},
     "output_type": "execute_result"
    }
   ],
   "source": [
    "yet_another_numpy_array[-4:-2]"
   ]
  },
  {
   "cell_type": "markdown",
   "metadata": {
    "id": "CAm1OwUYeUk-"
   },
   "source": [
    "<h2><center> 2D Arrays </center></h2>"
   ]
  },
  {
   "cell_type": "code",
   "execution_count": 57,
   "metadata": {
    "id": "j_YmhryweUk-"
   },
   "outputs": [
    {
     "data": {
      "text/plain": [
       "array([[11, 12],\n",
       "       [13, 14]])"
      ]
     },
     "execution_count": 57,
     "metadata": {},
     "output_type": "execute_result"
    }
   ],
   "source": [
    "a_numpy_2d_array = np.array([[11,12],[13,14]])\n",
    "a_numpy_2d_array"
   ]
  },
  {
   "cell_type": "code",
   "execution_count": 58,
   "metadata": {
    "id": "3y2UVAJZeUk-"
   },
   "outputs": [
    {
     "data": {
      "text/plain": [
       "13"
      ]
     },
     "execution_count": 58,
     "metadata": {},
     "output_type": "execute_result"
    }
   ],
   "source": [
    "a_numpy_2d_array[1,0]"
   ]
  },
  {
   "cell_type": "code",
   "execution_count": 59,
   "metadata": {
    "id": "moLqbKd7eUk-"
   },
   "outputs": [
    {
     "data": {
      "text/plain": [
       "array([11, 13])"
      ]
     },
     "execution_count": 59,
     "metadata": {},
     "output_type": "execute_result"
    }
   ],
   "source": [
    "a_numpy_2d_array[:,0]"
   ]
  },
  {
   "cell_type": "markdown",
   "metadata": {
    "id": "RupzPr5EeUk-"
   },
   "source": [
    "**Q23: Can you switch the [row,column] indices on this array?**"
   ]
  },
  {
   "cell_type": "code",
   "execution_count": 60,
   "metadata": {
    "id": "-yYzb2xzeUk-"
   },
   "outputs": [
    {
     "data": {
      "text/plain": [
       "array([[11, 13],\n",
       "       [12, 14]])"
      ]
     },
     "execution_count": 60,
     "metadata": {},
     "output_type": "execute_result"
    }
   ],
   "source": [
    "a_numpy_2d_array.T"
   ]
  },
  {
   "cell_type": "markdown",
   "metadata": {
    "id": "TwbXwPtGeUk_"
   },
   "source": [
    "<h2><center> Reshaping Arrays </center></h2>"
   ]
  },
  {
   "cell_type": "code",
   "execution_count": 61,
   "metadata": {
    "id": "paWKwoDReUk_"
   },
   "outputs": [
    {
     "name": "stdout",
     "output_type": "stream",
     "text": [
      "[0 1 2 3 4 5 6 7 8]  Shape:  (9,)\n"
     ]
    }
   ],
   "source": [
    "numpy_digits_array = np.arange(0,9)\n",
    "print(numpy_digits_array, \" Shape: \", numpy_digits_array.shape)"
   ]
  },
  {
   "cell_type": "code",
   "execution_count": 62,
   "metadata": {
    "id": "sW84nux4eUk_"
   },
   "outputs": [
    {
     "name": "stdout",
     "output_type": "stream",
     "text": [
      "[[0 1 2]\n",
      " [3 4 5]\n",
      " [6 7 8]]  Shape:  (3, 3)\n"
     ]
    }
   ],
   "source": [
    "numpy_digits_array_2D = numpy_digits_array.reshape([3,3])\n",
    "print(numpy_digits_array_2D, \" Shape: \", numpy_digits_array_2D.shape)"
   ]
  },
  {
   "cell_type": "code",
   "execution_count": 63,
   "metadata": {
    "id": "UwYy9avteUk_"
   },
   "outputs": [
    {
     "name": "stdout",
     "output_type": "stream",
     "text": [
      "[0 1 2 3 4 5 6 7 8]  Shape:  (9,)\n"
     ]
    }
   ],
   "source": [
    "numpy_digits_array_2D_back_to_1D = numpy_digits_array_2D.reshape(-1)\n",
    "print(numpy_digits_array_2D_back_to_1D, \" Shape: \", numpy_digits_array_2D_back_to_1D.shape)"
   ]
  },
  {
   "cell_type": "code",
   "execution_count": 64,
   "metadata": {
    "id": "RbIZ-8MzeUk_"
   },
   "outputs": [
    {
     "name": "stdout",
     "output_type": "stream",
     "text": [
      "[[0 1 2 3 4 5 6 7 8]]  Shape:  (1, 9)\n"
     ]
    }
   ],
   "source": [
    "numpy_with_extra_dim = np.expand_dims(numpy_digits_array_2D_back_to_1D, 0)\n",
    "print(numpy_with_extra_dim, \" Shape: \", numpy_with_extra_dim.shape)"
   ]
  },
  {
   "cell_type": "markdown",
   "metadata": {
    "id": "ATsGqzgxeUk_"
   },
   "source": [
    "**Q24: How would you add an extra length one dimension at the end of the numpy_digits_array_2D_back_to_1D to make it shape (9,1)?**"
   ]
  },
  {
   "cell_type": "code",
   "execution_count": 67,
   "metadata": {
    "id": "1_D0CRRfeUk_"
   },
   "outputs": [
    {
     "name": "stdout",
     "output_type": "stream",
     "text": [
      "[[0]\n",
      " [1]\n",
      " [2]\n",
      " [3]\n",
      " [4]\n",
      " [5]\n",
      " [6]\n",
      " [7]\n",
      " [8]]  Shape:  (9, 1)\n"
     ]
    }
   ],
   "source": [
    "answer = np.expand_dims(numpy_digits_array_2D_back_to_1D, 1)\n",
    "print(answer, \" Shape: \", answer.shape)"
   ]
  },
  {
   "cell_type": "markdown",
   "metadata": {
    "id": "-2jtaXVceUk_"
   },
   "source": [
    "<h2><center> Arithmetic </center></h2>"
   ]
  },
  {
   "cell_type": "code",
   "execution_count": 68,
   "metadata": {
    "id": "5IN8YF0geUk_"
   },
   "outputs": [
    {
     "name": "stdout",
     "output_type": "stream",
     "text": [
      "a:\n",
      " [[10 11]\n",
      " [12 13]]\n",
      "b:\n",
      " [[ 1 -1]\n",
      " [-1  1]]\n"
     ]
    }
   ],
   "source": [
    "a = np.array([[10,11],[12,13]])\n",
    "b = np.array([[1,-1],[-1,1]])\n",
    "print(\"a:\\n\", a)\n",
    "print(\"b:\\n\", b)"
   ]
  },
  {
   "cell_type": "code",
   "execution_count": 69,
   "metadata": {
    "id": "I3RyuC5_eUk_"
   },
   "outputs": [
    {
     "name": "stdout",
     "output_type": "stream",
     "text": [
      "a*b:\n",
      " [[ 10 -11]\n",
      " [-12  13]]\n",
      "a+b:\n",
      " [[11 10]\n",
      " [11 14]]\n"
     ]
    }
   ],
   "source": [
    "print(\"a*b:\\n\", a*b)\n",
    "print(\"a+b:\\n\", a+b)"
   ]
  },
  {
   "cell_type": "code",
   "execution_count": 70,
   "metadata": {
    "id": "tu1ijaWzeUk_"
   },
   "outputs": [
    {
     "name": "stdout",
     "output_type": "stream",
     "text": [
      "Matrix multiplication of a and b:\n",
      " [[-1  1]\n",
      " [-1  1]]\n"
     ]
    }
   ],
   "source": [
    "print(\"Matrix multiplication of a and b:\\n\",np.matmul(a,b))"
   ]
  },
  {
   "cell_type": "code",
   "execution_count": 71,
   "metadata": {
    "id": "HOrFYltPeUlA"
   },
   "outputs": [
    {
     "data": {
      "text/plain": [
       "46"
      ]
     },
     "execution_count": 71,
     "metadata": {},
     "output_type": "execute_result"
    }
   ],
   "source": [
    "np.sum(a)"
   ]
  },
  {
   "cell_type": "code",
   "execution_count": 72,
   "metadata": {
    "id": "cTX7fnuteUlA"
   },
   "outputs": [
    {
     "name": "stdout",
     "output_type": "stream",
     "text": [
      "[[10 11]\n",
      " [12 13]]\n",
      "Sum all entries:  46\n",
      "Sum along lines:  [21 25]\n",
      "Sum along columns:  [22 24]\n"
     ]
    }
   ],
   "source": [
    "print(a)\n",
    "print(\"Sum all entries: \", np.sum(a))\n",
    "print(\"Sum along lines: \", np.sum(a, axis=1))\n",
    "print(\"Sum along columns: \", np.sum(a, axis=0))\n",
    "\n",
    "#axis: the dimension of the array that will be colapsed"
   ]
  },
  {
   "cell_type": "markdown",
   "metadata": {
    "id": "sgDzQELteUlA"
   },
   "source": [
    "**Q25: Axist are important: Can you get the maximum over columns of these matrices? And the minimum over lines?**"
   ]
  },
  {
   "cell_type": "code",
   "execution_count": 81,
   "metadata": {
    "id": "8-Bd0lRveUlA"
   },
   "outputs": [
    {
     "name": "stdout",
     "output_type": "stream",
     "text": [
      "Max of columns:  13\n",
      "Max along columns:  [12 13]\n",
      "Max along lines:  [10 12]\n"
     ]
    }
   ],
   "source": [
    "print(\"Max of columns: \", a.max())\n",
    "print(\"Max along columns: \", a.max(axis=0))\n",
    "print(\"Max along lines: \", a.min(axis=1))"
   ]
  },
  {
   "cell_type": "markdown",
   "metadata": {
    "id": "LORq1swFeUlA"
   },
   "source": [
    "<h1><center> Broadcasting </center></h1>"
   ]
  },
  {
   "cell_type": "code",
   "execution_count": 82,
   "metadata": {
    "id": "j0ZIRhtweUlA"
   },
   "outputs": [
    {
     "name": "stdout",
     "output_type": "stream",
     "text": [
      "[2. 4. 6.]    [ 7.  8.  9. 10.]\n"
     ]
    }
   ],
   "source": [
    "a = np.array([2.0, 4.0, 6.0])\n",
    "b = np.array([7.0, 8.0, 9.0, 10.0])\n",
    "print(a,\"  \",b)"
   ]
  },
  {
   "cell_type": "code",
   "execution_count": 83,
   "metadata": {
    "id": "73h46y7beUlA"
   },
   "outputs": [
    {
     "ename": "ValueError",
     "evalue": "operands could not be broadcast together with shapes (3,) (4,) ",
     "output_type": "error",
     "traceback": [
      "\u001b[1;31m---------------------------------------------------------------------------\u001b[0m",
      "\u001b[1;31mValueError\u001b[0m                                Traceback (most recent call last)",
      "\u001b[1;32m<ipython-input-83-72316e89b886>\u001b[0m in \u001b[0;36m<module>\u001b[1;34m\u001b[0m\n\u001b[1;32m----> 1\u001b[1;33m \u001b[0ma\u001b[0m\u001b[1;33m+\u001b[0m\u001b[0mb\u001b[0m\u001b[1;33m\u001b[0m\u001b[1;33m\u001b[0m\u001b[0m\n\u001b[0m\u001b[0;32m      2\u001b[0m \u001b[1;33m\u001b[0m\u001b[0m\n\u001b[0;32m      3\u001b[0m \u001b[1;31m# Error? Understand why...\u001b[0m\u001b[1;33m\u001b[0m\u001b[1;33m\u001b[0m\u001b[1;33m\u001b[0m\u001b[0m\n",
      "\u001b[1;31mValueError\u001b[0m: operands could not be broadcast together with shapes (3,) (4,) "
     ]
    }
   ],
   "source": [
    "a+b\n",
    "\n",
    "# Error? Understand why..."
   ]
  },
  {
   "cell_type": "code",
   "execution_count": 84,
   "metadata": {
    "id": "xuxQL4VueUlA"
   },
   "outputs": [
    {
     "name": "stdout",
     "output_type": "stream",
     "text": [
      "[[2.]\n",
      " [4.]\n",
      " [6.]]\n"
     ]
    },
    {
     "data": {
      "text/plain": [
       "array([[ 9., 10., 11., 12.],\n",
       "       [11., 12., 13., 14.],\n",
       "       [13., 14., 15., 16.]])"
      ]
     },
     "execution_count": 84,
     "metadata": {},
     "output_type": "execute_result"
    }
   ],
   "source": [
    "print(a.reshape(3,1))\n",
    "a.reshape(3,1)+b"
   ]
  },
  {
   "cell_type": "code",
   "execution_count": 85,
   "metadata": {
    "id": "FEXP3sWPeUlA"
   },
   "outputs": [
    {
     "data": {
      "text/plain": [
       "array([ 9., 12., 15.])"
      ]
     },
     "execution_count": 85,
     "metadata": {},
     "output_type": "execute_result"
    }
   ],
   "source": [
    "a+b[:3]"
   ]
  },
  {
   "cell_type": "markdown",
   "metadata": {
    "id": "fe_itBZ-eUlA"
   },
   "source": [
    "<h1><center> Random Variables </center></h1>"
   ]
  },
  {
   "cell_type": "code",
   "execution_count": 86,
   "metadata": {
    "id": "7PmG87WeeUlB"
   },
   "outputs": [
    {
     "name": "stdout",
     "output_type": "stream",
     "text": [
      "1 random uniform number:\n",
      " 0.012874489678391332\n",
      "3 random uniform numbers:\n",
      " [0.81600933 0.36273581 0.63408515]\n"
     ]
    }
   ],
   "source": [
    "print(\"1 random uniform number:\\n\", np.random.uniform(low=0,high=1))\n",
    "print(\"3 random uniform numbers:\\n\", np.random.uniform(low=0,high=1,size=3))"
   ]
  },
  {
   "cell_type": "code",
   "execution_count": 87,
   "metadata": {
    "id": "mltsAenWeUlB"
   },
   "outputs": [
    {
     "name": "stdout",
     "output_type": "stream",
     "text": [
      "3 random normally distributed numbers:\n",
      " [ 0.06800523 -0.585561   -0.33588271]\n"
     ]
    }
   ],
   "source": [
    "print(\"3 random normally distributed numbers:\\n\", np.random.normal(loc=0.0, scale=1.0,size=3))"
   ]
  },
  {
   "cell_type": "code",
   "execution_count": 88,
   "metadata": {
    "id": "xQu_HTzseUlB"
   },
   "outputs": [
    {
     "name": "stdout",
     "output_type": "stream",
     "text": [
      "3 random Binomially distributed numbers:\n",
      " [0 1 1]\n"
     ]
    }
   ],
   "source": [
    "print(\"3 random Binomially distributed numbers:\\n\", np.random.binomial(n=1, p=0.5, size=3))"
   ]
  },
  {
   "cell_type": "markdown",
   "metadata": {
    "id": "FgAEQTXgeUlB"
   },
   "source": [
    "**Q26: Can you get get 10 random variables from a Poisson distribution of mean 1?**"
   ]
  },
  {
   "cell_type": "code",
   "execution_count": 99,
   "metadata": {
    "id": "pjwBbonWeUlB"
   },
   "outputs": [
    {
     "data": {
      "text/plain": [
       "array([0, 0, 2, 2, 0, 2, 1, 2, 0, 0])"
      ]
     },
     "execution_count": 99,
     "metadata": {},
     "output_type": "execute_result"
    }
   ],
   "source": [
    "np.random.poisson(1.0, 10)"
   ]
  },
  {
   "cell_type": "markdown",
   "metadata": {
    "id": "1WEUAXbDeUlB"
   },
   "source": [
    "<h1><center> Part III: Other Libraries </center></h1>"
   ]
  },
  {
   "cell_type": "markdown",
   "metadata": {
    "id": "JQ-TEh6OeUlB"
   },
   "source": [
    "Here the goal is to guarantee you have installed the libraries we will (extensivelly) use in the next Labs: *Pandas*, *Matplotlib* and *Scikit-learn*. You can also use the following examples to have a first contact with the syntax of these libraries. No questions are posed in the following cells, but feel free to experiment with the code provided."
   ]
  },
  {
   "cell_type": "markdown",
   "metadata": {
    "id": "n2UorlGkeUlB"
   },
   "source": [
    "<h2><center> Pandas </center></h2>"
   ]
  },
  {
   "cell_type": "code",
   "execution_count": 100,
   "metadata": {
    "id": "iyieooz2eUlB"
   },
   "outputs": [
    {
     "data": {
      "text/plain": [
       "0    20\n",
       "1    21\n",
       "2    22\n",
       "3    23\n",
       "4    24\n",
       "dtype: int32"
      ]
     },
     "execution_count": 100,
     "metadata": {},
     "output_type": "execute_result"
    }
   ],
   "source": [
    "import pandas as pd\n",
    "\n",
    "integer_numpy_array = np.arange(20,25)\n",
    "pandas_series = pd.Series(integer_numpy_array)\n",
    "pandas_series"
   ]
  },
  {
   "cell_type": "markdown",
   "metadata": {
    "id": "J1PPlmmMeUlB"
   },
   "source": [
    "To execute the next cell make sure to have in the same directory as the notebook of Lab 1 the file *DataPanelWHR2021C2.xls*. This dataset consists in the **The World Happiness Report 2021**. We will use this dataset in the coming Labs and in the group assignment."
   ]
  },
  {
   "cell_type": "code",
   "execution_count": 101,
   "metadata": {
    "id": "tUPxN7AFeUlC"
   },
   "outputs": [
    {
     "data": {
      "text/html": [
       "<div>\n",
       "<style scoped>\n",
       "    .dataframe tbody tr th:only-of-type {\n",
       "        vertical-align: middle;\n",
       "    }\n",
       "\n",
       "    .dataframe tbody tr th {\n",
       "        vertical-align: top;\n",
       "    }\n",
       "\n",
       "    .dataframe thead th {\n",
       "        text-align: right;\n",
       "    }\n",
       "</style>\n",
       "<table border=\"1\" class=\"dataframe\">\n",
       "  <thead>\n",
       "    <tr style=\"text-align: right;\">\n",
       "      <th></th>\n",
       "      <th>year</th>\n",
       "      <th>Life Ladder</th>\n",
       "      <th>Log GDP per capita</th>\n",
       "      <th>Social support</th>\n",
       "      <th>Healthy life expectancy at birth</th>\n",
       "      <th>Freedom to make life choices</th>\n",
       "      <th>Generosity</th>\n",
       "      <th>Perceptions of corruption</th>\n",
       "      <th>Positive affect</th>\n",
       "      <th>Negative affect</th>\n",
       "    </tr>\n",
       "    <tr>\n",
       "      <th>Country name</th>\n",
       "      <th></th>\n",
       "      <th></th>\n",
       "      <th></th>\n",
       "      <th></th>\n",
       "      <th></th>\n",
       "      <th></th>\n",
       "      <th></th>\n",
       "      <th></th>\n",
       "      <th></th>\n",
       "      <th></th>\n",
       "    </tr>\n",
       "  </thead>\n",
       "  <tbody>\n",
       "    <tr>\n",
       "      <th>Afghanistan</th>\n",
       "      <td>2008</td>\n",
       "      <td>3.723590</td>\n",
       "      <td>7.370100</td>\n",
       "      <td>0.450662</td>\n",
       "      <td>50.799999</td>\n",
       "      <td>0.718114</td>\n",
       "      <td>0.167640</td>\n",
       "      <td>0.881686</td>\n",
       "      <td>0.517637</td>\n",
       "      <td>0.258195</td>\n",
       "    </tr>\n",
       "    <tr>\n",
       "      <th>Afghanistan</th>\n",
       "      <td>2009</td>\n",
       "      <td>4.401778</td>\n",
       "      <td>7.539972</td>\n",
       "      <td>0.552308</td>\n",
       "      <td>51.200001</td>\n",
       "      <td>0.678896</td>\n",
       "      <td>0.190099</td>\n",
       "      <td>0.850035</td>\n",
       "      <td>0.583926</td>\n",
       "      <td>0.237092</td>\n",
       "    </tr>\n",
       "    <tr>\n",
       "      <th>Afghanistan</th>\n",
       "      <td>2010</td>\n",
       "      <td>4.758381</td>\n",
       "      <td>7.646709</td>\n",
       "      <td>0.539075</td>\n",
       "      <td>51.599998</td>\n",
       "      <td>0.600127</td>\n",
       "      <td>0.120590</td>\n",
       "      <td>0.706766</td>\n",
       "      <td>0.618265</td>\n",
       "      <td>0.275324</td>\n",
       "    </tr>\n",
       "    <tr>\n",
       "      <th>Afghanistan</th>\n",
       "      <td>2011</td>\n",
       "      <td>3.831719</td>\n",
       "      <td>7.619532</td>\n",
       "      <td>0.521104</td>\n",
       "      <td>51.919998</td>\n",
       "      <td>0.495901</td>\n",
       "      <td>0.162427</td>\n",
       "      <td>0.731109</td>\n",
       "      <td>0.611387</td>\n",
       "      <td>0.267175</td>\n",
       "    </tr>\n",
       "    <tr>\n",
       "      <th>Afghanistan</th>\n",
       "      <td>2012</td>\n",
       "      <td>3.782938</td>\n",
       "      <td>7.705479</td>\n",
       "      <td>0.520637</td>\n",
       "      <td>52.240002</td>\n",
       "      <td>0.530935</td>\n",
       "      <td>0.236032</td>\n",
       "      <td>0.775620</td>\n",
       "      <td>0.710385</td>\n",
       "      <td>0.267919</td>\n",
       "    </tr>\n",
       "  </tbody>\n",
       "</table>\n",
       "</div>"
      ],
      "text/plain": [
       "              year  Life Ladder  Log GDP per capita  Social support  \\\n",
       "Country name                                                          \n",
       "Afghanistan   2008     3.723590            7.370100        0.450662   \n",
       "Afghanistan   2009     4.401778            7.539972        0.552308   \n",
       "Afghanistan   2010     4.758381            7.646709        0.539075   \n",
       "Afghanistan   2011     3.831719            7.619532        0.521104   \n",
       "Afghanistan   2012     3.782938            7.705479        0.520637   \n",
       "\n",
       "              Healthy life expectancy at birth  Freedom to make life choices  \\\n",
       "Country name                                                                   \n",
       "Afghanistan                          50.799999                      0.718114   \n",
       "Afghanistan                          51.200001                      0.678896   \n",
       "Afghanistan                          51.599998                      0.600127   \n",
       "Afghanistan                          51.919998                      0.495901   \n",
       "Afghanistan                          52.240002                      0.530935   \n",
       "\n",
       "              Generosity  Perceptions of corruption  Positive affect  \\\n",
       "Country name                                                           \n",
       "Afghanistan     0.167640                   0.881686         0.517637   \n",
       "Afghanistan     0.190099                   0.850035         0.583926   \n",
       "Afghanistan     0.120590                   0.706766         0.618265   \n",
       "Afghanistan     0.162427                   0.731109         0.611387   \n",
       "Afghanistan     0.236032                   0.775620         0.710385   \n",
       "\n",
       "              Negative affect  \n",
       "Country name                   \n",
       "Afghanistan          0.258195  \n",
       "Afghanistan          0.237092  \n",
       "Afghanistan          0.275324  \n",
       "Afghanistan          0.267175  \n",
       "Afghanistan          0.267919  "
      ]
     },
     "execution_count": 101,
     "metadata": {},
     "output_type": "execute_result"
    }
   ],
   "source": [
    "dataframe = pd.read_excel('DataPanelWHR2021C2.xls', index_col=0) \n",
    "dataframe.head()"
   ]
  },
  {
   "cell_type": "code",
   "execution_count": 102,
   "metadata": {
    "id": "VcpPpnE4eUlC"
   },
   "outputs": [
    {
     "data": {
      "text/html": [
       "<div>\n",
       "<style scoped>\n",
       "    .dataframe tbody tr th:only-of-type {\n",
       "        vertical-align: middle;\n",
       "    }\n",
       "\n",
       "    .dataframe tbody tr th {\n",
       "        vertical-align: top;\n",
       "    }\n",
       "\n",
       "    .dataframe thead th {\n",
       "        text-align: right;\n",
       "    }\n",
       "</style>\n",
       "<table border=\"1\" class=\"dataframe\">\n",
       "  <thead>\n",
       "    <tr style=\"text-align: right;\">\n",
       "      <th></th>\n",
       "      <th>Life Ladder</th>\n",
       "    </tr>\n",
       "    <tr>\n",
       "      <th>Country name</th>\n",
       "      <th></th>\n",
       "    </tr>\n",
       "  </thead>\n",
       "  <tbody>\n",
       "    <tr>\n",
       "      <th>Albania</th>\n",
       "      <td>5.364910</td>\n",
       "    </tr>\n",
       "    <tr>\n",
       "      <th>Argentina</th>\n",
       "      <td>5.900567</td>\n",
       "    </tr>\n",
       "    <tr>\n",
       "      <th>Australia</th>\n",
       "      <td>7.137368</td>\n",
       "    </tr>\n",
       "    <tr>\n",
       "      <th>Austria</th>\n",
       "      <td>7.213489</td>\n",
       "    </tr>\n",
       "    <tr>\n",
       "      <th>Bahrain</th>\n",
       "      <td>6.173176</td>\n",
       "    </tr>\n",
       "    <tr>\n",
       "      <th>...</th>\n",
       "      <td>...</td>\n",
       "    </tr>\n",
       "    <tr>\n",
       "      <th>United States</th>\n",
       "      <td>7.028088</td>\n",
       "    </tr>\n",
       "    <tr>\n",
       "      <th>Uruguay</th>\n",
       "      <td>6.309681</td>\n",
       "    </tr>\n",
       "    <tr>\n",
       "      <th>Venezuela</th>\n",
       "      <td>4.573830</td>\n",
       "    </tr>\n",
       "    <tr>\n",
       "      <th>Zambia</th>\n",
       "      <td>4.837992</td>\n",
       "    </tr>\n",
       "    <tr>\n",
       "      <th>Zimbabwe</th>\n",
       "      <td>3.159802</td>\n",
       "    </tr>\n",
       "  </tbody>\n",
       "</table>\n",
       "<p>95 rows × 1 columns</p>\n",
       "</div>"
      ],
      "text/plain": [
       "               Life Ladder\n",
       "Country name              \n",
       "Albania           5.364910\n",
       "Argentina         5.900567\n",
       "Australia         7.137368\n",
       "Austria           7.213489\n",
       "Bahrain           6.173176\n",
       "...                    ...\n",
       "United States     7.028088\n",
       "Uruguay           6.309681\n",
       "Venezuela         4.573830\n",
       "Zambia            4.837992\n",
       "Zimbabwe          3.159802\n",
       "\n",
       "[95 rows x 1 columns]"
      ]
     },
     "execution_count": 102,
     "metadata": {},
     "output_type": "execute_result"
    }
   ],
   "source": [
    "dataframe.loc[dataframe.year==2020,['Life Ladder']]"
   ]
  },
  {
   "cell_type": "markdown",
   "metadata": {
    "id": "1Dncxj3teUlC"
   },
   "source": [
    "<h2><center> Matplotlib </center></h2>"
   ]
  },
  {
   "cell_type": "code",
   "execution_count": 106,
   "metadata": {
    "id": "QdJBGOT9eUlC"
   },
   "outputs": [
    {
     "data": {
      "image/png": "[encoded data removed]",
      "text/plain": [
       "<Figure size 432x288 with 1 Axes>"
      ]
     },
     "metadata": {
      "needs_background": "light"
     },
     "output_type": "display_data"
    }
   ],
   "source": [
    "import matplotlib.pyplot as plt\n",
    "\n",
    "integer_numpy_array = np.sin(np.arange(0,10,0.01))\n",
    "pandas_series = pd.Series(integer_numpy_array)\n",
    "\n",
    "fig = plt.figure()\n",
    "plt.plot(pandas_series)\n",
    "plt.show()"
   ]
  },
  {
   "cell_type": "markdown",
   "metadata": {
    "id": "DCct00mkeUlC"
   },
   "source": [
    "<h2><center> Scikit-learn </center></h2>"
   ]
  },
  {
   "cell_type": "code",
   "execution_count": 107,
   "metadata": {
    "id": "Q2De8B5eeUlC"
   },
   "outputs": [
    {
     "data": {
      "text/plain": [
       "[<matplotlib.lines.Line2D at 0x142fe41b370>]"
      ]
     },
     "execution_count": 107,
     "metadata": {},
     "output_type": "execute_result"
    },
    {
     "data": {
      "image/png": "[encoded data removed]",
      "text/plain": [
       "<Figure size 432x288 with 1 Axes>"
      ]
     },
     "metadata": {
      "needs_background": "light"
     },
     "output_type": "display_data"
    }
   ],
   "source": [
    "from sklearn.linear_model import LinearRegression\n",
    "\n",
    "rng = np.random.RandomState(43)\n",
    "\n",
    "x = 10 * rng.rand(50)\n",
    "y = 2 * x - 1 + rng.randn(50)\n",
    "\n",
    "model = LinearRegression(fit_intercept  = True)\n",
    "X = x[:, np.newaxis]\n",
    "model.fit(X,y)\n",
    "\n",
    "xfit = np.linspace(-1,11)\n",
    "Xfit = xfit[:, np.newaxis]\n",
    "yfit = model.predict(Xfit)\n",
    "\n",
    "plt.scatter(x,y)\n",
    "plt.plot(xfit,yfit)"
   ]
  },
  {
   "cell_type": "code",
   "execution_count": null,
   "metadata": {
    "id": "995kTKz3eUlC"
   },
   "outputs": [],
   "source": []
  }
 ],
 "metadata": {
  "colab": {
   "name": "Lab1.ipynb",
   "provenance": []
  },
  "kernelspec": {
   "display_name": "Python 3",
   "language": "python",
   "name": "python3"
  },
  "language_info": {
   "codemirror_mode": {
    "name": "ipython",
    "version": 3
   },
   "file_extension": ".py",
   "mimetype": "text/x-python",
   "name": "python",
   "nbconvert_exporter": "python",
   "pygments_lexer": "ipython3",
   "version": "3.8.8"
  }
 },
 "nbformat": 4,
 "nbformat_minor": 1
}
