{
 "cells": [
  {
   "cell_type": "markdown",
   "metadata": {
    "id": "DnDhddjohpdo"
   },
   "source": [
    "### <h1><center> Lab 2: Pandas and Matplotlib </center></h1>\n",
    "\n",
    "**Goals:** In this notebook we are going to experiment with practical aspects of data science, in particular the application of the Pandas (Part I) and Matplotlib (Part II) libraries. We will use a structured dataset (*Happinesss Report 2021 Dataset*). \n",
    "\n",
    "This notebook will follow contents in Chapter 3 and Chapter 4 of the [*Python Data Science Handbook*](https://jakevdp.github.io/PythonDataScienceHandbook/). Please check the book to gain some insight on how to solve the exercises and participate with questions/comments in your Werkcollege.\n",
    "\n",
    "Using the Pandas library we wil:\n",
    "- Read a file and load it to a DataFrame\n",
    "- Filter out the required columns in the DataFrame\n",
    "- Summarize data based on the fields. Ex: Summing up all the rows corresponding to a certain entry in the dataset\n",
    "\n",
    "Using the Matplotlib library we will:\n",
    "- Plot data (Line plot, Scatter plot, Histogram, Error bar plot)\n",
    "- In an extra notebook (Lab2_Geopandas_Seaborn.ipynb) you can play with plotting a world map with colors representing country metrics (Geopandas) and with Seaborn"
   ]
  },
  {
   "cell_type": "markdown",
   "metadata": {
    "id": "bp_eIGbchpds"
   },
   "source": [
    "<h1><center> Part I: Pandas </center></h1>\n",
    "\n",
    "In the previous Lab we used **NumPy** and we observed that this library (in particular the *ndarray* data structure) provides essential features to deal with well-organized data, typically seen in numerical tasks. Often, however, in data science projects we need the flexibility to work with labeled data (beyond the integer indexes of *ndarrays*) and to deal with missing data. Also, NumPy offers powerful tools based on element-wise broadcasting, but we will need to perform more general operations (e.g., groupings). **Pandas**, and in particular its *Series* and *DataFrame* objects, builds on the NumPy array structure and provides efficient tools to deal with labeled, unstructured and non-numerical data.\n",
    "\n",
    "Pandas is well suited for many different kinds of data:\n",
    "\n",
    "- Tabular data with heterogeneously-typed columns, as in an SQL table or Excel spreadsheets\n",
    "- Ordered and unordered time series data.\n",
    "- Arbitrary matrix data (homogeneously typed or heterogeneous) with row and column labels\n",
    "- Any other form of observational / statistical data sets. The data actually need not be labeled at all to be placed into a pandas data structure\n",
    "\n",
    "The two primary data structures of pandas are Series (1-dimensional) and DataFrame (multi-dimensional). They handle the vast majority of typical use cases in finance, statistics, social science, and many areas of engineering."
   ]
  },
  {
   "cell_type": "markdown",
   "metadata": {
    "id": "-kDKgrichpds"
   },
   "source": [
    "<h2><center> Series </center></h2>\n",
    "\n",
    "The *Series* object provided by Pandas can be seen as a generalization of the NumPy ndarray. \n",
    "While in *ndarrays* the indexes are allways consecutive integers, in Series indexes can consist of values of any desired type. *Series* can also be seen as particular Python dictionary with keys that you can iterate."
   ]
  },
  {
   "cell_type": "code",
   "execution_count": 1,
   "metadata": {
    "id": "5VtJXwlohpdt"
   },
   "outputs": [],
   "source": [
    "import numpy as np\n",
    "import pandas as pd\n",
    "\n",
    "integer_numpy_array = np.arange(20,25)\n",
    "pandas_series = pd.Series(integer_numpy_array)"
   ]
  },
  {
   "cell_type": "code",
   "execution_count": 2,
   "metadata": {
    "id": "npLxBEvOhpdt",
    "outputId": "433154f3-aadb-414f-903c-5a8f6edf998a"
   },
   "outputs": [
    {
     "data": {
      "text/plain": [
       "array([20, 21, 22, 23, 24])"
      ]
     },
     "execution_count": 2,
     "metadata": {},
     "output_type": "execute_result"
    }
   ],
   "source": [
    "pandas_series.values"
   ]
  },
  {
   "cell_type": "code",
   "execution_count": 3,
   "metadata": {
    "id": "XQ9IRdCmhpdu",
    "outputId": "59731f0b-ad32-4502-8604-12857124a4de"
   },
   "outputs": [
    {
     "data": {
      "text/plain": [
       "RangeIndex(start=0, stop=5, step=1)"
      ]
     },
     "execution_count": 3,
     "metadata": {},
     "output_type": "execute_result"
    }
   ],
   "source": [
    "pandas_series.index"
   ]
  },
  {
   "cell_type": "code",
   "execution_count": 4,
   "metadata": {
    "id": "XQjpT5WVhpdv",
    "outputId": "99d22819-46e2-4918-b3be-258a111a467f"
   },
   "outputs": [
    {
     "data": {
      "text/plain": [
       "20"
      ]
     },
     "execution_count": 4,
     "metadata": {},
     "output_type": "execute_result"
    }
   ],
   "source": [
    "pandas_series[0]"
   ]
  },
  {
   "cell_type": "code",
   "execution_count": 5,
   "metadata": {
    "id": "L_-8xJb-hpdv",
    "outputId": "e50b15b5-9c85-4d83-f596-6832309d9fb2"
   },
   "outputs": [
    {
     "data": {
      "text/plain": [
       "2    22\n",
       "3    23\n",
       "dtype: int64"
      ]
     },
     "execution_count": 5,
     "metadata": {},
     "output_type": "execute_result"
    }
   ],
   "source": [
    "pandas_series[2:4]"
   ]
  },
  {
   "cell_type": "code",
   "execution_count": 6,
   "metadata": {
    "id": "ban7GHzhhpdw",
    "outputId": "77409665-1ce4-41c6-f295-a7a671f4f18f"
   },
   "outputs": [
    {
     "data": {
      "text/plain": [
       "1.0"
      ]
     },
     "execution_count": 6,
     "metadata": {},
     "output_type": "execute_result"
    }
   ],
   "source": [
    "# Series as a generalized NumPy array, where indexes can be any list\n",
    "\n",
    "data = pd.Series([0.25, 0.5, 0.75, 1.0], index=[20, 40, 80, 160])\n",
    "\n",
    "data[160]"
   ]
  },
  {
   "cell_type": "code",
   "execution_count": 7,
   "metadata": {
    "id": "vA8sehUJhpdw",
    "outputId": "50a9408e-8ad2-4dbb-f65b-cd66d25d519f"
   },
   "outputs": [
    {
     "data": {
      "text/plain": [
       "19651127"
      ]
     },
     "execution_count": 7,
     "metadata": {},
     "output_type": "execute_result"
    }
   ],
   "source": [
    "# Series as a specific Python dictionary, where indexes are dictionary keys that you can iterate\n",
    "\n",
    "population_dict = {'California': 38332521,\n",
    "                   'Texas': 26448193,\n",
    "                   'New York': 19651127,\n",
    "                   'Florida': 19552860,\n",
    "                   'Illinois': 12882135}\n",
    "\n",
    "population = pd.Series(population_dict)\n",
    "population['New York']"
   ]
  },
  {
   "cell_type": "code",
   "execution_count": 8,
   "metadata": {
    "id": "m0sBjB38hpdx",
    "outputId": "1bc90604-4435-4b24-a414-1714011f2a81"
   },
   "outputs": [
    {
     "data": {
      "text/plain": [
       "Texas       26448193\n",
       "New York    19651127\n",
       "Florida     19552860\n",
       "dtype: int64"
      ]
     },
     "execution_count": 8,
     "metadata": {},
     "output_type": "execute_result"
    }
   ],
   "source": [
    "population['Texas':'Florida']"
   ]
  },
  {
   "cell_type": "markdown",
   "metadata": {
    "id": "L3wNNTP0hpdy"
   },
   "source": [
    "**Q1: Can you create a Series where indexes are the odd numbers from 0 to 10 and values are the square of such numbers**\n",
    "\n",
    "Expected output:\n",
    "\n",
    "    1     1\n",
    "    3     9\n",
    "    5    25\n",
    "    7    49\n",
    "    9    81\n",
    "    dtype: int64"
   ]
  },
  {
   "cell_type": "code",
   "execution_count": 9,
   "metadata": {
    "id": "gevXe1zAhpdy",
    "outputId": "ea3ea3b5-9e7d-4371-b79a-444ca86636ab"
   },
   "outputs": [
    {
     "data": {
      "text/plain": [
       "1     1\n",
       "3     9\n",
       "5    25\n",
       "7    49\n",
       "9    81\n",
       "dtype: int64"
      ]
     },
     "execution_count": 9,
     "metadata": {},
     "output_type": "execute_result"
    }
   ],
   "source": [
    "# Solution to Q1\n",
    "base = np.arange(1,10,2)\n",
    "data = pd.Series(base**2, index=base)\n",
    "data"
   ]
  },
  {
   "cell_type": "markdown",
   "metadata": {
    "id": "FJ8eDByRhpdy"
   },
   "source": [
    "<h2><center> DataFrame </center></h2>\n",
    "\n",
    "The *DataFrame* object provided by Pandas can be seen as a generalization of the 2-dimensional NumPy ndarray. \n",
    "The *DataFrame* can, alternativelly, be seen as a sequence of *Series* objects, all sharing the same indexes. We will see that *DataFrame* is a convinient data structure to store data and, additionally, offers useful methods to filter, transform, group and plot data."
   ]
  },
  {
   "cell_type": "code",
   "execution_count": 10,
   "metadata": {
    "id": "fSs26bV5hpdz",
    "outputId": "59d2a523-1d6c-420c-d4c6-5a379ba60636"
   },
   "outputs": [
    {
     "data": {
      "text/html": [
       "<div>\n",
       "<style scoped>\n",
       "    .dataframe tbody tr th:only-of-type {\n",
       "        vertical-align: middle;\n",
       "    }\n",
       "\n",
       "    .dataframe tbody tr th {\n",
       "        vertical-align: top;\n",
       "    }\n",
       "\n",
       "    .dataframe thead th {\n",
       "        text-align: right;\n",
       "    }\n",
       "</style>\n",
       "<table border=\"1\" class=\"dataframe\">\n",
       "  <thead>\n",
       "    <tr style=\"text-align: right;\">\n",
       "      <th></th>\n",
       "      <th>pop</th>\n",
       "      <th>area</th>\n",
       "    </tr>\n",
       "  </thead>\n",
       "  <tbody>\n",
       "    <tr>\n",
       "      <th>California</th>\n",
       "      <td>38332521</td>\n",
       "      <td>423967</td>\n",
       "    </tr>\n",
       "    <tr>\n",
       "      <th>Texas</th>\n",
       "      <td>26448193</td>\n",
       "      <td>695662</td>\n",
       "    </tr>\n",
       "    <tr>\n",
       "      <th>New York</th>\n",
       "      <td>19651127</td>\n",
       "      <td>141297</td>\n",
       "    </tr>\n",
       "    <tr>\n",
       "      <th>Florida</th>\n",
       "      <td>19552860</td>\n",
       "      <td>170312</td>\n",
       "    </tr>\n",
       "    <tr>\n",
       "      <th>Illinois</th>\n",
       "      <td>12882135</td>\n",
       "      <td>149995</td>\n",
       "    </tr>\n",
       "  </tbody>\n",
       "</table>\n",
       "</div>"
      ],
      "text/plain": [
       "                 pop    area\n",
       "California  38332521  423967\n",
       "Texas       26448193  695662\n",
       "New York    19651127  141297\n",
       "Florida     19552860  170312\n",
       "Illinois    12882135  149995"
      ]
     },
     "execution_count": 10,
     "metadata": {},
     "output_type": "execute_result"
    }
   ],
   "source": [
    "population_dict = {'California': 38332521,\n",
    "                   'Texas': 26448193,\n",
    "                   'New York': 19651127,\n",
    "                   'Florida': 19552860,\n",
    "                   'Illinois': 12882135}\n",
    "\n",
    "area_dict = {'California': 423967, \n",
    "             'Texas': 695662, \n",
    "             'New York': 141297,\n",
    "             'Florida': 170312, \n",
    "             'Illinois': 149995}\n",
    "\n",
    "\n",
    "states = pd.DataFrame({'pop' : population_dict, 'area' : area_dict})\n",
    "\n",
    "states"
   ]
  },
  {
   "cell_type": "code",
   "execution_count": 11,
   "metadata": {
    "id": "V9AyiYc8hpdz",
    "outputId": "1732d7f2-8d64-4d19-a6f9-52a2e1b6615c"
   },
   "outputs": [
    {
     "data": {
      "text/plain": [
       "California    423967\n",
       "Texas         695662\n",
       "New York      141297\n",
       "Florida       170312\n",
       "Illinois      149995\n",
       "Name: area, dtype: int64"
      ]
     },
     "execution_count": 11,
     "metadata": {},
     "output_type": "execute_result"
    }
   ],
   "source": [
    "# indexing (dictionary style)\n",
    "\n",
    "states['area']"
   ]
  },
  {
   "cell_type": "code",
   "execution_count": 12,
   "metadata": {
    "id": "qB4ErmMyhpdz",
    "outputId": "e47464be-3966-4041-f08c-ac2ad1e22c7a"
   },
   "outputs": [
    {
     "data": {
      "text/plain": [
       "170312"
      ]
     },
     "execution_count": 12,
     "metadata": {},
     "output_type": "execute_result"
    }
   ],
   "source": [
    "# indexing\n",
    "# notice that first we access columns and then rows..\n",
    "\n",
    "states['area']['Florida']"
   ]
  },
  {
   "cell_type": "code",
   "execution_count": 13,
   "metadata": {
    "id": "iC4QMA1Fhpd0",
    "outputId": "dcf17bb4-a3d8-4648-c024-7ee70317632a"
   },
   "outputs": [
    {
     "data": {
      "text/plain": [
       "170312"
      ]
     },
     "execution_count": 13,
     "metadata": {},
     "output_type": "execute_result"
    }
   ],
   "source": [
    "# indexing through NumPy ndarray of values: Florida=3, area=1\n",
    "# notice that first we access rows and then columns..\n",
    "\n",
    "states.values[3][1] # you can also check states.values[3,1]"
   ]
  },
  {
   "cell_type": "code",
   "execution_count": 14,
   "metadata": {
    "id": "sDPHsXarhpd0",
    "outputId": "f16eb6f5-1d79-41cc-e121-1b7bf7f520b6"
   },
   "outputs": [
    {
     "data": {
      "text/plain": [
       "Texas       695662\n",
       "New York    141297\n",
       "Florida     170312\n",
       "Name: area, dtype: int64"
      ]
     },
     "execution_count": 14,
     "metadata": {},
     "output_type": "execute_result"
    }
   ],
   "source": [
    "# slicing\n",
    "states['area']['Texas':'Florida']"
   ]
  },
  {
   "cell_type": "code",
   "execution_count": 15,
   "metadata": {
    "id": "-ozbtZk1hpd0",
    "outputId": "7328e0ff-ab6c-4f19-f521-760d93e6fb96"
   },
   "outputs": [
    {
     "data": {
      "text/html": [
       "<div>\n",
       "<style scoped>\n",
       "    .dataframe tbody tr th:only-of-type {\n",
       "        vertical-align: middle;\n",
       "    }\n",
       "\n",
       "    .dataframe tbody tr th {\n",
       "        vertical-align: top;\n",
       "    }\n",
       "\n",
       "    .dataframe thead th {\n",
       "        text-align: right;\n",
       "    }\n",
       "</style>\n",
       "<table border=\"1\" class=\"dataframe\">\n",
       "  <thead>\n",
       "    <tr style=\"text-align: right;\">\n",
       "      <th></th>\n",
       "      <th>pop</th>\n",
       "      <th>area</th>\n",
       "    </tr>\n",
       "  </thead>\n",
       "  <tbody>\n",
       "    <tr>\n",
       "      <th>Texas</th>\n",
       "      <td>26448193</td>\n",
       "      <td>695662</td>\n",
       "    </tr>\n",
       "    <tr>\n",
       "      <th>New York</th>\n",
       "      <td>19651127</td>\n",
       "      <td>141297</td>\n",
       "    </tr>\n",
       "    <tr>\n",
       "      <th>Florida</th>\n",
       "      <td>19552860</td>\n",
       "      <td>170312</td>\n",
       "    </tr>\n",
       "  </tbody>\n",
       "</table>\n",
       "</div>"
      ],
      "text/plain": [
       "               pop    area\n",
       "Texas     26448193  695662\n",
       "New York  19651127  141297\n",
       "Florida   19552860  170312"
      ]
     },
     "execution_count": 15,
     "metadata": {},
     "output_type": "execute_result"
    }
   ],
   "source": [
    "# by default, slicing iterates over rows and the stop element in the slice is included\n",
    "\n",
    "states['Texas':'Florida']"
   ]
  },
  {
   "cell_type": "code",
   "execution_count": 16,
   "metadata": {
    "id": "7mCzv72Jhpd0",
    "outputId": "8df9f694-290e-4b8a-ed19-572b13c42142"
   },
   "outputs": [
    {
     "data": {
      "text/plain": [
       "Texas         695662\n",
       "Florida       170312\n",
       "California    423967\n",
       "Name: area, dtype: int64"
      ]
     },
     "execution_count": 16,
     "metadata": {},
     "output_type": "execute_result"
    }
   ],
   "source": [
    "# fancy indexing\n",
    "states['area'][[1,3,0]]"
   ]
  },
  {
   "cell_type": "code",
   "execution_count": 17,
   "metadata": {
    "id": "iaNqvipghpd1",
    "outputId": "250bf165-9efb-4ead-e72b-64a56b1a09ac"
   },
   "outputs": [
    {
     "data": {
      "text/plain": [
       "California    423967\n",
       "Texas         695662\n",
       "Name: area, dtype: int64"
      ]
     },
     "execution_count": 17,
     "metadata": {},
     "output_type": "execute_result"
    }
   ],
   "source": [
    "# masking\n",
    "states['area'][states['area'] > 180000]"
   ]
  },
  {
   "cell_type": "code",
   "execution_count": 18,
   "metadata": {
    "id": "WvGuq9hyhpd1",
    "outputId": "03184e21-b4b6-45c2-9667-9a3a4f43e1ce"
   },
   "outputs": [
    {
     "data": {
      "text/html": [
       "<div>\n",
       "<style scoped>\n",
       "    .dataframe tbody tr th:only-of-type {\n",
       "        vertical-align: middle;\n",
       "    }\n",
       "\n",
       "    .dataframe tbody tr th {\n",
       "        vertical-align: top;\n",
       "    }\n",
       "\n",
       "    .dataframe thead th {\n",
       "        text-align: right;\n",
       "    }\n",
       "</style>\n",
       "<table border=\"1\" class=\"dataframe\">\n",
       "  <thead>\n",
       "    <tr style=\"text-align: right;\">\n",
       "      <th></th>\n",
       "      <th>pop</th>\n",
       "      <th>area</th>\n",
       "      <th>density</th>\n",
       "    </tr>\n",
       "  </thead>\n",
       "  <tbody>\n",
       "    <tr>\n",
       "      <th>California</th>\n",
       "      <td>38332521</td>\n",
       "      <td>423967</td>\n",
       "      <td>90.413926</td>\n",
       "    </tr>\n",
       "    <tr>\n",
       "      <th>Texas</th>\n",
       "      <td>26448193</td>\n",
       "      <td>695662</td>\n",
       "      <td>38.018740</td>\n",
       "    </tr>\n",
       "    <tr>\n",
       "      <th>New York</th>\n",
       "      <td>19651127</td>\n",
       "      <td>141297</td>\n",
       "      <td>139.076746</td>\n",
       "    </tr>\n",
       "    <tr>\n",
       "      <th>Florida</th>\n",
       "      <td>19552860</td>\n",
       "      <td>170312</td>\n",
       "      <td>114.806121</td>\n",
       "    </tr>\n",
       "    <tr>\n",
       "      <th>Illinois</th>\n",
       "      <td>12882135</td>\n",
       "      <td>149995</td>\n",
       "      <td>85.883763</td>\n",
       "    </tr>\n",
       "  </tbody>\n",
       "</table>\n",
       "</div>"
      ],
      "text/plain": [
       "                 pop    area     density\n",
       "California  38332521  423967   90.413926\n",
       "Texas       26448193  695662   38.018740\n",
       "New York    19651127  141297  139.076746\n",
       "Florida     19552860  170312  114.806121\n",
       "Illinois    12882135  149995   85.883763"
      ]
     },
     "execution_count": 18,
     "metadata": {},
     "output_type": "execute_result"
    }
   ],
   "source": [
    "# add new column\n",
    "states['density'] = states['pop'] / states['area']\n",
    "states"
   ]
  },
  {
   "cell_type": "markdown",
   "metadata": {
    "id": "WTKgEn8Fhpd1"
   },
   "source": [
    "As accessing elements by dictionary-style, array-explicit-style or array-implicit-style can be confusing, there are specific methods you can use to decide the type of indexing:\n",
    "\n",
    "\n",
    "- .loc -> array-style indexing, explicit indexing using labels\n",
    "- .iloc -> array-style indexing, implicit indexing using positions\n",
    "\n",
    "**In the next examples: three ways of accessing the area of Florida... can you understand the differences?**"
   ]
  },
  {
   "cell_type": "code",
   "execution_count": 19,
   "metadata": {
    "id": "7T46mVJyhpd1",
    "outputId": "8e4827c9-bffb-47f5-bc8f-f24c56544160"
   },
   "outputs": [
    {
     "data": {
      "text/plain": [
       "170312"
      ]
     },
     "execution_count": 19,
     "metadata": {},
     "output_type": "execute_result"
    }
   ],
   "source": [
    "states.loc['Florida','area']"
   ]
  },
  {
   "cell_type": "code",
   "execution_count": 20,
   "metadata": {
    "id": "SOgiLpUHhpd2",
    "outputId": "76f671ba-4dec-4ced-c9b5-9e8f75fb6c2d"
   },
   "outputs": [
    {
     "data": {
      "text/plain": [
       "170312"
      ]
     },
     "execution_count": 20,
     "metadata": {},
     "output_type": "execute_result"
    }
   ],
   "source": [
    "states.iloc[3,1]"
   ]
  },
  {
   "cell_type": "code",
   "execution_count": 21,
   "metadata": {
    "id": "h4wRoWc5hpd2",
    "outputId": "ca4182bc-c01e-4610-f31c-9b818f4f7c98"
   },
   "outputs": [
    {
     "data": {
      "text/plain": [
       "170312"
      ]
     },
     "execution_count": 21,
     "metadata": {},
     "output_type": "execute_result"
    }
   ],
   "source": [
    "states['area']['Florida']"
   ]
  },
  {
   "cell_type": "markdown",
   "metadata": {
    "id": "LueD9HQ_hpd2"
   },
   "source": [
    "**Q2: Can you calculate the difference in population size between Texas and New York? Try to answer using the 3 different types of DataFrame indexing introduced above.**\n",
    "\n",
    "Expected result in any of the possibilities: 6797066"
   ]
  },
  {
   "cell_type": "code",
   "execution_count": 22,
   "metadata": {
    "id": "o_SHXD_Ohpd2",
    "outputId": "90e9bd6f-f0e4-44bc-a907-9471b4ba01ad"
   },
   "outputs": [
    {
     "name": "stdout",
     "output_type": "stream",
     "text": [
      "6797066\n",
      "6797066\n",
      "6797066\n"
     ]
    }
   ],
   "source": [
    "# Solution Q2\n",
    "print(states.loc['Texas','pop'] - states.loc['New York','pop'])\n",
    "print(states['pop']['Texas'] - states['pop']['New York'])\n",
    "print(states.iloc[1,0] - states.iloc[2,0])"
   ]
  },
  {
   "cell_type": "markdown",
   "metadata": {
    "id": "ImjOsLKmhpd3"
   },
   "source": [
    "loc and iloc are also convinient to desambiguate indexing when Indexes are integers:"
   ]
  },
  {
   "cell_type": "code",
   "execution_count": 23,
   "metadata": {
    "id": "ovTjIvK4hpd3",
    "outputId": "3ae0261b-3e38-41a2-9f07-3e56d762d790"
   },
   "outputs": [
    {
     "data": {
      "text/plain": [
       "'a'"
      ]
     },
     "execution_count": 23,
     "metadata": {},
     "output_type": "execute_result"
    }
   ],
   "source": [
    "data = pd.Series(['d', 'c', 'b', 'a'], index=[3, 2, 1, 0])\n",
    "\n",
    "data[0] # will the output be 'a' or 'd'?"
   ]
  },
  {
   "cell_type": "code",
   "execution_count": 24,
   "metadata": {
    "id": "skTgjCDnhpd3",
    "outputId": "3ea824e3-860e-4b7f-a80b-c166af479108"
   },
   "outputs": [
    {
     "data": {
      "text/plain": [
       "2    c\n",
       "1    b\n",
       "dtype: object"
      ]
     },
     "execution_count": 24,
     "metadata": {},
     "output_type": "execute_result"
    }
   ],
   "source": [
    "data[1:3] #-> -> implicit indexing used; the stop element in the slice is not included"
   ]
  },
  {
   "cell_type": "code",
   "execution_count": 25,
   "metadata": {
    "id": "7G-pu5XChpd3",
    "outputId": "3b88c8c2-01d6-47f2-bfb9-bd6812d8c6bb"
   },
   "outputs": [
    {
     "data": {
      "text/plain": [
       "'d'"
      ]
     },
     "execution_count": 25,
     "metadata": {},
     "output_type": "execute_result"
    }
   ],
   "source": [
    "data.iloc[0]"
   ]
  },
  {
   "cell_type": "code",
   "execution_count": 26,
   "metadata": {
    "id": "Vo10S7nshpd3",
    "outputId": "a8088919-07d7-4e9e-b760-e155548acfc7"
   },
   "outputs": [
    {
     "data": {
      "text/plain": [
       "'a'"
      ]
     },
     "execution_count": 26,
     "metadata": {},
     "output_type": "execute_result"
    }
   ],
   "source": [
    "data.loc[0]"
   ]
  },
  {
   "cell_type": "code",
   "execution_count": 27,
   "metadata": {
    "id": "Jxpyub4nhpd4"
   },
   "outputs": [],
   "source": [
    "population_dict = {'California': 38332521,\n",
    "                   'Texas': 26448193,\n",
    "                   'New York': 19651127,\n",
    "                   'Florida': 19552860,\n",
    "                   'Illinois': 12882135}\n",
    "\n",
    "area_dict = {'California': 423967, \n",
    "             'Texas': 695662, \n",
    "             'New York': 141297,\n",
    "             'Florida': 170312, \n",
    "             'Illinois': 149995}\n",
    "\n",
    "\n",
    "states = pd.DataFrame({'pop' : population_dict, 'area' : area_dict})"
   ]
  },
  {
   "cell_type": "code",
   "execution_count": 28,
   "metadata": {
    "id": "kkeWSzVNhpd4",
    "outputId": "a4ddfab7-d0fd-449b-fe5b-97424811f3ed"
   },
   "outputs": [
    {
     "data": {
      "text/plain": [
       "pop     19552860\n",
       "area      170312\n",
       "Name: Florida, dtype: int64"
      ]
     },
     "execution_count": 28,
     "metadata": {},
     "output_type": "execute_result"
    }
   ],
   "source": [
    "states.loc['Florida']"
   ]
  },
  {
   "cell_type": "markdown",
   "metadata": {
    "id": "UyncK4pjhpd4"
   },
   "source": [
    "**Q3: Create a new column in the DataFrame *states* that contains a boolean to indicate if population size is higher than 20000000**\n",
    "\n",
    "Expected outcome: DataFrame with extra column named \"popSize2000\" with True in indexes California and Texas and False otherwise"
   ]
  },
  {
   "cell_type": "code",
   "execution_count": 29,
   "metadata": {
    "id": "rouadnQahpd4",
    "outputId": "b93b8b7a-64ae-4ade-d9b3-b82396b104e1"
   },
   "outputs": [
    {
     "data": {
      "text/html": [
       "<div>\n",
       "<style scoped>\n",
       "    .dataframe tbody tr th:only-of-type {\n",
       "        vertical-align: middle;\n",
       "    }\n",
       "\n",
       "    .dataframe tbody tr th {\n",
       "        vertical-align: top;\n",
       "    }\n",
       "\n",
       "    .dataframe thead th {\n",
       "        text-align: right;\n",
       "    }\n",
       "</style>\n",
       "<table border=\"1\" class=\"dataframe\">\n",
       "  <thead>\n",
       "    <tr style=\"text-align: right;\">\n",
       "      <th></th>\n",
       "      <th>pop</th>\n",
       "      <th>area</th>\n",
       "      <th>popSize2000</th>\n",
       "    </tr>\n",
       "  </thead>\n",
       "  <tbody>\n",
       "    <tr>\n",
       "      <th>California</th>\n",
       "      <td>38332521</td>\n",
       "      <td>423967</td>\n",
       "      <td>True</td>\n",
       "    </tr>\n",
       "    <tr>\n",
       "      <th>Texas</th>\n",
       "      <td>26448193</td>\n",
       "      <td>695662</td>\n",
       "      <td>True</td>\n",
       "    </tr>\n",
       "    <tr>\n",
       "      <th>New York</th>\n",
       "      <td>19651127</td>\n",
       "      <td>141297</td>\n",
       "      <td>False</td>\n",
       "    </tr>\n",
       "    <tr>\n",
       "      <th>Florida</th>\n",
       "      <td>19552860</td>\n",
       "      <td>170312</td>\n",
       "      <td>False</td>\n",
       "    </tr>\n",
       "    <tr>\n",
       "      <th>Illinois</th>\n",
       "      <td>12882135</td>\n",
       "      <td>149995</td>\n",
       "      <td>False</td>\n",
       "    </tr>\n",
       "  </tbody>\n",
       "</table>\n",
       "</div>"
      ],
      "text/plain": [
       "                 pop    area  popSize2000\n",
       "California  38332521  423967         True\n",
       "Texas       26448193  695662         True\n",
       "New York    19651127  141297        False\n",
       "Florida     19552860  170312        False\n",
       "Illinois    12882135  149995        False"
      ]
     },
     "execution_count": 29,
     "metadata": {},
     "output_type": "execute_result"
    }
   ],
   "source": [
    "# Solution Q3\n",
    "states['popSize2000'] = states['pop'] > 20000000\n",
    "states"
   ]
  },
  {
   "cell_type": "markdown",
   "metadata": {
    "id": "E5nqswWIhpd5"
   },
   "source": [
    "**Q4: Select the states with density (i.e., populaltion/area) higher than 100**\n",
    "\n",
    "Expected outcome: DataFrame with two rows (New York and Florida) and three columns (pop, area, popSize2000)"
   ]
  },
  {
   "cell_type": "code",
   "execution_count": 30,
   "metadata": {
    "id": "TtVk8Ug4hpd5",
    "outputId": "cfe2ca95-2a9b-495f-fcbd-b2d06d4d1fce"
   },
   "outputs": [
    {
     "data": {
      "text/html": [
       "<div>\n",
       "<style scoped>\n",
       "    .dataframe tbody tr th:only-of-type {\n",
       "        vertical-align: middle;\n",
       "    }\n",
       "\n",
       "    .dataframe tbody tr th {\n",
       "        vertical-align: top;\n",
       "    }\n",
       "\n",
       "    .dataframe thead th {\n",
       "        text-align: right;\n",
       "    }\n",
       "</style>\n",
       "<table border=\"1\" class=\"dataframe\">\n",
       "  <thead>\n",
       "    <tr style=\"text-align: right;\">\n",
       "      <th></th>\n",
       "      <th>pop</th>\n",
       "      <th>area</th>\n",
       "      <th>popSize2000</th>\n",
       "    </tr>\n",
       "  </thead>\n",
       "  <tbody>\n",
       "    <tr>\n",
       "      <th>New York</th>\n",
       "      <td>19651127</td>\n",
       "      <td>141297</td>\n",
       "      <td>False</td>\n",
       "    </tr>\n",
       "    <tr>\n",
       "      <th>Florida</th>\n",
       "      <td>19552860</td>\n",
       "      <td>170312</td>\n",
       "      <td>False</td>\n",
       "    </tr>\n",
       "  </tbody>\n",
       "</table>\n",
       "</div>"
      ],
      "text/plain": [
       "               pop    area  popSize2000\n",
       "New York  19651127  141297        False\n",
       "Florida   19552860  170312        False"
      ]
     },
     "execution_count": 30,
     "metadata": {},
     "output_type": "execute_result"
    }
   ],
   "source": [
    "#Solution Q4\n",
    "states[states['pop']/states['area']>100]"
   ]
  },
  {
   "cell_type": "markdown",
   "metadata": {},
   "source": [
    "We can apply most aggregation functions (that we were used to apply with NumPy) to Pandas DataFrames. We can aggregate along either rows or columns. Below one example of calculating the mean population across states"
   ]
  },
  {
   "cell_type": "code",
   "execution_count": 31,
   "metadata": {},
   "outputs": [
    {
     "data": {
      "text/plain": [
       "23373367.2"
      ]
     },
     "execution_count": 31,
     "metadata": {},
     "output_type": "execute_result"
    }
   ],
   "source": [
    "states['pop'].mean()"
   ]
  },
  {
   "cell_type": "markdown",
   "metadata": {
    "id": "Fm8qv5GZhpd6"
   },
   "source": [
    "**Q5: Select the area of the largest state**\n",
    "\n",
    "Tip: check the Secion \"*Simple Aggregation in Pandas*\" of the Python Data Science Handbook\n",
    "\n",
    "The question asks for the area of the largest state. To print the name of the largest state the method [idxmax](\"https://pandas.pydata.org/pandas-docs/version/0.17.0/generated/pandas.DataFrame.idxmax.html\") can be handy... **Can you use idxmax to print the name of the largest state?**\n",
    "\n",
    "Expetected output: \n",
    "\n",
    "695662\n",
    "\n",
    "Texas"
   ]
  },
  {
   "cell_type": "code",
   "execution_count": 32,
   "metadata": {
    "id": "gRFWXjrhhpd6",
    "outputId": "fe524beb-c5ef-4dce-f285-63536b7fa424"
   },
   "outputs": [
    {
     "name": "stdout",
     "output_type": "stream",
     "text": [
      "695662\n",
      "Texas\n"
     ]
    }
   ],
   "source": [
    "# Solution Q5\n",
    "print(states['area'].max())\n",
    "print(states['area'].idxmax())"
   ]
  },
  {
   "cell_type": "code",
   "execution_count": 33,
   "metadata": {
    "id": "0DrQzvzLhpd6",
    "outputId": "da7508ac-03d9-4150-da1e-478a9fb387e8"
   },
   "outputs": [
    {
     "data": {
      "text/html": [
       "<div>\n",
       "<style scoped>\n",
       "    .dataframe tbody tr th:only-of-type {\n",
       "        vertical-align: middle;\n",
       "    }\n",
       "\n",
       "    .dataframe tbody tr th {\n",
       "        vertical-align: top;\n",
       "    }\n",
       "\n",
       "    .dataframe thead th {\n",
       "        text-align: right;\n",
       "    }\n",
       "</style>\n",
       "<table border=\"1\" class=\"dataframe\">\n",
       "  <thead>\n",
       "    <tr style=\"text-align: right;\">\n",
       "      <th></th>\n",
       "      <th>A</th>\n",
       "      <th>B</th>\n",
       "      <th>C</th>\n",
       "    </tr>\n",
       "  </thead>\n",
       "  <tbody>\n",
       "    <tr>\n",
       "      <th>0</th>\n",
       "      <td>2.0</td>\n",
       "      <td>1.0</td>\n",
       "      <td>NaN</td>\n",
       "    </tr>\n",
       "    <tr>\n",
       "      <th>1</th>\n",
       "      <td>5.0</td>\n",
       "      <td>4.0</td>\n",
       "      <td>NaN</td>\n",
       "    </tr>\n",
       "    <tr>\n",
       "      <th>2</th>\n",
       "      <td>NaN</td>\n",
       "      <td>NaN</td>\n",
       "      <td>NaN</td>\n",
       "    </tr>\n",
       "  </tbody>\n",
       "</table>\n",
       "</div>"
      ],
      "text/plain": [
       "     A    B   C\n",
       "0  2.0  1.0 NaN\n",
       "1  5.0  4.0 NaN\n",
       "2  NaN  NaN NaN"
      ]
     },
     "execution_count": 33,
     "metadata": {},
     "output_type": "execute_result"
    }
   ],
   "source": [
    "# applying universal functions: indices are aligned and perserved\n",
    "A = pd.DataFrame(np.ones((2, 2)), columns=list('AB'))\n",
    "B = pd.DataFrame(np.arange(9).reshape(3,3), columns=list('BAC'))\n",
    "A + B"
   ]
  },
  {
   "cell_type": "markdown",
   "metadata": {
    "id": "6RZKMlrUhpd6"
   },
   "source": [
    "Pandas provides useful methods to deal with missing items. Note that when adding DataFrame A and B there is a column and row of NaN added; that is because DataFrame A is missing row 2 column C, both present in DataFrame B. Below, see how convenient it is to replace NaN with a default value when applying the operation add — the NaN are substituted in DataFrame A, to guarantee index/column alignment between A and B before the operation add is applied:"
   ]
  },
  {
   "cell_type": "code",
   "execution_count": 34,
   "metadata": {
    "id": "IzfpiYsKhpd6",
    "outputId": "8eb4e835-58d0-4697-fd74-df0b0dec733f"
   },
   "outputs": [
    {
     "data": {
      "text/html": [
       "<div>\n",
       "<style scoped>\n",
       "    .dataframe tbody tr th:only-of-type {\n",
       "        vertical-align: middle;\n",
       "    }\n",
       "\n",
       "    .dataframe tbody tr th {\n",
       "        vertical-align: top;\n",
       "    }\n",
       "\n",
       "    .dataframe thead th {\n",
       "        text-align: right;\n",
       "    }\n",
       "</style>\n",
       "<table border=\"1\" class=\"dataframe\">\n",
       "  <thead>\n",
       "    <tr style=\"text-align: right;\">\n",
       "      <th></th>\n",
       "      <th>A</th>\n",
       "      <th>B</th>\n",
       "      <th>C</th>\n",
       "    </tr>\n",
       "  </thead>\n",
       "  <tbody>\n",
       "    <tr>\n",
       "      <th>0</th>\n",
       "      <td>2.0</td>\n",
       "      <td>1.0</td>\n",
       "      <td>-98.0</td>\n",
       "    </tr>\n",
       "    <tr>\n",
       "      <th>1</th>\n",
       "      <td>5.0</td>\n",
       "      <td>4.0</td>\n",
       "      <td>-95.0</td>\n",
       "    </tr>\n",
       "    <tr>\n",
       "      <th>2</th>\n",
       "      <td>-93.0</td>\n",
       "      <td>-94.0</td>\n",
       "      <td>-92.0</td>\n",
       "    </tr>\n",
       "  </tbody>\n",
       "</table>\n",
       "</div>"
      ],
      "text/plain": [
       "      A     B     C\n",
       "0   2.0   1.0 -98.0\n",
       "1   5.0   4.0 -95.0\n",
       "2 -93.0 -94.0 -92.0"
      ]
     },
     "execution_count": 34,
     "metadata": {},
     "output_type": "execute_result"
    }
   ],
   "source": [
    "dfC = A.add(B, fill_value=-100)\n",
    "dfC"
   ]
  },
  {
   "cell_type": "markdown",
   "metadata": {
    "id": "DB-g4W-9hpd7"
   },
   "source": [
    "**Q6: Can you calculate the sum of COLUMNS A, B and C of dataFrame dfC ?**\n",
    "\n",
    "Expected outcome: \n",
    "\n",
    "    A    -86.0\n",
    "    B    -89.0\n",
    "    C   -285.0\n",
    "    dtype: float64"
   ]
  },
  {
   "cell_type": "code",
   "execution_count": 35,
   "metadata": {
    "id": "b7OioU8fhpd7",
    "outputId": "1a9e4f58-8ee7-4a76-806e-dbe6918d3204"
   },
   "outputs": [
    {
     "data": {
      "text/plain": [
       "A    -86.0\n",
       "B    -89.0\n",
       "C   -285.0\n",
       "dtype: float64"
      ]
     },
     "execution_count": 35,
     "metadata": {},
     "output_type": "execute_result"
    }
   ],
   "source": [
    "# Solution Q6\n",
    "dfC.sum()"
   ]
  },
  {
   "cell_type": "markdown",
   "metadata": {
    "id": "C5gpLtmahpd7"
   },
   "source": [
    "**Q7: Can you calculate the mean of ROWS indexed by 0, 1 and 2 of DataFrame dfC ?**\n",
    "\n",
    "Expected outcome: \n",
    "\n",
    "    0   -31.666667\n",
    "    1   -28.666667\n",
    "    2   -93.000000\n",
    "    dtype: float64"
   ]
  },
  {
   "cell_type": "code",
   "execution_count": 36,
   "metadata": {
    "id": "NATlApJPhpd7",
    "outputId": "efef644e-dd69-4aa9-fe9e-ce19fc49555f"
   },
   "outputs": [
    {
     "data": {
      "text/plain": [
       "0   -31.666667\n",
       "1   -28.666667\n",
       "2   -93.000000\n",
       "dtype: float64"
      ]
     },
     "execution_count": 36,
     "metadata": {},
     "output_type": "execute_result"
    }
   ],
   "source": [
    "# Solution Q7\n",
    "dfC.mean(axis=1)"
   ]
  },
  {
   "cell_type": "markdown",
   "metadata": {
    "id": "iKdqVA34hpd7"
   },
   "source": [
    "<h2><center> Working with a real dataset </center></h2>\n",
    "\n",
    "In the next examples we are going to read and use a structured dataset (*DataPanelWHR2021C2.xls*) which corresponds to Happiness World Report 2021. Make sure to have *DataPanelWHR2021C2.xls* in the same folder as this Jupyter Notebook. This dataset will be useful also in Assignment 1.\n",
    "\n",
    "You can find more info about the meaning of each column in the *DataPanelWHR2021C2.xls* dataset [here](https://happiness-report.s3.amazonaws.com/2021/Appendix1WHR2021C2.pdf), page 1-3.\n",
    "\n",
    "Importantly, *Life Ladder* corresponds to the happiness index.\n",
    "\n",
    "Some clarifications regarding the code below:\n",
    "- we are importing Excel data\n",
    "- index_col=[0,1] means that we will use as Index column 0 and column 1 of the excel file\n",
    "- Note that we are specifying 2 Indexes. This means we will have a DataFrame with a MultiIndex (examples provided below); if confused, plase read section \"Hierarchichal Indexing\" of the recommended [book](\"https://jakevdp.github.io/PythonDataScienceHandbook/03.05-hierarchical-indexing.html\")"
   ]
  },
  {
   "cell_type": "code",
   "execution_count": 37,
   "metadata": {
    "id": "5GavQrw7hpd8",
    "outputId": "315bbf0f-942d-4848-b231-3f99cb89b31b"
   },
   "outputs": [
    {
     "data": {
      "text/html": [
       "<div>\n",
       "<style scoped>\n",
       "    .dataframe tbody tr th:only-of-type {\n",
       "        vertical-align: middle;\n",
       "    }\n",
       "\n",
       "    .dataframe tbody tr th {\n",
       "        vertical-align: top;\n",
       "    }\n",
       "\n",
       "    .dataframe thead th {\n",
       "        text-align: right;\n",
       "    }\n",
       "</style>\n",
       "<table border=\"1\" class=\"dataframe\">\n",
       "  <thead>\n",
       "    <tr style=\"text-align: right;\">\n",
       "      <th></th>\n",
       "      <th></th>\n",
       "      <th>Life Ladder</th>\n",
       "      <th>Log GDP per capita</th>\n",
       "      <th>Social support</th>\n",
       "      <th>Healthy life expectancy at birth</th>\n",
       "      <th>Freedom to make life choices</th>\n",
       "      <th>Generosity</th>\n",
       "      <th>Perceptions of corruption</th>\n",
       "      <th>Positive affect</th>\n",
       "      <th>Negative affect</th>\n",
       "    </tr>\n",
       "    <tr>\n",
       "      <th>Country name</th>\n",
       "      <th>year</th>\n",
       "      <th></th>\n",
       "      <th></th>\n",
       "      <th></th>\n",
       "      <th></th>\n",
       "      <th></th>\n",
       "      <th></th>\n",
       "      <th></th>\n",
       "      <th></th>\n",
       "      <th></th>\n",
       "    </tr>\n",
       "  </thead>\n",
       "  <tbody>\n",
       "    <tr>\n",
       "      <th rowspan=\"5\" valign=\"top\">Afghanistan</th>\n",
       "      <th>2008</th>\n",
       "      <td>3.723590</td>\n",
       "      <td>7.370100</td>\n",
       "      <td>0.450662</td>\n",
       "      <td>50.799999</td>\n",
       "      <td>0.718114</td>\n",
       "      <td>0.167640</td>\n",
       "      <td>0.881686</td>\n",
       "      <td>0.517637</td>\n",
       "      <td>0.258195</td>\n",
       "    </tr>\n",
       "    <tr>\n",
       "      <th>2009</th>\n",
       "      <td>4.401778</td>\n",
       "      <td>7.539972</td>\n",
       "      <td>0.552308</td>\n",
       "      <td>51.200001</td>\n",
       "      <td>0.678896</td>\n",
       "      <td>0.190099</td>\n",
       "      <td>0.850035</td>\n",
       "      <td>0.583926</td>\n",
       "      <td>0.237092</td>\n",
       "    </tr>\n",
       "    <tr>\n",
       "      <th>2010</th>\n",
       "      <td>4.758381</td>\n",
       "      <td>7.646709</td>\n",
       "      <td>0.539075</td>\n",
       "      <td>51.599998</td>\n",
       "      <td>0.600127</td>\n",
       "      <td>0.120590</td>\n",
       "      <td>0.706766</td>\n",
       "      <td>0.618265</td>\n",
       "      <td>0.275324</td>\n",
       "    </tr>\n",
       "    <tr>\n",
       "      <th>2011</th>\n",
       "      <td>3.831719</td>\n",
       "      <td>7.619532</td>\n",
       "      <td>0.521104</td>\n",
       "      <td>51.919998</td>\n",
       "      <td>0.495901</td>\n",
       "      <td>0.162427</td>\n",
       "      <td>0.731109</td>\n",
       "      <td>0.611387</td>\n",
       "      <td>0.267175</td>\n",
       "    </tr>\n",
       "    <tr>\n",
       "      <th>2012</th>\n",
       "      <td>3.782938</td>\n",
       "      <td>7.705479</td>\n",
       "      <td>0.520637</td>\n",
       "      <td>52.240002</td>\n",
       "      <td>0.530935</td>\n",
       "      <td>0.236032</td>\n",
       "      <td>0.775620</td>\n",
       "      <td>0.710385</td>\n",
       "      <td>0.267919</td>\n",
       "    </tr>\n",
       "    <tr>\n",
       "      <th>...</th>\n",
       "      <th>...</th>\n",
       "      <td>...</td>\n",
       "      <td>...</td>\n",
       "      <td>...</td>\n",
       "      <td>...</td>\n",
       "      <td>...</td>\n",
       "      <td>...</td>\n",
       "      <td>...</td>\n",
       "      <td>...</td>\n",
       "      <td>...</td>\n",
       "    </tr>\n",
       "    <tr>\n",
       "      <th rowspan=\"5\" valign=\"top\">Zimbabwe</th>\n",
       "      <th>2016</th>\n",
       "      <td>3.735400</td>\n",
       "      <td>7.984372</td>\n",
       "      <td>0.768425</td>\n",
       "      <td>54.400002</td>\n",
       "      <td>0.732971</td>\n",
       "      <td>-0.094634</td>\n",
       "      <td>0.723612</td>\n",
       "      <td>0.737636</td>\n",
       "      <td>0.208555</td>\n",
       "    </tr>\n",
       "    <tr>\n",
       "      <th>2017</th>\n",
       "      <td>3.638300</td>\n",
       "      <td>8.015738</td>\n",
       "      <td>0.754147</td>\n",
       "      <td>55.000000</td>\n",
       "      <td>0.752826</td>\n",
       "      <td>-0.097645</td>\n",
       "      <td>0.751208</td>\n",
       "      <td>0.806428</td>\n",
       "      <td>0.224051</td>\n",
       "    </tr>\n",
       "    <tr>\n",
       "      <th>2018</th>\n",
       "      <td>3.616480</td>\n",
       "      <td>8.048798</td>\n",
       "      <td>0.775388</td>\n",
       "      <td>55.599998</td>\n",
       "      <td>0.762675</td>\n",
       "      <td>-0.068427</td>\n",
       "      <td>0.844209</td>\n",
       "      <td>0.710119</td>\n",
       "      <td>0.211726</td>\n",
       "    </tr>\n",
       "    <tr>\n",
       "      <th>2019</th>\n",
       "      <td>2.693523</td>\n",
       "      <td>7.950132</td>\n",
       "      <td>0.759162</td>\n",
       "      <td>56.200001</td>\n",
       "      <td>0.631908</td>\n",
       "      <td>-0.063791</td>\n",
       "      <td>0.830652</td>\n",
       "      <td>0.716004</td>\n",
       "      <td>0.235354</td>\n",
       "    </tr>\n",
       "    <tr>\n",
       "      <th>2020</th>\n",
       "      <td>3.159802</td>\n",
       "      <td>7.828757</td>\n",
       "      <td>0.717243</td>\n",
       "      <td>56.799999</td>\n",
       "      <td>0.643303</td>\n",
       "      <td>-0.008696</td>\n",
       "      <td>0.788523</td>\n",
       "      <td>0.702573</td>\n",
       "      <td>0.345736</td>\n",
       "    </tr>\n",
       "  </tbody>\n",
       "</table>\n",
       "<p>1949 rows × 9 columns</p>\n",
       "</div>"
      ],
      "text/plain": [
       "                   Life Ladder  Log GDP per capita  Social support  \\\n",
       "Country name year                                                    \n",
       "Afghanistan  2008     3.723590            7.370100        0.450662   \n",
       "             2009     4.401778            7.539972        0.552308   \n",
       "             2010     4.758381            7.646709        0.539075   \n",
       "             2011     3.831719            7.619532        0.521104   \n",
       "             2012     3.782938            7.705479        0.520637   \n",
       "...                        ...                 ...             ...   \n",
       "Zimbabwe     2016     3.735400            7.984372        0.768425   \n",
       "             2017     3.638300            8.015738        0.754147   \n",
       "             2018     3.616480            8.048798        0.775388   \n",
       "             2019     2.693523            7.950132        0.759162   \n",
       "             2020     3.159802            7.828757        0.717243   \n",
       "\n",
       "                   Healthy life expectancy at birth  \\\n",
       "Country name year                                     \n",
       "Afghanistan  2008                         50.799999   \n",
       "             2009                         51.200001   \n",
       "             2010                         51.599998   \n",
       "             2011                         51.919998   \n",
       "             2012                         52.240002   \n",
       "...                                             ...   \n",
       "Zimbabwe     2016                         54.400002   \n",
       "             2017                         55.000000   \n",
       "             2018                         55.599998   \n",
       "             2019                         56.200001   \n",
       "             2020                         56.799999   \n",
       "\n",
       "                   Freedom to make life choices  Generosity  \\\n",
       "Country name year                                             \n",
       "Afghanistan  2008                      0.718114    0.167640   \n",
       "             2009                      0.678896    0.190099   \n",
       "             2010                      0.600127    0.120590   \n",
       "             2011                      0.495901    0.162427   \n",
       "             2012                      0.530935    0.236032   \n",
       "...                                         ...         ...   \n",
       "Zimbabwe     2016                      0.732971   -0.094634   \n",
       "             2017                      0.752826   -0.097645   \n",
       "             2018                      0.762675   -0.068427   \n",
       "             2019                      0.631908   -0.063791   \n",
       "             2020                      0.643303   -0.008696   \n",
       "\n",
       "                   Perceptions of corruption  Positive affect  Negative affect  \n",
       "Country name year                                                               \n",
       "Afghanistan  2008                   0.881686         0.517637         0.258195  \n",
       "             2009                   0.850035         0.583926         0.237092  \n",
       "             2010                   0.706766         0.618265         0.275324  \n",
       "             2011                   0.731109         0.611387         0.267175  \n",
       "             2012                   0.775620         0.710385         0.267919  \n",
       "...                                      ...              ...              ...  \n",
       "Zimbabwe     2016                   0.723612         0.737636         0.208555  \n",
       "             2017                   0.751208         0.806428         0.224051  \n",
       "             2018                   0.844209         0.710119         0.211726  \n",
       "             2019                   0.830652         0.716004         0.235354  \n",
       "             2020                   0.788523         0.702573         0.345736  \n",
       "\n",
       "[1949 rows x 9 columns]"
      ]
     },
     "execution_count": 37,
     "metadata": {},
     "output_type": "execute_result"
    }
   ],
   "source": [
    "happinessdataframe = pd.read_excel('DataPanelWHR2021C2.xls', index_col=[0,1]) \n",
    "happinessdataframe"
   ]
  },
  {
   "cell_type": "markdown",
   "metadata": {
    "id": "ApQBjveehpd8"
   },
   "source": [
    "**Q9: Can you select data corresponding to The Netherlands, from 2005 to 2020?**\n",
    "\n",
    "Expected output: DataFrame with 14 rows (2005 - 2020) and 9 columns (all columns in the previous DataFrame)"
   ]
  },
  {
   "cell_type": "code",
   "execution_count": 38,
   "metadata": {
    "id": "xLKzrCVhhpd8",
    "outputId": "d7ad4052-d2d5-4021-b38b-2da7f58d326f"
   },
   "outputs": [
    {
     "data": {
      "text/html": [
       "<div>\n",
       "<style scoped>\n",
       "    .dataframe tbody tr th:only-of-type {\n",
       "        vertical-align: middle;\n",
       "    }\n",
       "\n",
       "    .dataframe tbody tr th {\n",
       "        vertical-align: top;\n",
       "    }\n",
       "\n",
       "    .dataframe thead th {\n",
       "        text-align: right;\n",
       "    }\n",
       "</style>\n",
       "<table border=\"1\" class=\"dataframe\">\n",
       "  <thead>\n",
       "    <tr style=\"text-align: right;\">\n",
       "      <th></th>\n",
       "      <th>Life Ladder</th>\n",
       "      <th>Log GDP per capita</th>\n",
       "      <th>Social support</th>\n",
       "      <th>Healthy life expectancy at birth</th>\n",
       "      <th>Freedom to make life choices</th>\n",
       "      <th>Generosity</th>\n",
       "      <th>Perceptions of corruption</th>\n",
       "      <th>Positive affect</th>\n",
       "      <th>Negative affect</th>\n",
       "    </tr>\n",
       "    <tr>\n",
       "      <th>year</th>\n",
       "      <th></th>\n",
       "      <th></th>\n",
       "      <th></th>\n",
       "      <th></th>\n",
       "      <th></th>\n",
       "      <th></th>\n",
       "      <th></th>\n",
       "      <th></th>\n",
       "      <th></th>\n",
       "    </tr>\n",
       "  </thead>\n",
       "  <tbody>\n",
       "    <tr>\n",
       "      <th>2005</th>\n",
       "      <td>7.463979</td>\n",
       "      <td>10.813766</td>\n",
       "      <td>0.947358</td>\n",
       "      <td>70.400002</td>\n",
       "      <td>0.901008</td>\n",
       "      <td>NaN</td>\n",
       "      <td>0.571342</td>\n",
       "      <td>0.869353</td>\n",
       "      <td>0.232795</td>\n",
       "    </tr>\n",
       "    <tr>\n",
       "      <th>2007</th>\n",
       "      <td>7.451880</td>\n",
       "      <td>10.881042</td>\n",
       "      <td>0.943854</td>\n",
       "      <td>70.800003</td>\n",
       "      <td>0.896018</td>\n",
       "      <td>0.344347</td>\n",
       "      <td>0.445437</td>\n",
       "      <td>0.817750</td>\n",
       "      <td>0.213336</td>\n",
       "    </tr>\n",
       "    <tr>\n",
       "      <th>2008</th>\n",
       "      <td>7.631012</td>\n",
       "      <td>10.898621</td>\n",
       "      <td>0.944202</td>\n",
       "      <td>71.000000</td>\n",
       "      <td>0.883287</td>\n",
       "      <td>0.365200</td>\n",
       "      <td>0.418940</td>\n",
       "      <td>0.788195</td>\n",
       "      <td>0.181690</td>\n",
       "    </tr>\n",
       "    <tr>\n",
       "      <th>2010</th>\n",
       "      <td>7.501876</td>\n",
       "      <td>10.864328</td>\n",
       "      <td>0.956537</td>\n",
       "      <td>71.400002</td>\n",
       "      <td>0.921448</td>\n",
       "      <td>0.349346</td>\n",
       "      <td>0.398592</td>\n",
       "      <td>0.853234</td>\n",
       "      <td>0.206079</td>\n",
       "    </tr>\n",
       "    <tr>\n",
       "      <th>2011</th>\n",
       "      <td>7.563798</td>\n",
       "      <td>10.875057</td>\n",
       "      <td>0.938396</td>\n",
       "      <td>71.519997</td>\n",
       "      <td>0.925432</td>\n",
       "      <td>0.335668</td>\n",
       "      <td>0.359396</td>\n",
       "      <td>0.862723</td>\n",
       "      <td>0.181386</td>\n",
       "    </tr>\n",
       "    <tr>\n",
       "      <th>2012</th>\n",
       "      <td>7.470716</td>\n",
       "      <td>10.861000</td>\n",
       "      <td>0.938885</td>\n",
       "      <td>71.639999</td>\n",
       "      <td>0.877119</td>\n",
       "      <td>0.288119</td>\n",
       "      <td>0.433754</td>\n",
       "      <td>0.860641</td>\n",
       "      <td>0.226290</td>\n",
       "    </tr>\n",
       "    <tr>\n",
       "      <th>2013</th>\n",
       "      <td>7.406550</td>\n",
       "      <td>10.856749</td>\n",
       "      <td>0.924705</td>\n",
       "      <td>71.760002</td>\n",
       "      <td>0.918996</td>\n",
       "      <td>0.304530</td>\n",
       "      <td>0.504530</td>\n",
       "      <td>0.866824</td>\n",
       "      <td>0.235443</td>\n",
       "    </tr>\n",
       "    <tr>\n",
       "      <th>2014</th>\n",
       "      <td>7.321188</td>\n",
       "      <td>10.867284</td>\n",
       "      <td>0.908996</td>\n",
       "      <td>71.879997</td>\n",
       "      <td>0.910180</td>\n",
       "      <td>0.331311</td>\n",
       "      <td>0.456948</td>\n",
       "      <td>0.867766</td>\n",
       "      <td>0.220657</td>\n",
       "    </tr>\n",
       "    <tr>\n",
       "      <th>2015</th>\n",
       "      <td>7.324437</td>\n",
       "      <td>10.882255</td>\n",
       "      <td>0.879010</td>\n",
       "      <td>72.000000</td>\n",
       "      <td>0.903979</td>\n",
       "      <td>0.261447</td>\n",
       "      <td>0.411822</td>\n",
       "      <td>0.834134</td>\n",
       "      <td>0.202129</td>\n",
       "    </tr>\n",
       "    <tr>\n",
       "      <th>2016</th>\n",
       "      <td>7.540877</td>\n",
       "      <td>10.898613</td>\n",
       "      <td>0.925944</td>\n",
       "      <td>72.099998</td>\n",
       "      <td>0.907310</td>\n",
       "      <td>0.238664</td>\n",
       "      <td>0.433304</td>\n",
       "      <td>0.838432</td>\n",
       "      <td>0.214851</td>\n",
       "    </tr>\n",
       "    <tr>\n",
       "      <th>2017</th>\n",
       "      <td>7.458965</td>\n",
       "      <td>10.921394</td>\n",
       "      <td>0.936501</td>\n",
       "      <td>72.199997</td>\n",
       "      <td>0.920320</td>\n",
       "      <td>0.250440</td>\n",
       "      <td>0.363134</td>\n",
       "      <td>0.852185</td>\n",
       "      <td>0.184520</td>\n",
       "    </tr>\n",
       "    <tr>\n",
       "      <th>2018</th>\n",
       "      <td>7.463097</td>\n",
       "      <td>10.941197</td>\n",
       "      <td>0.939443</td>\n",
       "      <td>72.300003</td>\n",
       "      <td>0.919985</td>\n",
       "      <td>0.161489</td>\n",
       "      <td>0.370558</td>\n",
       "      <td>0.861977</td>\n",
       "      <td>0.204794</td>\n",
       "    </tr>\n",
       "    <tr>\n",
       "      <th>2019</th>\n",
       "      <td>7.425269</td>\n",
       "      <td>10.953283</td>\n",
       "      <td>0.941477</td>\n",
       "      <td>72.400002</td>\n",
       "      <td>0.885593</td>\n",
       "      <td>0.212534</td>\n",
       "      <td>0.360068</td>\n",
       "      <td>0.838301</td>\n",
       "      <td>0.230502</td>\n",
       "    </tr>\n",
       "    <tr>\n",
       "      <th>2020</th>\n",
       "      <td>7.504448</td>\n",
       "      <td>10.900500</td>\n",
       "      <td>0.943956</td>\n",
       "      <td>72.500000</td>\n",
       "      <td>0.934523</td>\n",
       "      <td>0.151298</td>\n",
       "      <td>0.280605</td>\n",
       "      <td>0.783991</td>\n",
       "      <td>0.246511</td>\n",
       "    </tr>\n",
       "  </tbody>\n",
       "</table>\n",
       "</div>"
      ],
      "text/plain": [
       "      Life Ladder  Log GDP per capita  Social support  \\\n",
       "year                                                    \n",
       "2005     7.463979           10.813766        0.947358   \n",
       "2007     7.451880           10.881042        0.943854   \n",
       "2008     7.631012           10.898621        0.944202   \n",
       "2010     7.501876           10.864328        0.956537   \n",
       "2011     7.563798           10.875057        0.938396   \n",
       "2012     7.470716           10.861000        0.938885   \n",
       "2013     7.406550           10.856749        0.924705   \n",
       "2014     7.321188           10.867284        0.908996   \n",
       "2015     7.324437           10.882255        0.879010   \n",
       "2016     7.540877           10.898613        0.925944   \n",
       "2017     7.458965           10.921394        0.936501   \n",
       "2018     7.463097           10.941197        0.939443   \n",
       "2019     7.425269           10.953283        0.941477   \n",
       "2020     7.504448           10.900500        0.943956   \n",
       "\n",
       "      Healthy life expectancy at birth  Freedom to make life choices  \\\n",
       "year                                                                   \n",
       "2005                         70.400002                      0.901008   \n",
       "2007                         70.800003                      0.896018   \n",
       "2008                         71.000000                      0.883287   \n",
       "2010                         71.400002                      0.921448   \n",
       "2011                         71.519997                      0.925432   \n",
       "2012                         71.639999                      0.877119   \n",
       "2013                         71.760002                      0.918996   \n",
       "2014                         71.879997                      0.910180   \n",
       "2015                         72.000000                      0.903979   \n",
       "2016                         72.099998                      0.907310   \n",
       "2017                         72.199997                      0.920320   \n",
       "2018                         72.300003                      0.919985   \n",
       "2019                         72.400002                      0.885593   \n",
       "2020                         72.500000                      0.934523   \n",
       "\n",
       "      Generosity  Perceptions of corruption  Positive affect  Negative affect  \n",
       "year                                                                           \n",
       "2005         NaN                   0.571342         0.869353         0.232795  \n",
       "2007    0.344347                   0.445437         0.817750         0.213336  \n",
       "2008    0.365200                   0.418940         0.788195         0.181690  \n",
       "2010    0.349346                   0.398592         0.853234         0.206079  \n",
       "2011    0.335668                   0.359396         0.862723         0.181386  \n",
       "2012    0.288119                   0.433754         0.860641         0.226290  \n",
       "2013    0.304530                   0.504530         0.866824         0.235443  \n",
       "2014    0.331311                   0.456948         0.867766         0.220657  \n",
       "2015    0.261447                   0.411822         0.834134         0.202129  \n",
       "2016    0.238664                   0.433304         0.838432         0.214851  \n",
       "2017    0.250440                   0.363134         0.852185         0.184520  \n",
       "2018    0.161489                   0.370558         0.861977         0.204794  \n",
       "2019    0.212534                   0.360068         0.838301         0.230502  \n",
       "2020    0.151298                   0.280605         0.783991         0.246511  "
      ]
     },
     "execution_count": 38,
     "metadata": {},
     "output_type": "execute_result"
    }
   ],
   "source": [
    "# Solution Q9\n",
    "happinessdataframe.loc['Netherlands']"
   ]
  },
  {
   "cell_type": "code",
   "execution_count": 39,
   "metadata": {
    "id": "mfQfM55Ahpd8",
    "outputId": "44d2bfe1-b98b-460b-cccf-283b6980fb9b"
   },
   "outputs": [
    {
     "data": {
      "text/plain": [
       "Life Ladder                          7.540877\n",
       "Log GDP per capita                  10.898613\n",
       "Social support                       0.925944\n",
       "Healthy life expectancy at birth    72.099998\n",
       "Freedom to make life choices         0.907310\n",
       "Generosity                           0.238664\n",
       "Perceptions of corruption            0.433304\n",
       "Positive affect                      0.838432\n",
       "Negative affect                      0.214851\n",
       "Name: (Netherlands, 2016), dtype: float64"
      ]
     },
     "execution_count": 39,
     "metadata": {},
     "output_type": "execute_result"
    }
   ],
   "source": [
    "happinessdataframe.loc[('Netherlands', 2016)]"
   ]
  },
  {
   "cell_type": "code",
   "execution_count": 40,
   "metadata": {
    "id": "qa5xRfT9hpd8",
    "outputId": "80996106-e17d-40f4-c17f-399bc06eb24e"
   },
   "outputs": [
    {
     "data": {
      "text/plain": [
       "Life Ladder                          5.466707\n",
       "Log GDP per capita                   9.368459\n",
       "Social support                       0.812553\n",
       "Healthy life expectancy at birth    63.359375\n",
       "Freedom to make life choices         0.742567\n",
       "Generosity                           0.000108\n",
       "Perceptions of corruption            0.747111\n",
       "Positive affect                      0.709998\n",
       "Negative affect                      0.268552\n",
       "dtype: float64"
      ]
     },
     "execution_count": 40,
     "metadata": {},
     "output_type": "execute_result"
    }
   ],
   "source": [
    "happinessdataframe.mean()"
   ]
  },
  {
   "cell_type": "code",
   "execution_count": 41,
   "metadata": {
    "id": "KduPlCNHhpd9",
    "outputId": "61a5c1e2-b6ba-43db-f734-b94a3be469d5"
   },
   "outputs": [
    {
     "data": {
      "text/html": [
       "<div>\n",
       "<style scoped>\n",
       "    .dataframe tbody tr th:only-of-type {\n",
       "        vertical-align: middle;\n",
       "    }\n",
       "\n",
       "    .dataframe tbody tr th {\n",
       "        vertical-align: top;\n",
       "    }\n",
       "\n",
       "    .dataframe thead th {\n",
       "        text-align: right;\n",
       "    }\n",
       "</style>\n",
       "<table border=\"1\" class=\"dataframe\">\n",
       "  <thead>\n",
       "    <tr style=\"text-align: right;\">\n",
       "      <th></th>\n",
       "      <th>Life Ladder</th>\n",
       "      <th>Log GDP per capita</th>\n",
       "      <th>Social support</th>\n",
       "      <th>Healthy life expectancy at birth</th>\n",
       "      <th>Freedom to make life choices</th>\n",
       "      <th>Generosity</th>\n",
       "      <th>Perceptions of corruption</th>\n",
       "      <th>Positive affect</th>\n",
       "      <th>Negative affect</th>\n",
       "    </tr>\n",
       "    <tr>\n",
       "      <th>Country name</th>\n",
       "      <th></th>\n",
       "      <th></th>\n",
       "      <th></th>\n",
       "      <th></th>\n",
       "      <th></th>\n",
       "      <th></th>\n",
       "      <th></th>\n",
       "      <th></th>\n",
       "      <th></th>\n",
       "    </tr>\n",
       "  </thead>\n",
       "  <tbody>\n",
       "    <tr>\n",
       "      <th>Afghanistan</th>\n",
       "      <td>3.594628</td>\n",
       "      <td>7.650843</td>\n",
       "      <td>0.508245</td>\n",
       "      <td>52.266667</td>\n",
       "      <td>0.518012</td>\n",
       "      <td>0.070041</td>\n",
       "      <td>0.843283</td>\n",
       "      <td>0.548687</td>\n",
       "      <td>0.326684</td>\n",
       "    </tr>\n",
       "    <tr>\n",
       "      <th>Albania</th>\n",
       "      <td>5.019427</td>\n",
       "      <td>9.384397</td>\n",
       "      <td>0.716316</td>\n",
       "      <td>67.546154</td>\n",
       "      <td>0.662830</td>\n",
       "      <td>-0.082628</td>\n",
       "      <td>0.869360</td>\n",
       "      <td>0.653794</td>\n",
       "      <td>0.299265</td>\n",
       "    </tr>\n",
       "    <tr>\n",
       "      <th>Algeria</th>\n",
       "      <td>5.389717</td>\n",
       "      <td>9.328897</td>\n",
       "      <td>0.803582</td>\n",
       "      <td>65.290000</td>\n",
       "      <td>0.519009</td>\n",
       "      <td>-0.144289</td>\n",
       "      <td>0.690871</td>\n",
       "      <td>0.608373</td>\n",
       "      <td>0.262206</td>\n",
       "    </tr>\n",
       "    <tr>\n",
       "      <th>Angola</th>\n",
       "      <td>4.420299</td>\n",
       "      <td>8.989725</td>\n",
       "      <td>0.737973</td>\n",
       "      <td>53.550000</td>\n",
       "      <td>0.455957</td>\n",
       "      <td>-0.088023</td>\n",
       "      <td>0.867018</td>\n",
       "      <td>0.613339</td>\n",
       "      <td>0.351173</td>\n",
       "    </tr>\n",
       "    <tr>\n",
       "      <th>Argentina</th>\n",
       "      <td>6.310166</td>\n",
       "      <td>10.033868</td>\n",
       "      <td>0.904423</td>\n",
       "      <td>67.900000</td>\n",
       "      <td>0.768254</td>\n",
       "      <td>-0.159684</td>\n",
       "      <td>0.841997</td>\n",
       "      <td>0.833451</td>\n",
       "      <td>0.284020</td>\n",
       "    </tr>\n",
       "    <tr>\n",
       "      <th>...</th>\n",
       "      <td>...</td>\n",
       "      <td>...</td>\n",
       "      <td>...</td>\n",
       "      <td>...</td>\n",
       "      <td>...</td>\n",
       "      <td>...</td>\n",
       "      <td>...</td>\n",
       "      <td>...</td>\n",
       "      <td>...</td>\n",
       "    </tr>\n",
       "    <tr>\n",
       "      <th>Venezuela</th>\n",
       "      <td>6.019735</td>\n",
       "      <td>9.480086</td>\n",
       "      <td>0.910089</td>\n",
       "      <td>65.958666</td>\n",
       "      <td>0.666390</td>\n",
       "      <td>-0.164148</td>\n",
       "      <td>0.795206</td>\n",
       "      <td>0.801747</td>\n",
       "      <td>0.260001</td>\n",
       "    </tr>\n",
       "    <tr>\n",
       "      <th>Vietnam</th>\n",
       "      <td>5.305872</td>\n",
       "      <td>8.655294</td>\n",
       "      <td>0.829133</td>\n",
       "      <td>66.928571</td>\n",
       "      <td>0.882548</td>\n",
       "      <td>0.002600</td>\n",
       "      <td>0.784752</td>\n",
       "      <td>0.645487</td>\n",
       "      <td>0.206513</td>\n",
       "    </tr>\n",
       "    <tr>\n",
       "      <th>Yemen</th>\n",
       "      <td>3.912124</td>\n",
       "      <td>8.102699</td>\n",
       "      <td>0.739803</td>\n",
       "      <td>54.866666</td>\n",
       "      <td>0.622404</td>\n",
       "      <td>-0.126301</td>\n",
       "      <td>0.824832</td>\n",
       "      <td>0.530582</td>\n",
       "      <td>0.293548</td>\n",
       "    </tr>\n",
       "    <tr>\n",
       "      <th>Zambia</th>\n",
       "      <td>4.551818</td>\n",
       "      <td>8.066937</td>\n",
       "      <td>0.737739</td>\n",
       "      <td>51.707143</td>\n",
       "      <td>0.756713</td>\n",
       "      <td>0.013395</td>\n",
       "      <td>0.828810</td>\n",
       "      <td>0.720564</td>\n",
       "      <td>0.294365</td>\n",
       "    </tr>\n",
       "    <tr>\n",
       "      <th>Zimbabwe</th>\n",
       "      <td>3.882689</td>\n",
       "      <td>7.850429</td>\n",
       "      <td>0.799474</td>\n",
       "      <td>50.233333</td>\n",
       "      <td>0.587849</td>\n",
       "      <td>-0.082893</td>\n",
       "      <td>0.844158</td>\n",
       "      <td>0.717712</td>\n",
       "      <td>0.224420</td>\n",
       "    </tr>\n",
       "  </tbody>\n",
       "</table>\n",
       "<p>166 rows × 9 columns</p>\n",
       "</div>"
      ],
      "text/plain": [
       "              Life Ladder  Log GDP per capita  Social support  \\\n",
       "Country name                                                    \n",
       "Afghanistan      3.594628            7.650843        0.508245   \n",
       "Albania          5.019427            9.384397        0.716316   \n",
       "Algeria          5.389717            9.328897        0.803582   \n",
       "Angola           4.420299            8.989725        0.737973   \n",
       "Argentina        6.310166           10.033868        0.904423   \n",
       "...                   ...                 ...             ...   \n",
       "Venezuela        6.019735            9.480086        0.910089   \n",
       "Vietnam          5.305872            8.655294        0.829133   \n",
       "Yemen            3.912124            8.102699        0.739803   \n",
       "Zambia           4.551818            8.066937        0.737739   \n",
       "Zimbabwe         3.882689            7.850429        0.799474   \n",
       "\n",
       "              Healthy life expectancy at birth  Freedom to make life choices  \\\n",
       "Country name                                                                   \n",
       "Afghanistan                          52.266667                      0.518012   \n",
       "Albania                              67.546154                      0.662830   \n",
       "Algeria                              65.290000                      0.519009   \n",
       "Angola                               53.550000                      0.455957   \n",
       "Argentina                            67.900000                      0.768254   \n",
       "...                                        ...                           ...   \n",
       "Venezuela                            65.958666                      0.666390   \n",
       "Vietnam                              66.928571                      0.882548   \n",
       "Yemen                                54.866666                      0.622404   \n",
       "Zambia                               51.707143                      0.756713   \n",
       "Zimbabwe                             50.233333                      0.587849   \n",
       "\n",
       "              Generosity  Perceptions of corruption  Positive affect  \\\n",
       "Country name                                                           \n",
       "Afghanistan     0.070041                   0.843283         0.548687   \n",
       "Albania        -0.082628                   0.869360         0.653794   \n",
       "Algeria        -0.144289                   0.690871         0.608373   \n",
       "Angola         -0.088023                   0.867018         0.613339   \n",
       "Argentina      -0.159684                   0.841997         0.833451   \n",
       "...                  ...                        ...              ...   \n",
       "Venezuela      -0.164148                   0.795206         0.801747   \n",
       "Vietnam         0.002600                   0.784752         0.645487   \n",
       "Yemen          -0.126301                   0.824832         0.530582   \n",
       "Zambia          0.013395                   0.828810         0.720564   \n",
       "Zimbabwe       -0.082893                   0.844158         0.717712   \n",
       "\n",
       "              Negative affect  \n",
       "Country name                   \n",
       "Afghanistan          0.326684  \n",
       "Albania              0.299265  \n",
       "Algeria              0.262206  \n",
       "Angola               0.351173  \n",
       "Argentina            0.284020  \n",
       "...                       ...  \n",
       "Venezuela            0.260001  \n",
       "Vietnam              0.206513  \n",
       "Yemen                0.293548  \n",
       "Zambia               0.294365  \n",
       "Zimbabwe             0.224420  \n",
       "\n",
       "[166 rows x 9 columns]"
      ]
     },
     "execution_count": 41,
     "metadata": {},
     "output_type": "execute_result"
    }
   ],
   "source": [
    "# Group each row by Country name; For each Country, present the mean of each column\n",
    "happinessdataframe.groupby('Country name').mean()"
   ]
  },
  {
   "cell_type": "markdown",
   "metadata": {
    "id": "-Dvu4S-Fhpd9"
   },
   "source": [
    "**Q10: Can you grop each row by Year and, for each year, present the mean of each column?**\n",
    "\n",
    "Expected output: same as above but grouped by year"
   ]
  },
  {
   "cell_type": "code",
   "execution_count": 42,
   "metadata": {
    "id": "viTzkR5nhpd9",
    "outputId": "0503fbc6-abaa-4f29-f0e1-38aaa37c2436"
   },
   "outputs": [
    {
     "data": {
      "text/html": [
       "<div>\n",
       "<style scoped>\n",
       "    .dataframe tbody tr th:only-of-type {\n",
       "        vertical-align: middle;\n",
       "    }\n",
       "\n",
       "    .dataframe tbody tr th {\n",
       "        vertical-align: top;\n",
       "    }\n",
       "\n",
       "    .dataframe thead th {\n",
       "        text-align: right;\n",
       "    }\n",
       "</style>\n",
       "<table border=\"1\" class=\"dataframe\">\n",
       "  <thead>\n",
       "    <tr style=\"text-align: right;\">\n",
       "      <th></th>\n",
       "      <th>Life Ladder</th>\n",
       "      <th>Log GDP per capita</th>\n",
       "      <th>Social support</th>\n",
       "      <th>Healthy life expectancy at birth</th>\n",
       "      <th>Freedom to make life choices</th>\n",
       "      <th>Generosity</th>\n",
       "      <th>Perceptions of corruption</th>\n",
       "      <th>Positive affect</th>\n",
       "      <th>Negative affect</th>\n",
       "    </tr>\n",
       "    <tr>\n",
       "      <th>year</th>\n",
       "      <th></th>\n",
       "      <th></th>\n",
       "      <th></th>\n",
       "      <th></th>\n",
       "      <th></th>\n",
       "      <th></th>\n",
       "      <th></th>\n",
       "      <th></th>\n",
       "      <th></th>\n",
       "    </tr>\n",
       "  </thead>\n",
       "  <tbody>\n",
       "    <tr>\n",
       "      <th>2005</th>\n",
       "      <td>6.446164</td>\n",
       "      <td>10.118638</td>\n",
       "      <td>0.897367</td>\n",
       "      <td>67.007407</td>\n",
       "      <td>0.829618</td>\n",
       "      <td>0.256230</td>\n",
       "      <td>0.715875</td>\n",
       "      <td>0.748566</td>\n",
       "      <td>0.255710</td>\n",
       "    </tr>\n",
       "    <tr>\n",
       "      <th>2006</th>\n",
       "      <td>5.196935</td>\n",
       "      <td>9.044298</td>\n",
       "      <td>0.835852</td>\n",
       "      <td>60.147500</td>\n",
       "      <td>0.730508</td>\n",
       "      <td>0.006719</td>\n",
       "      <td>0.755737</td>\n",
       "      <td>0.719074</td>\n",
       "      <td>0.254611</td>\n",
       "    </tr>\n",
       "    <tr>\n",
       "      <th>2007</th>\n",
       "      <td>5.418291</td>\n",
       "      <td>9.172917</td>\n",
       "      <td>0.807694</td>\n",
       "      <td>61.305269</td>\n",
       "      <td>0.687329</td>\n",
       "      <td>0.014866</td>\n",
       "      <td>0.792069</td>\n",
       "      <td>0.709138</td>\n",
       "      <td>0.250222</td>\n",
       "    </tr>\n",
       "    <tr>\n",
       "      <th>2008</th>\n",
       "      <td>5.418554</td>\n",
       "      <td>9.167252</td>\n",
       "      <td>0.784401</td>\n",
       "      <td>61.249954</td>\n",
       "      <td>0.688365</td>\n",
       "      <td>0.021439</td>\n",
       "      <td>0.764120</td>\n",
       "      <td>0.706241</td>\n",
       "      <td>0.243531</td>\n",
       "    </tr>\n",
       "    <tr>\n",
       "      <th>2009</th>\n",
       "      <td>5.457640</td>\n",
       "      <td>9.263778</td>\n",
       "      <td>0.819076</td>\n",
       "      <td>62.418929</td>\n",
       "      <td>0.687435</td>\n",
       "      <td>-0.005369</td>\n",
       "      <td>0.763371</td>\n",
       "      <td>0.706094</td>\n",
       "      <td>0.246989</td>\n",
       "    </tr>\n",
       "    <tr>\n",
       "      <th>2010</th>\n",
       "      <td>5.496782</td>\n",
       "      <td>9.393829</td>\n",
       "      <td>0.831849</td>\n",
       "      <td>63.069028</td>\n",
       "      <td>0.708278</td>\n",
       "      <td>0.003363</td>\n",
       "      <td>0.757199</td>\n",
       "      <td>0.712103</td>\n",
       "      <td>0.240695</td>\n",
       "    </tr>\n",
       "    <tr>\n",
       "      <th>2011</th>\n",
       "      <td>5.424088</td>\n",
       "      <td>9.286865</td>\n",
       "      <td>0.802802</td>\n",
       "      <td>62.212126</td>\n",
       "      <td>0.732204</td>\n",
       "      <td>-0.014482</td>\n",
       "      <td>0.755170</td>\n",
       "      <td>0.701571</td>\n",
       "      <td>0.248833</td>\n",
       "    </tr>\n",
       "    <tr>\n",
       "      <th>2012</th>\n",
       "      <td>5.443751</td>\n",
       "      <td>9.390575</td>\n",
       "      <td>0.809077</td>\n",
       "      <td>63.216991</td>\n",
       "      <td>0.711235</td>\n",
       "      <td>-0.002029</td>\n",
       "      <td>0.757945</td>\n",
       "      <td>0.706998</td>\n",
       "      <td>0.260280</td>\n",
       "    </tr>\n",
       "    <tr>\n",
       "      <th>2013</th>\n",
       "      <td>5.394568</td>\n",
       "      <td>9.373259</td>\n",
       "      <td>0.806548</td>\n",
       "      <td>63.326483</td>\n",
       "      <td>0.727886</td>\n",
       "      <td>-0.000164</td>\n",
       "      <td>0.763475</td>\n",
       "      <td>0.711921</td>\n",
       "      <td>0.271239</td>\n",
       "    </tr>\n",
       "    <tr>\n",
       "      <th>2014</th>\n",
       "      <td>5.389023</td>\n",
       "      <td>9.370981</td>\n",
       "      <td>0.805651</td>\n",
       "      <td>63.295948</td>\n",
       "      <td>0.734468</td>\n",
       "      <td>0.020238</td>\n",
       "      <td>0.738347</td>\n",
       "      <td>0.709099</td>\n",
       "      <td>0.270037</td>\n",
       "    </tr>\n",
       "    <tr>\n",
       "      <th>2015</th>\n",
       "      <td>5.404037</td>\n",
       "      <td>9.396412</td>\n",
       "      <td>0.798211</td>\n",
       "      <td>63.665073</td>\n",
       "      <td>0.748704</td>\n",
       "      <td>0.019700</td>\n",
       "      <td>0.736524</td>\n",
       "      <td>0.709288</td>\n",
       "      <td>0.278709</td>\n",
       "    </tr>\n",
       "    <tr>\n",
       "      <th>2016</th>\n",
       "      <td>5.399414</td>\n",
       "      <td>9.403018</td>\n",
       "      <td>0.811937</td>\n",
       "      <td>63.860034</td>\n",
       "      <td>0.763137</td>\n",
       "      <td>0.000678</td>\n",
       "      <td>0.746677</td>\n",
       "      <td>0.711448</td>\n",
       "      <td>0.285698</td>\n",
       "    </tr>\n",
       "    <tr>\n",
       "      <th>2017</th>\n",
       "      <td>5.460421</td>\n",
       "      <td>9.397034</td>\n",
       "      <td>0.805164</td>\n",
       "      <td>64.090233</td>\n",
       "      <td>0.780577</td>\n",
       "      <td>-0.006532</td>\n",
       "      <td>0.728542</td>\n",
       "      <td>0.704992</td>\n",
       "      <td>0.291231</td>\n",
       "    </tr>\n",
       "    <tr>\n",
       "      <th>2018</th>\n",
       "      <td>5.499454</td>\n",
       "      <td>9.406760</td>\n",
       "      <td>0.812338</td>\n",
       "      <td>64.555377</td>\n",
       "      <td>0.783938</td>\n",
       "      <td>-0.023105</td>\n",
       "      <td>0.733654</td>\n",
       "      <td>0.708951</td>\n",
       "      <td>0.292708</td>\n",
       "    </tr>\n",
       "    <tr>\n",
       "      <th>2019</th>\n",
       "      <td>5.570894</td>\n",
       "      <td>9.477088</td>\n",
       "      <td>0.816771</td>\n",
       "      <td>65.003919</td>\n",
       "      <td>0.794567</td>\n",
       "      <td>-0.019844</td>\n",
       "      <td>0.722670</td>\n",
       "      <td>0.711244</td>\n",
       "      <td>0.287025</td>\n",
       "    </tr>\n",
       "    <tr>\n",
       "      <th>2020</th>\n",
       "      <td>5.840611</td>\n",
       "      <td>9.751327</td>\n",
       "      <td>0.838907</td>\n",
       "      <td>67.099564</td>\n",
       "      <td>0.817830</td>\n",
       "      <td>-0.007945</td>\n",
       "      <td>0.707697</td>\n",
       "      <td>0.720424</td>\n",
       "      <td>0.292221</td>\n",
       "    </tr>\n",
       "  </tbody>\n",
       "</table>\n",
       "</div>"
      ],
      "text/plain": [
       "      Life Ladder  Log GDP per capita  Social support  \\\n",
       "year                                                    \n",
       "2005     6.446164           10.118638        0.897367   \n",
       "2006     5.196935            9.044298        0.835852   \n",
       "2007     5.418291            9.172917        0.807694   \n",
       "2008     5.418554            9.167252        0.784401   \n",
       "2009     5.457640            9.263778        0.819076   \n",
       "2010     5.496782            9.393829        0.831849   \n",
       "2011     5.424088            9.286865        0.802802   \n",
       "2012     5.443751            9.390575        0.809077   \n",
       "2013     5.394568            9.373259        0.806548   \n",
       "2014     5.389023            9.370981        0.805651   \n",
       "2015     5.404037            9.396412        0.798211   \n",
       "2016     5.399414            9.403018        0.811937   \n",
       "2017     5.460421            9.397034        0.805164   \n",
       "2018     5.499454            9.406760        0.812338   \n",
       "2019     5.570894            9.477088        0.816771   \n",
       "2020     5.840611            9.751327        0.838907   \n",
       "\n",
       "      Healthy life expectancy at birth  Freedom to make life choices  \\\n",
       "year                                                                   \n",
       "2005                         67.007407                      0.829618   \n",
       "2006                         60.147500                      0.730508   \n",
       "2007                         61.305269                      0.687329   \n",
       "2008                         61.249954                      0.688365   \n",
       "2009                         62.418929                      0.687435   \n",
       "2010                         63.069028                      0.708278   \n",
       "2011                         62.212126                      0.732204   \n",
       "2012                         63.216991                      0.711235   \n",
       "2013                         63.326483                      0.727886   \n",
       "2014                         63.295948                      0.734468   \n",
       "2015                         63.665073                      0.748704   \n",
       "2016                         63.860034                      0.763137   \n",
       "2017                         64.090233                      0.780577   \n",
       "2018                         64.555377                      0.783938   \n",
       "2019                         65.003919                      0.794567   \n",
       "2020                         67.099564                      0.817830   \n",
       "\n",
       "      Generosity  Perceptions of corruption  Positive affect  Negative affect  \n",
       "year                                                                           \n",
       "2005    0.256230                   0.715875         0.748566         0.255710  \n",
       "2006    0.006719                   0.755737         0.719074         0.254611  \n",
       "2007    0.014866                   0.792069         0.709138         0.250222  \n",
       "2008    0.021439                   0.764120         0.706241         0.243531  \n",
       "2009   -0.005369                   0.763371         0.706094         0.246989  \n",
       "2010    0.003363                   0.757199         0.712103         0.240695  \n",
       "2011   -0.014482                   0.755170         0.701571         0.248833  \n",
       "2012   -0.002029                   0.757945         0.706998         0.260280  \n",
       "2013   -0.000164                   0.763475         0.711921         0.271239  \n",
       "2014    0.020238                   0.738347         0.709099         0.270037  \n",
       "2015    0.019700                   0.736524         0.709288         0.278709  \n",
       "2016    0.000678                   0.746677         0.711448         0.285698  \n",
       "2017   -0.006532                   0.728542         0.704992         0.291231  \n",
       "2018   -0.023105                   0.733654         0.708951         0.292708  \n",
       "2019   -0.019844                   0.722670         0.711244         0.287025  \n",
       "2020   -0.007945                   0.707697         0.720424         0.292221  "
      ]
     },
     "execution_count": 42,
     "metadata": {},
     "output_type": "execute_result"
    }
   ],
   "source": [
    "# Solution Q10\n",
    "happinessdataframe.groupby('year').mean()"
   ]
  },
  {
   "cell_type": "code",
   "execution_count": 43,
   "metadata": {
    "id": "LVPi5kuuhpd9",
    "outputId": "b64b783e-1eec-4064-8806-e07721122edb"
   },
   "outputs": [
    {
     "data": {
      "text/html": [
       "<div>\n",
       "<style scoped>\n",
       "    .dataframe tbody tr th:only-of-type {\n",
       "        vertical-align: middle;\n",
       "    }\n",
       "\n",
       "    .dataframe tbody tr th {\n",
       "        vertical-align: top;\n",
       "    }\n",
       "\n",
       "    .dataframe thead th {\n",
       "        text-align: right;\n",
       "    }\n",
       "</style>\n",
       "<table border=\"1\" class=\"dataframe\">\n",
       "  <thead>\n",
       "    <tr style=\"text-align: right;\">\n",
       "      <th></th>\n",
       "      <th>Life Ladder</th>\n",
       "      <th>Log GDP per capita</th>\n",
       "      <th>Social support</th>\n",
       "      <th>Healthy life expectancy at birth</th>\n",
       "      <th>Freedom to make life choices</th>\n",
       "      <th>Generosity</th>\n",
       "      <th>Perceptions of corruption</th>\n",
       "      <th>Positive affect</th>\n",
       "      <th>Negative affect</th>\n",
       "    </tr>\n",
       "    <tr>\n",
       "      <th>Country name</th>\n",
       "      <th></th>\n",
       "      <th></th>\n",
       "      <th></th>\n",
       "      <th></th>\n",
       "      <th></th>\n",
       "      <th></th>\n",
       "      <th></th>\n",
       "      <th></th>\n",
       "      <th></th>\n",
       "    </tr>\n",
       "  </thead>\n",
       "  <tbody>\n",
       "    <tr>\n",
       "      <th>Afghanistan</th>\n",
       "      <td>4.758381</td>\n",
       "      <td>7.725029</td>\n",
       "      <td>0.559072</td>\n",
       "      <td>53.200001</td>\n",
       "      <td>0.718114</td>\n",
       "      <td>0.236032</td>\n",
       "      <td>0.954393</td>\n",
       "      <td>0.710385</td>\n",
       "      <td>0.502474</td>\n",
       "    </tr>\n",
       "    <tr>\n",
       "      <th>Albania</th>\n",
       "      <td>5.867422</td>\n",
       "      <td>9.544080</td>\n",
       "      <td>0.833047</td>\n",
       "      <td>69.300003</td>\n",
       "      <td>0.824212</td>\n",
       "      <td>0.008912</td>\n",
       "      <td>0.914284</td>\n",
       "      <td>0.713300</td>\n",
       "      <td>0.350427</td>\n",
       "    </tr>\n",
       "    <tr>\n",
       "      <th>Algeria</th>\n",
       "      <td>6.354898</td>\n",
       "      <td>9.362022</td>\n",
       "      <td>0.839397</td>\n",
       "      <td>66.099998</td>\n",
       "      <td>0.592696</td>\n",
       "      <td>0.005087</td>\n",
       "      <td>0.758704</td>\n",
       "      <td>0.660510</td>\n",
       "      <td>0.377112</td>\n",
       "    </tr>\n",
       "    <tr>\n",
       "      <th>Angola</th>\n",
       "      <td>5.589001</td>\n",
       "      <td>9.016735</td>\n",
       "      <td>0.754615</td>\n",
       "      <td>54.599998</td>\n",
       "      <td>0.583702</td>\n",
       "      <td>0.055257</td>\n",
       "      <td>0.911320</td>\n",
       "      <td>0.658647</td>\n",
       "      <td>0.370875</td>\n",
       "    </tr>\n",
       "    <tr>\n",
       "      <th>Argentina</th>\n",
       "      <td>6.775805</td>\n",
       "      <td>10.112445</td>\n",
       "      <td>0.938463</td>\n",
       "      <td>69.199997</td>\n",
       "      <td>0.881224</td>\n",
       "      <td>-0.122354</td>\n",
       "      <td>0.884742</td>\n",
       "      <td>0.863786</td>\n",
       "      <td>0.342497</td>\n",
       "    </tr>\n",
       "    <tr>\n",
       "      <th>...</th>\n",
       "      <td>...</td>\n",
       "      <td>...</td>\n",
       "      <td>...</td>\n",
       "      <td>...</td>\n",
       "      <td>...</td>\n",
       "      <td>...</td>\n",
       "      <td>...</td>\n",
       "      <td>...</td>\n",
       "      <td>...</td>\n",
       "    </tr>\n",
       "    <tr>\n",
       "      <th>Venezuela</th>\n",
       "      <td>7.478455</td>\n",
       "      <td>9.826082</td>\n",
       "      <td>0.955278</td>\n",
       "      <td>66.900002</td>\n",
       "      <td>0.838198</td>\n",
       "      <td>-0.031057</td>\n",
       "      <td>0.890125</td>\n",
       "      <td>0.867409</td>\n",
       "      <td>0.396250</td>\n",
       "    </tr>\n",
       "    <tr>\n",
       "      <th>Vietnam</th>\n",
       "      <td>5.767344</td>\n",
       "      <td>8.992331</td>\n",
       "      <td>0.897655</td>\n",
       "      <td>68.099998</td>\n",
       "      <td>0.952469</td>\n",
       "      <td>0.200575</td>\n",
       "      <td>0.837870</td>\n",
       "      <td>0.751160</td>\n",
       "      <td>0.240607</td>\n",
       "    </tr>\n",
       "    <tr>\n",
       "      <th>Yemen</th>\n",
       "      <td>4.809259</td>\n",
       "      <td>8.453350</td>\n",
       "      <td>0.870043</td>\n",
       "      <td>57.500000</td>\n",
       "      <td>0.705815</td>\n",
       "      <td>0.011009</td>\n",
       "      <td>0.885429</td>\n",
       "      <td>0.610585</td>\n",
       "      <td>0.378784</td>\n",
       "    </tr>\n",
       "    <tr>\n",
       "      <th>Zambia</th>\n",
       "      <td>5.260361</td>\n",
       "      <td>8.166652</td>\n",
       "      <td>0.864023</td>\n",
       "      <td>56.299999</td>\n",
       "      <td>0.823169</td>\n",
       "      <td>0.140323</td>\n",
       "      <td>0.947914</td>\n",
       "      <td>0.833214</td>\n",
       "      <td>0.394385</td>\n",
       "    </tr>\n",
       "    <tr>\n",
       "      <th>Zimbabwe</th>\n",
       "      <td>4.955101</td>\n",
       "      <td>8.048798</td>\n",
       "      <td>0.896476</td>\n",
       "      <td>56.799999</td>\n",
       "      <td>0.762675</td>\n",
       "      <td>-0.008696</td>\n",
       "      <td>0.963846</td>\n",
       "      <td>0.806428</td>\n",
       "      <td>0.345736</td>\n",
       "    </tr>\n",
       "  </tbody>\n",
       "</table>\n",
       "<p>166 rows × 9 columns</p>\n",
       "</div>"
      ],
      "text/plain": [
       "              Life Ladder  Log GDP per capita  Social support  \\\n",
       "Country name                                                    \n",
       "Afghanistan      4.758381            7.725029        0.559072   \n",
       "Albania          5.867422            9.544080        0.833047   \n",
       "Algeria          6.354898            9.362022        0.839397   \n",
       "Angola           5.589001            9.016735        0.754615   \n",
       "Argentina        6.775805           10.112445        0.938463   \n",
       "...                   ...                 ...             ...   \n",
       "Venezuela        7.478455            9.826082        0.955278   \n",
       "Vietnam          5.767344            8.992331        0.897655   \n",
       "Yemen            4.809259            8.453350        0.870043   \n",
       "Zambia           5.260361            8.166652        0.864023   \n",
       "Zimbabwe         4.955101            8.048798        0.896476   \n",
       "\n",
       "              Healthy life expectancy at birth  Freedom to make life choices  \\\n",
       "Country name                                                                   \n",
       "Afghanistan                          53.200001                      0.718114   \n",
       "Albania                              69.300003                      0.824212   \n",
       "Algeria                              66.099998                      0.592696   \n",
       "Angola                               54.599998                      0.583702   \n",
       "Argentina                            69.199997                      0.881224   \n",
       "...                                        ...                           ...   \n",
       "Venezuela                            66.900002                      0.838198   \n",
       "Vietnam                              68.099998                      0.952469   \n",
       "Yemen                                57.500000                      0.705815   \n",
       "Zambia                               56.299999                      0.823169   \n",
       "Zimbabwe                             56.799999                      0.762675   \n",
       "\n",
       "              Generosity  Perceptions of corruption  Positive affect  \\\n",
       "Country name                                                           \n",
       "Afghanistan     0.236032                   0.954393         0.710385   \n",
       "Albania         0.008912                   0.914284         0.713300   \n",
       "Algeria         0.005087                   0.758704         0.660510   \n",
       "Angola          0.055257                   0.911320         0.658647   \n",
       "Argentina      -0.122354                   0.884742         0.863786   \n",
       "...                  ...                        ...              ...   \n",
       "Venezuela      -0.031057                   0.890125         0.867409   \n",
       "Vietnam         0.200575                   0.837870         0.751160   \n",
       "Yemen           0.011009                   0.885429         0.610585   \n",
       "Zambia          0.140323                   0.947914         0.833214   \n",
       "Zimbabwe       -0.008696                   0.963846         0.806428   \n",
       "\n",
       "              Negative affect  \n",
       "Country name                   \n",
       "Afghanistan          0.502474  \n",
       "Albania              0.350427  \n",
       "Algeria              0.377112  \n",
       "Angola               0.370875  \n",
       "Argentina            0.342497  \n",
       "...                       ...  \n",
       "Venezuela            0.396250  \n",
       "Vietnam              0.240607  \n",
       "Yemen                0.378784  \n",
       "Zambia               0.394385  \n",
       "Zimbabwe             0.345736  \n",
       "\n",
       "[166 rows x 9 columns]"
      ]
     },
     "execution_count": 43,
     "metadata": {},
     "output_type": "execute_result"
    }
   ],
   "source": [
    "# Group each row by Country name; For each different country name, present the maximum of each column\n",
    "happinessdataframe.groupby('Country name').aggregate(np.max)"
   ]
  },
  {
   "cell_type": "code",
   "execution_count": 44,
   "metadata": {
    "id": "rBcqeMXChpd9",
    "outputId": "28c9e1b6-20c0-4c63-ba85-d16fe7762ba0"
   },
   "outputs": [
    {
     "data": {
      "text/html": [
       "<div>\n",
       "<style scoped>\n",
       "    .dataframe tbody tr th:only-of-type {\n",
       "        vertical-align: middle;\n",
       "    }\n",
       "\n",
       "    .dataframe tbody tr th {\n",
       "        vertical-align: top;\n",
       "    }\n",
       "\n",
       "    .dataframe thead th {\n",
       "        text-align: right;\n",
       "    }\n",
       "</style>\n",
       "<table border=\"1\" class=\"dataframe\">\n",
       "  <thead>\n",
       "    <tr style=\"text-align: right;\">\n",
       "      <th></th>\n",
       "      <th>max</th>\n",
       "      <th>mean</th>\n",
       "      <th>min</th>\n",
       "    </tr>\n",
       "    <tr>\n",
       "      <th>Country name</th>\n",
       "      <th></th>\n",
       "      <th></th>\n",
       "      <th></th>\n",
       "    </tr>\n",
       "  </thead>\n",
       "  <tbody>\n",
       "    <tr>\n",
       "      <th>Afghanistan</th>\n",
       "      <td>4.758381</td>\n",
       "      <td>3.594628</td>\n",
       "      <td>2.375092</td>\n",
       "    </tr>\n",
       "    <tr>\n",
       "      <th>Albania</th>\n",
       "      <td>5.867422</td>\n",
       "      <td>5.019427</td>\n",
       "      <td>4.511101</td>\n",
       "    </tr>\n",
       "    <tr>\n",
       "      <th>Algeria</th>\n",
       "      <td>6.354898</td>\n",
       "      <td>5.389717</td>\n",
       "      <td>4.744627</td>\n",
       "    </tr>\n",
       "    <tr>\n",
       "      <th>Angola</th>\n",
       "      <td>5.589001</td>\n",
       "      <td>4.420299</td>\n",
       "      <td>3.794838</td>\n",
       "    </tr>\n",
       "    <tr>\n",
       "      <th>Argentina</th>\n",
       "      <td>6.775805</td>\n",
       "      <td>6.310166</td>\n",
       "      <td>5.792797</td>\n",
       "    </tr>\n",
       "    <tr>\n",
       "      <th>...</th>\n",
       "      <td>...</td>\n",
       "      <td>...</td>\n",
       "      <td>...</td>\n",
       "    </tr>\n",
       "    <tr>\n",
       "      <th>Venezuela</th>\n",
       "      <td>7.478455</td>\n",
       "      <td>6.019735</td>\n",
       "      <td>4.041115</td>\n",
       "    </tr>\n",
       "    <tr>\n",
       "      <th>Vietnam</th>\n",
       "      <td>5.767344</td>\n",
       "      <td>5.305872</td>\n",
       "      <td>5.022699</td>\n",
       "    </tr>\n",
       "    <tr>\n",
       "      <th>Yemen</th>\n",
       "      <td>4.809259</td>\n",
       "      <td>3.912124</td>\n",
       "      <td>2.982674</td>\n",
       "    </tr>\n",
       "    <tr>\n",
       "      <th>Zambia</th>\n",
       "      <td>5.260361</td>\n",
       "      <td>4.551818</td>\n",
       "      <td>3.306797</td>\n",
       "    </tr>\n",
       "    <tr>\n",
       "      <th>Zimbabwe</th>\n",
       "      <td>4.955101</td>\n",
       "      <td>3.882689</td>\n",
       "      <td>2.693523</td>\n",
       "    </tr>\n",
       "  </tbody>\n",
       "</table>\n",
       "<p>166 rows × 3 columns</p>\n",
       "</div>"
      ],
      "text/plain": [
       "                   max      mean       min\n",
       "Country name                              \n",
       "Afghanistan   4.758381  3.594628  2.375092\n",
       "Albania       5.867422  5.019427  4.511101\n",
       "Algeria       6.354898  5.389717  4.744627\n",
       "Angola        5.589001  4.420299  3.794838\n",
       "Argentina     6.775805  6.310166  5.792797\n",
       "...                ...       ...       ...\n",
       "Venezuela     7.478455  6.019735  4.041115\n",
       "Vietnam       5.767344  5.305872  5.022699\n",
       "Yemen         4.809259  3.912124  2.982674\n",
       "Zambia        5.260361  4.551818  3.306797\n",
       "Zimbabwe      4.955101  3.882689  2.693523\n",
       "\n",
       "[166 rows x 3 columns]"
      ]
     },
     "execution_count": 44,
     "metadata": {},
     "output_type": "execute_result"
    }
   ],
   "source": [
    "# Group each row by Country; For each different country name, present max, mean and min of column Life Ladder\n",
    "happinessdataframe.groupby('Country name')['Life Ladder'].aggregate(['max', 'mean', 'min'])"
   ]
  },
  {
   "cell_type": "markdown",
   "metadata": {
    "id": "hOO3MvDghpd-"
   },
   "source": [
    "**Q11: Can you group data by year and, for each year, present the mean and variance for the 'Healthy life expectancy at birth'?**\n",
    "\n",
    "Expected outcome: DataFrame with 16 rows (2005 - 2020) and 2 columns (mean, var)"
   ]
  },
  {
   "cell_type": "code",
   "execution_count": 45,
   "metadata": {
    "id": "Zf8aqtlyhpd-",
    "outputId": "1e763616-881b-409e-ebb8-a0ea3ee72591"
   },
   "outputs": [
    {
     "data": {
      "text/html": [
       "<div>\n",
       "<style scoped>\n",
       "    .dataframe tbody tr th:only-of-type {\n",
       "        vertical-align: middle;\n",
       "    }\n",
       "\n",
       "    .dataframe tbody tr th {\n",
       "        vertical-align: top;\n",
       "    }\n",
       "\n",
       "    .dataframe thead th {\n",
       "        text-align: right;\n",
       "    }\n",
       "</style>\n",
       "<table border=\"1\" class=\"dataframe\">\n",
       "  <thead>\n",
       "    <tr style=\"text-align: right;\">\n",
       "      <th></th>\n",
       "      <th>mean</th>\n",
       "      <th>var</th>\n",
       "    </tr>\n",
       "    <tr>\n",
       "      <th>year</th>\n",
       "      <th></th>\n",
       "      <th></th>\n",
       "    </tr>\n",
       "  </thead>\n",
       "  <tbody>\n",
       "    <tr>\n",
       "      <th>2005</th>\n",
       "      <td>67.007407</td>\n",
       "      <td>20.699944</td>\n",
       "    </tr>\n",
       "    <tr>\n",
       "      <th>2006</th>\n",
       "      <td>60.147500</td>\n",
       "      <td>78.181017</td>\n",
       "    </tr>\n",
       "    <tr>\n",
       "      <th>2007</th>\n",
       "      <td>61.305269</td>\n",
       "      <td>68.739182</td>\n",
       "    </tr>\n",
       "    <tr>\n",
       "      <th>2008</th>\n",
       "      <td>61.249954</td>\n",
       "      <td>72.044729</td>\n",
       "    </tr>\n",
       "    <tr>\n",
       "      <th>2009</th>\n",
       "      <td>62.418929</td>\n",
       "      <td>55.791123</td>\n",
       "    </tr>\n",
       "    <tr>\n",
       "      <th>2010</th>\n",
       "      <td>63.069028</td>\n",
       "      <td>61.979362</td>\n",
       "    </tr>\n",
       "    <tr>\n",
       "      <th>2011</th>\n",
       "      <td>62.212126</td>\n",
       "      <td>63.509604</td>\n",
       "    </tr>\n",
       "    <tr>\n",
       "      <th>2012</th>\n",
       "      <td>63.216991</td>\n",
       "      <td>51.064395</td>\n",
       "    </tr>\n",
       "    <tr>\n",
       "      <th>2013</th>\n",
       "      <td>63.326483</td>\n",
       "      <td>52.162851</td>\n",
       "    </tr>\n",
       "    <tr>\n",
       "      <th>2014</th>\n",
       "      <td>63.295948</td>\n",
       "      <td>51.872672</td>\n",
       "    </tr>\n",
       "    <tr>\n",
       "      <th>2015</th>\n",
       "      <td>63.665073</td>\n",
       "      <td>51.368034</td>\n",
       "    </tr>\n",
       "    <tr>\n",
       "      <th>2016</th>\n",
       "      <td>63.860034</td>\n",
       "      <td>53.269823</td>\n",
       "    </tr>\n",
       "    <tr>\n",
       "      <th>2017</th>\n",
       "      <td>64.090233</td>\n",
       "      <td>50.214747</td>\n",
       "    </tr>\n",
       "    <tr>\n",
       "      <th>2018</th>\n",
       "      <td>64.555377</td>\n",
       "      <td>45.744589</td>\n",
       "    </tr>\n",
       "    <tr>\n",
       "      <th>2019</th>\n",
       "      <td>65.003919</td>\n",
       "      <td>44.225108</td>\n",
       "    </tr>\n",
       "    <tr>\n",
       "      <th>2020</th>\n",
       "      <td>67.099564</td>\n",
       "      <td>34.120020</td>\n",
       "    </tr>\n",
       "  </tbody>\n",
       "</table>\n",
       "</div>"
      ],
      "text/plain": [
       "           mean        var\n",
       "year                      \n",
       "2005  67.007407  20.699944\n",
       "2006  60.147500  78.181017\n",
       "2007  61.305269  68.739182\n",
       "2008  61.249954  72.044729\n",
       "2009  62.418929  55.791123\n",
       "2010  63.069028  61.979362\n",
       "2011  62.212126  63.509604\n",
       "2012  63.216991  51.064395\n",
       "2013  63.326483  52.162851\n",
       "2014  63.295948  51.872672\n",
       "2015  63.665073  51.368034\n",
       "2016  63.860034  53.269823\n",
       "2017  64.090233  50.214747\n",
       "2018  64.555377  45.744589\n",
       "2019  65.003919  44.225108\n",
       "2020  67.099564  34.120020"
      ]
     },
     "execution_count": 45,
     "metadata": {},
     "output_type": "execute_result"
    }
   ],
   "source": [
    "# Solution 11\n",
    "happinessdataframe.groupby('year')['Healthy life expectancy at birth'].aggregate(['mean', 'var'])"
   ]
  },
  {
   "cell_type": "markdown",
   "metadata": {},
   "source": [
    "idxmax() can be applied to a DataFrame to obtain the maximum for each group; in the example below, we select the Index (Country, year) where the maximum 'Healthy life expectancy at birth' is observed"
   ]
  },
  {
   "cell_type": "code",
   "execution_count": 46,
   "metadata": {
    "id": "JxQZhRNhhpd-",
    "outputId": "4b30943a-34a8-4d8a-8f88-4405c8065dd7"
   },
   "outputs": [
    {
     "data": {
      "text/plain": [
       "('Singapore', 2019)"
      ]
     },
     "execution_count": 46,
     "metadata": {},
     "output_type": "execute_result"
    }
   ],
   "source": [
    "happinessdataframe['Healthy life expectancy at birth'][0:-1].idxmax()"
   ]
  },
  {
   "cell_type": "markdown",
   "metadata": {
    "id": "GhaGIN5Ahpd-"
   },
   "source": [
    "**Q12: Which was the happiest country in 2020? (using idmax and 1 line of code)**\n",
    "\n",
    "Tip: [:,2020] can be used to select data for all countries in 2020\n",
    "\n",
    "Expected outcome: 'Finland'"
   ]
  },
  {
   "cell_type": "code",
   "execution_count": 47,
   "metadata": {
    "id": "XzT71ikWhpd-",
    "outputId": "d514b0a0-b67a-461a-f467-e832f9bfeda3"
   },
   "outputs": [
    {
     "data": {
      "text/plain": [
       "'Finland'"
      ]
     },
     "execution_count": 47,
     "metadata": {},
     "output_type": "execute_result"
    }
   ],
   "source": [
    "# Solution Q12\n",
    "happinessdataframe['Life Ladder'][:,2020].idxmax()"
   ]
  },
  {
   "cell_type": "markdown",
   "metadata": {
    "id": "FiJA0fMDhpd_"
   },
   "source": [
    "**Q13: What was the Healthy life expectancy at birth in 2018, by country?** \n",
    "\n",
    "Expected outcome: \n",
    "\n",
    "    Country name\n",
    "    Afghanistan    52.599998\n",
    "    Albania        68.699997\n",
    "    Algeria        65.900002\n",
    "    Argentina      68.800003\n",
    "    Armenia        66.900002\n",
    "                 ...    \n",
    "    Venezuela      66.500000\n",
    "    Vietnam        67.900002\n",
    "    Yemen          56.700001\n",
    "    Zambia         55.299999\n",
    "    Zimbabwe       55.599998\n",
    "    Name: Healthy life expectancy at birth, Length: 142, dtype: float64"
   ]
  },
  {
   "cell_type": "code",
   "execution_count": 48,
   "metadata": {
    "id": "XLj6TLK3hpd_",
    "outputId": "b7994d25-4e49-41b1-ac12-a937bdf48697"
   },
   "outputs": [
    {
     "data": {
      "text/plain": [
       "Country name\n",
       "Afghanistan    52.599998\n",
       "Albania        68.699997\n",
       "Algeria        65.900002\n",
       "Argentina      68.800003\n",
       "Armenia        66.900002\n",
       "                 ...    \n",
       "Venezuela      66.500000\n",
       "Vietnam        67.900002\n",
       "Yemen          56.700001\n",
       "Zambia         55.299999\n",
       "Zimbabwe       55.599998\n",
       "Name: Healthy life expectancy at birth, Length: 142, dtype: float64"
      ]
     },
     "execution_count": 48,
     "metadata": {},
     "output_type": "execute_result"
    }
   ],
   "source": [
    "# Solution Q13\n",
    "happinessdataframe['Healthy life expectancy at birth'][:,2018]"
   ]
  },
  {
   "cell_type": "markdown",
   "metadata": {
    "id": "WmLgDEXYhpd_"
   },
   "source": [
    "**Q14: What was the average GDP of the Netherlands from 2013 to 2019 (inclusive)?**\n",
    "\n",
    "Expected output: 10.88679211480277"
   ]
  },
  {
   "cell_type": "code",
   "execution_count": 49,
   "metadata": {
    "id": "DpgewVn-hpd_",
    "outputId": "9a0a08ce-1b61-4efd-ca00-85ec78cbaad1"
   },
   "outputs": [
    {
     "name": "stdout",
     "output_type": "stream",
     "text": [
      "10.90265941619873\n"
     ]
    },
    {
     "data": {
      "text/html": [
       "<div>\n",
       "<style scoped>\n",
       "    .dataframe tbody tr th:only-of-type {\n",
       "        vertical-align: middle;\n",
       "    }\n",
       "\n",
       "    .dataframe tbody tr th {\n",
       "        vertical-align: top;\n",
       "    }\n",
       "\n",
       "    .dataframe thead th {\n",
       "        text-align: right;\n",
       "    }\n",
       "</style>\n",
       "<table border=\"1\" class=\"dataframe\">\n",
       "  <thead>\n",
       "    <tr style=\"text-align: right;\">\n",
       "      <th></th>\n",
       "      <th>Life Ladder</th>\n",
       "      <th>Log GDP per capita</th>\n",
       "      <th>Social support</th>\n",
       "      <th>Healthy life expectancy at birth</th>\n",
       "      <th>Freedom to make life choices</th>\n",
       "      <th>Generosity</th>\n",
       "      <th>Perceptions of corruption</th>\n",
       "      <th>Positive affect</th>\n",
       "      <th>Negative affect</th>\n",
       "    </tr>\n",
       "    <tr>\n",
       "      <th>year</th>\n",
       "      <th></th>\n",
       "      <th></th>\n",
       "      <th></th>\n",
       "      <th></th>\n",
       "      <th></th>\n",
       "      <th></th>\n",
       "      <th></th>\n",
       "      <th></th>\n",
       "      <th></th>\n",
       "    </tr>\n",
       "  </thead>\n",
       "  <tbody>\n",
       "    <tr>\n",
       "      <th>2005</th>\n",
       "      <td>7.463979</td>\n",
       "      <td>10.813766</td>\n",
       "      <td>0.947358</td>\n",
       "      <td>70.400002</td>\n",
       "      <td>0.901008</td>\n",
       "      <td>NaN</td>\n",
       "      <td>0.571342</td>\n",
       "      <td>0.869353</td>\n",
       "      <td>0.232795</td>\n",
       "    </tr>\n",
       "    <tr>\n",
       "      <th>2007</th>\n",
       "      <td>7.451880</td>\n",
       "      <td>10.881042</td>\n",
       "      <td>0.943854</td>\n",
       "      <td>70.800003</td>\n",
       "      <td>0.896018</td>\n",
       "      <td>0.344347</td>\n",
       "      <td>0.445437</td>\n",
       "      <td>0.817750</td>\n",
       "      <td>0.213336</td>\n",
       "    </tr>\n",
       "    <tr>\n",
       "      <th>2008</th>\n",
       "      <td>7.631012</td>\n",
       "      <td>10.898621</td>\n",
       "      <td>0.944202</td>\n",
       "      <td>71.000000</td>\n",
       "      <td>0.883287</td>\n",
       "      <td>0.365200</td>\n",
       "      <td>0.418940</td>\n",
       "      <td>0.788195</td>\n",
       "      <td>0.181690</td>\n",
       "    </tr>\n",
       "    <tr>\n",
       "      <th>2010</th>\n",
       "      <td>7.501876</td>\n",
       "      <td>10.864328</td>\n",
       "      <td>0.956537</td>\n",
       "      <td>71.400002</td>\n",
       "      <td>0.921448</td>\n",
       "      <td>0.349346</td>\n",
       "      <td>0.398592</td>\n",
       "      <td>0.853234</td>\n",
       "      <td>0.206079</td>\n",
       "    </tr>\n",
       "    <tr>\n",
       "      <th>2011</th>\n",
       "      <td>7.563798</td>\n",
       "      <td>10.875057</td>\n",
       "      <td>0.938396</td>\n",
       "      <td>71.519997</td>\n",
       "      <td>0.925432</td>\n",
       "      <td>0.335668</td>\n",
       "      <td>0.359396</td>\n",
       "      <td>0.862723</td>\n",
       "      <td>0.181386</td>\n",
       "    </tr>\n",
       "    <tr>\n",
       "      <th>2012</th>\n",
       "      <td>7.470716</td>\n",
       "      <td>10.861000</td>\n",
       "      <td>0.938885</td>\n",
       "      <td>71.639999</td>\n",
       "      <td>0.877119</td>\n",
       "      <td>0.288119</td>\n",
       "      <td>0.433754</td>\n",
       "      <td>0.860641</td>\n",
       "      <td>0.226290</td>\n",
       "    </tr>\n",
       "    <tr>\n",
       "      <th>2013</th>\n",
       "      <td>7.406550</td>\n",
       "      <td>10.856749</td>\n",
       "      <td>0.924705</td>\n",
       "      <td>71.760002</td>\n",
       "      <td>0.918996</td>\n",
       "      <td>0.304530</td>\n",
       "      <td>0.504530</td>\n",
       "      <td>0.866824</td>\n",
       "      <td>0.235443</td>\n",
       "    </tr>\n",
       "    <tr>\n",
       "      <th>2014</th>\n",
       "      <td>7.321188</td>\n",
       "      <td>10.867284</td>\n",
       "      <td>0.908996</td>\n",
       "      <td>71.879997</td>\n",
       "      <td>0.910180</td>\n",
       "      <td>0.331311</td>\n",
       "      <td>0.456948</td>\n",
       "      <td>0.867766</td>\n",
       "      <td>0.220657</td>\n",
       "    </tr>\n",
       "    <tr>\n",
       "      <th>2015</th>\n",
       "      <td>7.324437</td>\n",
       "      <td>10.882255</td>\n",
       "      <td>0.879010</td>\n",
       "      <td>72.000000</td>\n",
       "      <td>0.903979</td>\n",
       "      <td>0.261447</td>\n",
       "      <td>0.411822</td>\n",
       "      <td>0.834134</td>\n",
       "      <td>0.202129</td>\n",
       "    </tr>\n",
       "    <tr>\n",
       "      <th>2016</th>\n",
       "      <td>7.540877</td>\n",
       "      <td>10.898613</td>\n",
       "      <td>0.925944</td>\n",
       "      <td>72.099998</td>\n",
       "      <td>0.907310</td>\n",
       "      <td>0.238664</td>\n",
       "      <td>0.433304</td>\n",
       "      <td>0.838432</td>\n",
       "      <td>0.214851</td>\n",
       "    </tr>\n",
       "    <tr>\n",
       "      <th>2017</th>\n",
       "      <td>7.458965</td>\n",
       "      <td>10.921394</td>\n",
       "      <td>0.936501</td>\n",
       "      <td>72.199997</td>\n",
       "      <td>0.920320</td>\n",
       "      <td>0.250440</td>\n",
       "      <td>0.363134</td>\n",
       "      <td>0.852185</td>\n",
       "      <td>0.184520</td>\n",
       "    </tr>\n",
       "    <tr>\n",
       "      <th>2018</th>\n",
       "      <td>7.463097</td>\n",
       "      <td>10.941197</td>\n",
       "      <td>0.939443</td>\n",
       "      <td>72.300003</td>\n",
       "      <td>0.919985</td>\n",
       "      <td>0.161489</td>\n",
       "      <td>0.370558</td>\n",
       "      <td>0.861977</td>\n",
       "      <td>0.204794</td>\n",
       "    </tr>\n",
       "    <tr>\n",
       "      <th>2019</th>\n",
       "      <td>7.425269</td>\n",
       "      <td>10.953283</td>\n",
       "      <td>0.941477</td>\n",
       "      <td>72.400002</td>\n",
       "      <td>0.885593</td>\n",
       "      <td>0.212534</td>\n",
       "      <td>0.360068</td>\n",
       "      <td>0.838301</td>\n",
       "      <td>0.230502</td>\n",
       "    </tr>\n",
       "    <tr>\n",
       "      <th>2020</th>\n",
       "      <td>7.504448</td>\n",
       "      <td>10.900500</td>\n",
       "      <td>0.943956</td>\n",
       "      <td>72.500000</td>\n",
       "      <td>0.934523</td>\n",
       "      <td>0.151298</td>\n",
       "      <td>0.280605</td>\n",
       "      <td>0.783991</td>\n",
       "      <td>0.246511</td>\n",
       "    </tr>\n",
       "  </tbody>\n",
       "</table>\n",
       "</div>"
      ],
      "text/plain": [
       "      Life Ladder  Log GDP per capita  Social support  \\\n",
       "year                                                    \n",
       "2005     7.463979           10.813766        0.947358   \n",
       "2007     7.451880           10.881042        0.943854   \n",
       "2008     7.631012           10.898621        0.944202   \n",
       "2010     7.501876           10.864328        0.956537   \n",
       "2011     7.563798           10.875057        0.938396   \n",
       "2012     7.470716           10.861000        0.938885   \n",
       "2013     7.406550           10.856749        0.924705   \n",
       "2014     7.321188           10.867284        0.908996   \n",
       "2015     7.324437           10.882255        0.879010   \n",
       "2016     7.540877           10.898613        0.925944   \n",
       "2017     7.458965           10.921394        0.936501   \n",
       "2018     7.463097           10.941197        0.939443   \n",
       "2019     7.425269           10.953283        0.941477   \n",
       "2020     7.504448           10.900500        0.943956   \n",
       "\n",
       "      Healthy life expectancy at birth  Freedom to make life choices  \\\n",
       "year                                                                   \n",
       "2005                         70.400002                      0.901008   \n",
       "2007                         70.800003                      0.896018   \n",
       "2008                         71.000000                      0.883287   \n",
       "2010                         71.400002                      0.921448   \n",
       "2011                         71.519997                      0.925432   \n",
       "2012                         71.639999                      0.877119   \n",
       "2013                         71.760002                      0.918996   \n",
       "2014                         71.879997                      0.910180   \n",
       "2015                         72.000000                      0.903979   \n",
       "2016                         72.099998                      0.907310   \n",
       "2017                         72.199997                      0.920320   \n",
       "2018                         72.300003                      0.919985   \n",
       "2019                         72.400002                      0.885593   \n",
       "2020                         72.500000                      0.934523   \n",
       "\n",
       "      Generosity  Perceptions of corruption  Positive affect  Negative affect  \n",
       "year                                                                           \n",
       "2005         NaN                   0.571342         0.869353         0.232795  \n",
       "2007    0.344347                   0.445437         0.817750         0.213336  \n",
       "2008    0.365200                   0.418940         0.788195         0.181690  \n",
       "2010    0.349346                   0.398592         0.853234         0.206079  \n",
       "2011    0.335668                   0.359396         0.862723         0.181386  \n",
       "2012    0.288119                   0.433754         0.860641         0.226290  \n",
       "2013    0.304530                   0.504530         0.866824         0.235443  \n",
       "2014    0.331311                   0.456948         0.867766         0.220657  \n",
       "2015    0.261447                   0.411822         0.834134         0.202129  \n",
       "2016    0.238664                   0.433304         0.838432         0.214851  \n",
       "2017    0.250440                   0.363134         0.852185         0.184520  \n",
       "2018    0.161489                   0.370558         0.861977         0.204794  \n",
       "2019    0.212534                   0.360068         0.838301         0.230502  \n",
       "2020    0.151298                   0.280605         0.783991         0.246511  "
      ]
     },
     "execution_count": 49,
     "metadata": {},
     "output_type": "execute_result"
    }
   ],
   "source": [
    "# Solution Q14\n",
    "print(happinessdataframe['Log GDP per capita']['Netherlands'].loc[2013:2020].mean())\n",
    "happinessdataframe.loc[(\"Netherlands\", 2013):(\"Netherlands\", 2020), 'Log GDP per capita'].mean()\n",
    "happinessdataframe.loc[(\"Netherlands\", 2013):(\"Netherlands\", 2020), :]\n",
    "\n",
    "happinessdataframe.loc['Netherlands']"
   ]
  },
  {
   "cell_type": "markdown",
   "metadata": {
    "id": "4_bjVCIOhpeA"
   },
   "source": [
    "<h2><center> Matplotlib </center></h2>\n",
    "\n",
    "Matplotlib is the package for visualization in Python. We will now use the previous dataset and produce some visualizations. Just as we use the <code>np</code> shorthand for NumPy and the <code>pd</code> shorthand for Pandas, we will use mpl and <code>plt</code> as standard shorthands for Matplotlib imports.\n",
    "\n",
    "A potentially confusing feature of Matplotlib is its dual interfaces: a MATLAB-style state-based interface, and a more powerful object-oriented interface.\n",
    "\n",
    "In our Labs we will mainly use the object-oriented interface as it provides greater flexibility. In practice, we will always call methods over an object Axes.\n",
    "\n",
    "We will first see some plot types and then plot quantities of interest related with the Happiness Report 2021 dataset."
   ]
  },
  {
   "cell_type": "code",
   "execution_count": 50,
   "metadata": {
    "id": "CHwQjxkphpeA",
    "outputId": "4a90f3f2-fefc-4dab-da1d-28e6ca58dd87"
   },
   "outputs": [
    {
     "data": {
      "image/png": "[encoded data removed]",
      "text/plain": [
       "<Figure size 432x288 with 2 Axes>"
      ]
     },
     "metadata": {
      "needs_background": "light"
     },
     "output_type": "display_data"
    }
   ],
   "source": [
    "import matplotlib.pyplot as plt\n",
    "\n",
    "# First create a grid of plots\n",
    "# ax will be an array of two Axes objects\n",
    "fig, ax = plt.subplots(2)\n",
    "\n",
    "x = np.arange(0,10,0.1)\n",
    "\n",
    "# Call plot() method on the appropriate object\n",
    "ax[0].plot(x, np.sin(x))\n",
    "ax[1].plot(x, np.cos(x));"
   ]
  },
  {
   "cell_type": "code",
   "execution_count": 51,
   "metadata": {
    "id": "g0jzCwkuhpeA",
    "outputId": "62f4e782-014f-4184-ce56-4152659ddd49"
   },
   "outputs": [
    {
     "data": {
      "image/png": "[encoded data removed]",
      "text/plain": [
       "<Figure size 432x288 with 1 Axes>"
      ]
     },
     "metadata": {
      "needs_background": "light"
     },
     "output_type": "display_data"
    }
   ],
   "source": [
    "fig, ax = plt.subplots()\n",
    "\n",
    "x = np.linspace(0, 10, 30)\n",
    "y = np.sin(x)\n",
    "\n",
    "ax.plot(x, y, 'o', color='black');"
   ]
  },
  {
   "cell_type": "code",
   "execution_count": 52,
   "metadata": {
    "id": "7_uq9MyrhpeB",
    "outputId": "003c6543-ce3a-4802-a9c2-79a7e43122e8"
   },
   "outputs": [
    {
     "data": {
      "image/png": "[encoded data removed]",
      "text/plain": [
       "<Figure size 432x288 with 1 Axes>"
      ]
     },
     "metadata": {
      "needs_background": "light"
     },
     "output_type": "display_data"
    }
   ],
   "source": [
    "fig, ax = plt.subplots()\n",
    "\n",
    "x = np.linspace(0, 10, 50)\n",
    "dy = 0.8\n",
    "y = np.sin(x) + dy * np.random.randn(50)\n",
    "\n",
    "ax.errorbar(x, y, yerr=dy, fmt='o', color='black',\n",
    "             ecolor='lightgray', elinewidth=3, capsize=0)\n",
    "\n",
    "plt.show()"
   ]
  },
  {
   "cell_type": "code",
   "execution_count": 53,
   "metadata": {
    "id": "TQ1eXVwjhpeB",
    "outputId": "1b47df64-173e-45f7-f3d9-1ad11b49db06"
   },
   "outputs": [
    {
     "data": {
      "image/png": "[encoded data removed]",
      "text/plain": [
       "<Figure size 432x288 with 1 Axes>"
      ]
     },
     "metadata": {
      "needs_background": "light"
     },
     "output_type": "display_data"
    }
   ],
   "source": [
    "ax = plt.subplot()\n",
    "\n",
    "data = np.random.randn(1000)\n",
    "\n",
    "ax.hist(data)\n",
    "\n",
    "plt.show()"
   ]
  },
  {
   "cell_type": "code",
   "execution_count": 54,
   "metadata": {
    "id": "PeeJ9LOShpeB",
    "outputId": "30b11e4b-239f-4cd2-89e5-a4f2ed7c5408"
   },
   "outputs": [
    {
     "data": {
      "image/png": "[encoded data removed]",
      "text/plain": [
       "<Figure size 432x288 with 1 Axes>"
      ]
     },
     "metadata": {
      "needs_background": "light"
     },
     "output_type": "display_data"
    }
   ],
   "source": [
    "ax = plt.subplot()\n",
    "\n",
    "mean = [0, 0]\n",
    "cov = [[1, 1], [1, 2]]\n",
    "x, y = np.random.multivariate_normal(mean, cov, 10000).T\n",
    "\n",
    "plot2d = ax.hist2d(x, y, bins=30, cmap='Blues')\n",
    "\n",
    "plt.show()"
   ]
  },
  {
   "cell_type": "markdown",
   "metadata": {
    "id": "o5AcidpqhpeB"
   },
   "source": [
    "<h2><center> Working with a real dataset </center></h2>"
   ]
  },
  {
   "cell_type": "markdown",
   "metadata": {},
   "source": [
    "How did the world mean GDP evolved from 2006 to 2020? You will see one answer to this question using matplotlib explicitely, and another using the interface to plot provided by Pandas:"
   ]
  },
  {
   "cell_type": "code",
   "execution_count": 55,
   "metadata": {
    "id": "B0OH4CUGhpeB",
    "outputId": "eda09652-ab3f-4d57-8a08-5869a5c12a07"
   },
   "outputs": [
    {
     "data": {
      "image/png": "[encoded data removed]",
      "text/plain": [
       "<Figure size 432x288 with 1 Axes>"
      ]
     },
     "metadata": {
      "needs_background": "light"
     },
     "output_type": "display_data"
    }
   ],
   "source": [
    "# using matplotlib explicitly\n",
    "x = happinessdataframe.groupby('year').mean()['Log GDP per capita']\n",
    "fig, ax = plt.subplots()\n",
    "ax.plot(x)\n",
    "plt.show()"
   ]
  },
  {
   "cell_type": "code",
   "execution_count": 56,
   "metadata": {
    "id": "N6x11eSQhpeC",
    "outputId": "6c257b14-b498-4d1f-eabd-fece28e7b070"
   },
   "outputs": [
    {
     "data": {
      "image/png": "[encoded data removed]",
      "text/plain": [
       "<Figure size 432x288 with 1 Axes>"
      ]
     },
     "metadata": {
      "needs_background": "light"
     },
     "output_type": "display_data"
    }
   ],
   "source": [
    "# using .plot() applied to DataFrame\n",
    "# this is a shortcut for the code in the previous cell\n",
    "x = happinessdataframe.groupby('year').mean()['Log GDP per capita']\n",
    "x.plot()\n",
    "plt.show()"
   ]
  },
  {
   "cell_type": "markdown",
   "metadata": {},
   "source": [
    "How do countries distribute in terms of GDP and corruptioon, in 2020?"
   ]
  },
  {
   "cell_type": "code",
   "execution_count": 80,
   "metadata": {
    "id": "jXPXObvjhpeC",
    "outputId": "729197e8-4f57-4488-eb53-3ed529c5d1fc"
   },
   "outputs": [
    {
     "data": {
      "image/png": "[encoded data removed]",
      "text/plain": [
       "<Figure size 432x288 with 1 Axes>"
      ]
     },
     "metadata": {
      "needs_background": "light"
     },
     "output_type": "display_data"
    },
    {
     "data": {
      "text/html": [
       "<div>\n",
       "<style scoped>\n",
       "    .dataframe tbody tr th:only-of-type {\n",
       "        vertical-align: middle;\n",
       "    }\n",
       "\n",
       "    .dataframe tbody tr th {\n",
       "        vertical-align: top;\n",
       "    }\n",
       "\n",
       "    .dataframe thead th {\n",
       "        text-align: right;\n",
       "    }\n",
       "</style>\n",
       "<table border=\"1\" class=\"dataframe\">\n",
       "  <thead>\n",
       "    <tr style=\"text-align: right;\">\n",
       "      <th></th>\n",
       "      <th>Life Ladder</th>\n",
       "      <th>Log GDP per capita</th>\n",
       "      <th>Social support</th>\n",
       "      <th>Healthy life expectancy at birth</th>\n",
       "      <th>Freedom to make life choices</th>\n",
       "      <th>Generosity</th>\n",
       "      <th>Perceptions of corruption</th>\n",
       "      <th>Positive affect</th>\n",
       "      <th>Negative affect</th>\n",
       "    </tr>\n",
       "    <tr>\n",
       "      <th>Country name</th>\n",
       "      <th></th>\n",
       "      <th></th>\n",
       "      <th></th>\n",
       "      <th></th>\n",
       "      <th></th>\n",
       "      <th></th>\n",
       "      <th></th>\n",
       "      <th></th>\n",
       "      <th></th>\n",
       "    </tr>\n",
       "  </thead>\n",
       "  <tbody>\n",
       "    <tr>\n",
       "      <th>Afghanistan</th>\n",
       "      <td>2.694303</td>\n",
       "      <td>7.691767</td>\n",
       "      <td>0.507516</td>\n",
       "      <td>52.599998</td>\n",
       "      <td>0.373536</td>\n",
       "      <td>-0.093828</td>\n",
       "      <td>0.927606</td>\n",
       "      <td>0.424125</td>\n",
       "      <td>0.404904</td>\n",
       "    </tr>\n",
       "    <tr>\n",
       "      <th>Albania</th>\n",
       "      <td>5.004403</td>\n",
       "      <td>9.517920</td>\n",
       "      <td>0.683592</td>\n",
       "      <td>68.699997</td>\n",
       "      <td>0.824212</td>\n",
       "      <td>0.008912</td>\n",
       "      <td>0.899129</td>\n",
       "      <td>0.713300</td>\n",
       "      <td>0.318997</td>\n",
       "    </tr>\n",
       "    <tr>\n",
       "      <th>Algeria</th>\n",
       "      <td>5.043086</td>\n",
       "      <td>9.348318</td>\n",
       "      <td>0.798651</td>\n",
       "      <td>65.900002</td>\n",
       "      <td>0.583381</td>\n",
       "      <td>-0.145943</td>\n",
       "      <td>0.758704</td>\n",
       "      <td>0.591043</td>\n",
       "      <td>0.292946</td>\n",
       "    </tr>\n",
       "    <tr>\n",
       "      <th>Argentina</th>\n",
       "      <td>5.792797</td>\n",
       "      <td>10.032141</td>\n",
       "      <td>0.899912</td>\n",
       "      <td>68.800003</td>\n",
       "      <td>0.845895</td>\n",
       "      <td>-0.210507</td>\n",
       "      <td>0.855255</td>\n",
       "      <td>0.820310</td>\n",
       "      <td>0.320502</td>\n",
       "    </tr>\n",
       "    <tr>\n",
       "      <th>Armenia</th>\n",
       "      <td>5.062449</td>\n",
       "      <td>9.450535</td>\n",
       "      <td>0.814449</td>\n",
       "      <td>66.900002</td>\n",
       "      <td>0.807644</td>\n",
       "      <td>-0.162588</td>\n",
       "      <td>0.676826</td>\n",
       "      <td>0.581488</td>\n",
       "      <td>0.454840</td>\n",
       "    </tr>\n",
       "    <tr>\n",
       "      <th>...</th>\n",
       "      <td>...</td>\n",
       "      <td>...</td>\n",
       "      <td>...</td>\n",
       "      <td>...</td>\n",
       "      <td>...</td>\n",
       "      <td>...</td>\n",
       "      <td>...</td>\n",
       "      <td>...</td>\n",
       "      <td>...</td>\n",
       "    </tr>\n",
       "    <tr>\n",
       "      <th>Venezuela</th>\n",
       "      <td>5.005663</td>\n",
       "      <td>NaN</td>\n",
       "      <td>0.886882</td>\n",
       "      <td>66.500000</td>\n",
       "      <td>0.610855</td>\n",
       "      <td>NaN</td>\n",
       "      <td>0.827560</td>\n",
       "      <td>0.759221</td>\n",
       "      <td>0.373658</td>\n",
       "    </tr>\n",
       "    <tr>\n",
       "      <th>Vietnam</th>\n",
       "      <td>5.295547</td>\n",
       "      <td>8.934111</td>\n",
       "      <td>0.831945</td>\n",
       "      <td>67.900002</td>\n",
       "      <td>0.909260</td>\n",
       "      <td>-0.040764</td>\n",
       "      <td>0.808423</td>\n",
       "      <td>0.692222</td>\n",
       "      <td>0.191061</td>\n",
       "    </tr>\n",
       "    <tr>\n",
       "      <th>Yemen</th>\n",
       "      <td>3.057514</td>\n",
       "      <td>NaN</td>\n",
       "      <td>0.789422</td>\n",
       "      <td>56.700001</td>\n",
       "      <td>0.552726</td>\n",
       "      <td>NaN</td>\n",
       "      <td>0.792587</td>\n",
       "      <td>0.461114</td>\n",
       "      <td>0.314870</td>\n",
       "    </tr>\n",
       "    <tr>\n",
       "      <th>Zambia</th>\n",
       "      <td>4.041488</td>\n",
       "      <td>8.166652</td>\n",
       "      <td>0.717720</td>\n",
       "      <td>55.299999</td>\n",
       "      <td>0.790626</td>\n",
       "      <td>0.048121</td>\n",
       "      <td>0.810731</td>\n",
       "      <td>0.702698</td>\n",
       "      <td>0.350963</td>\n",
       "    </tr>\n",
       "    <tr>\n",
       "      <th>Zimbabwe</th>\n",
       "      <td>3.616480</td>\n",
       "      <td>8.048798</td>\n",
       "      <td>0.775388</td>\n",
       "      <td>55.599998</td>\n",
       "      <td>0.762675</td>\n",
       "      <td>-0.068427</td>\n",
       "      <td>0.844209</td>\n",
       "      <td>0.710119</td>\n",
       "      <td>0.211726</td>\n",
       "    </tr>\n",
       "  </tbody>\n",
       "</table>\n",
       "<p>142 rows × 9 columns</p>\n",
       "</div>"
      ],
      "text/plain": [
       "              Life Ladder  Log GDP per capita  Social support  \\\n",
       "Country name                                                    \n",
       "Afghanistan      2.694303            7.691767        0.507516   \n",
       "Albania          5.004403            9.517920        0.683592   \n",
       "Algeria          5.043086            9.348318        0.798651   \n",
       "Argentina        5.792797           10.032141        0.899912   \n",
       "Armenia          5.062449            9.450535        0.814449   \n",
       "...                   ...                 ...             ...   \n",
       "Venezuela        5.005663                 NaN        0.886882   \n",
       "Vietnam          5.295547            8.934111        0.831945   \n",
       "Yemen            3.057514                 NaN        0.789422   \n",
       "Zambia           4.041488            8.166652        0.717720   \n",
       "Zimbabwe         3.616480            8.048798        0.775388   \n",
       "\n",
       "              Healthy life expectancy at birth  Freedom to make life choices  \\\n",
       "Country name                                                                   \n",
       "Afghanistan                          52.599998                      0.373536   \n",
       "Albania                              68.699997                      0.824212   \n",
       "Algeria                              65.900002                      0.583381   \n",
       "Argentina                            68.800003                      0.845895   \n",
       "Armenia                              66.900002                      0.807644   \n",
       "...                                        ...                           ...   \n",
       "Venezuela                            66.500000                      0.610855   \n",
       "Vietnam                              67.900002                      0.909260   \n",
       "Yemen                                56.700001                      0.552726   \n",
       "Zambia                               55.299999                      0.790626   \n",
       "Zimbabwe                             55.599998                      0.762675   \n",
       "\n",
       "              Generosity  Perceptions of corruption  Positive affect  \\\n",
       "Country name                                                           \n",
       "Afghanistan    -0.093828                   0.927606         0.424125   \n",
       "Albania         0.008912                   0.899129         0.713300   \n",
       "Algeria        -0.145943                   0.758704         0.591043   \n",
       "Argentina      -0.210507                   0.855255         0.820310   \n",
       "Armenia        -0.162588                   0.676826         0.581488   \n",
       "...                  ...                        ...              ...   \n",
       "Venezuela            NaN                   0.827560         0.759221   \n",
       "Vietnam        -0.040764                   0.808423         0.692222   \n",
       "Yemen                NaN                   0.792587         0.461114   \n",
       "Zambia          0.048121                   0.810731         0.702698   \n",
       "Zimbabwe       -0.068427                   0.844209         0.710119   \n",
       "\n",
       "              Negative affect  \n",
       "Country name                   \n",
       "Afghanistan          0.404904  \n",
       "Albania              0.318997  \n",
       "Algeria              0.292946  \n",
       "Argentina            0.320502  \n",
       "Armenia              0.454840  \n",
       "...                       ...  \n",
       "Venezuela            0.373658  \n",
       "Vietnam              0.191061  \n",
       "Yemen                0.314870  \n",
       "Zambia               0.350963  \n",
       "Zimbabwe             0.211726  \n",
       "\n",
       "[142 rows x 9 columns]"
      ]
     },
     "execution_count": 80,
     "metadata": {},
     "output_type": "execute_result"
    }
   ],
   "source": [
    "x = happinessdataframe.loc(axis=0)[:,2018][[\"Log GDP per capita\",\"Perceptions of corruption\"]]\n",
    "\n",
    "x = happinessdataframe.loc(axis=0)[:,2018][[\"Log GDP per capita\",\"Perceptions of corruption\"]]\n",
    "\n",
    "x.plot.scatter(x=\"Log GDP per capita\", y=\"Perceptions of corruption\",c='black')\n",
    "plt.show()\n",
    "\n",
    "happinessdataframe.loc[:,2018,:]"
   ]
  },
  {
   "cell_type": "markdown",
   "metadata": {},
   "source": [
    "What was the mean happiness over the years? How much does it vary across countries, per year?"
   ]
  },
  {
   "cell_type": "code",
   "execution_count": 58,
   "metadata": {
    "id": "TLWk9HmNhpeC",
    "outputId": "8af2b53d-94ee-4a98-ecc0-6e5aed4b067b"
   },
   "outputs": [
    {
     "data": {
      "image/png": "[encoded data removed]",
      "text/plain": [
       "<Figure size 432x288 with 1 Axes>"
      ]
     },
     "metadata": {
      "needs_background": "light"
     },
     "output_type": "display_data"
    }
   ],
   "source": [
    "x = happinessdataframe.groupby('year').aggregate(np.mean)[\"Life Ladder\"]\n",
    "dy = happinessdataframe.groupby('year').aggregate(np.std)[\"Life Ladder\"]\n",
    "\n",
    "fig, ax = plt.subplots()\n",
    "\n",
    "ax.errorbar(x.index, x.values, yerr=dy, fmt='o', color='black',\n",
    "             ecolor='lightgray', elinewidth=3, capsize=0)\n",
    "\n",
    "plt.show()"
   ]
  },
  {
   "cell_type": "markdown",
   "metadata": {},
   "source": [
    "How do countries distributed in terms of Life expectancy in 2014?"
   ]
  },
  {
   "cell_type": "code",
   "execution_count": 59,
   "metadata": {
    "id": "8gTyv_hkhpeC",
    "outputId": "d5393bc8-bd6b-4e1a-935b-3b7e93475ee1"
   },
   "outputs": [
    {
     "data": {
      "image/png": "[encoded data removed]",
      "text/plain": [
       "<Figure size 432x288 with 1 Axes>"
      ]
     },
     "metadata": {
      "needs_background": "light"
     },
     "output_type": "display_data"
    }
   ],
   "source": [
    "ax = plt.subplot()\n",
    "\n",
    "data = happinessdataframe.loc(axis=0)[:,2014][\"Healthy life expectancy at birth\"]\n",
    "\n",
    "ax.hist(data)\n",
    "\n",
    "plt.show()"
   ]
  },
  {
   "cell_type": "markdown",
   "metadata": {
    "id": "lT8YjYcehpeD"
   },
   "source": [
    "**Q15: What was the relationship between GDP and Healthy life expectancy at birth in 2014? — produce a Scatter plot to visualize this relationship**"
   ]
  },
  {
   "cell_type": "code",
   "execution_count": 60,
   "metadata": {
    "id": "4xt_w9y2hpeD",
    "outputId": "a41d00b4-1483-43a0-e5db-f19b35fb07e7"
   },
   "outputs": [
    {
     "data": {
      "image/png": "[encoded data removed]",
      "text/plain": [
       "<Figure size 432x288 with 1 Axes>"
      ]
     },
     "metadata": {
      "needs_background": "light"
     },
     "output_type": "display_data"
    }
   ],
   "source": [
    "# Solution Q15\n",
    "\n",
    "x = happinessdataframe.loc(axis=0)[:,2018][[\"Log GDP per capita\",\"Healthy life expectancy at birth\"]]\n",
    "x.plot.scatter(x=\"Log GDP per capita\", y=\"Healthy life expectancy at birth\",c='black')\n",
    "plt.show()"
   ]
  },
  {
   "cell_type": "markdown",
   "metadata": {
    "id": "5TPcE9pGhpeD"
   },
   "source": [
    "**Q16: How does the distribution of life expectancy in the top 50% happiest countries compare with the bottom 50%, considering all years?**\n",
    "\n",
    "Suggestion: show this relationship in a plot with two histograms, one for the top 50% happiest countries and another for the bottom 50%.\n",
    "\n",
    "Tips: \n",
    "- Check Figure 4-37, and respective code, of the book Python Data Science Handbook\n",
    "- Each histogram corresponds to the countries with Life Ladder highest than the median : <code>happinessdataframe[\"Life Ladder\"].median()</code>"
   ]
  },
  {
   "cell_type": "code",
   "execution_count": 61,
   "metadata": {
    "id": "7GKGNqPOhpeD",
    "outputId": "5b27efe8-e25d-4a88-f127-46a8e99bf17d"
   },
   "outputs": [
    {
     "data": {
      "image/png": "[encoded data removed]",
      "text/plain": [
       "<Figure size 432x288 with 1 Axes>"
      ]
     },
     "metadata": {
      "needs_background": "light"
     },
     "output_type": "display_data"
    }
   ],
   "source": [
    "# Solution Q16\n",
    "happy = happinessdataframe[\"Healthy life expectancy at birth\"][happinessdataframe[\"Life Ladder\"] > happinessdataframe[\"Life Ladder\"].median()]\n",
    "sad = happinessdataframe[\"Healthy life expectancy at birth\"][happinessdataframe[\"Life Ladder\"] <= happinessdataframe[\"Life Ladder\"].median()]\n",
    "\n",
    "x1 = happy.values\n",
    "x2 = sad.values\n",
    "\n",
    "kwargs = dict(histtype='stepfilled', alpha=0.3, bins=40)\n",
    "\n",
    "plt.hist(x1, **kwargs)\n",
    "plt.hist(x2, **kwargs)\n",
    "\n",
    "plt.show()"
   ]
  },
  {
   "cell_type": "code",
   "execution_count": 87,
   "metadata": {},
   "outputs": [
    {
     "data": {
      "image/png": "[encoded data removed]",
      "text/plain": [
       "<Figure size 432x288 with 1 Axes>"
      ]
     },
     "metadata": {
      "needs_background": "light"
     },
     "output_type": "display_data"
    }
   ],
   "source": [
    "# Alternative Solution Q16\n",
    "\n",
    "happy = happinessdataframe[\"Healthy life expectancy at birth\"].groupby(\"Country name\").mean().nlargest(83)\n",
    "sad = happinessdataframe[\"Healthy life expectancy at birth\"].groupby(\"Country name\").mean().nsmallest(83)\n",
    "\n",
    "x1 = happy.values\n",
    "x2 = sad.values\n",
    "\n",
    "kwargs = dict(histtype='stepfilled', alpha=0.3, bins=40)\n",
    "\n",
    "plt.hist(x1, **kwargs)\n",
    "plt.hist(x2, **kwargs)\n",
    "\n",
    "plt.show()"
   ]
  },
  {
   "cell_type": "code",
   "execution_count": null,
   "metadata": {},
   "outputs": [],
   "source": []
  }
 ],
 "metadata": {
  "colab": {
   "name": "Lab2.ipynb",
   "provenance": []
  },
  "kernelspec": {
   "display_name": "Python 3",
   "language": "python",
   "name": "python3"
  },
  "language_info": {
   "codemirror_mode": {
    "name": "ipython",
    "version": 3
   },
   "file_extension": ".py",
   "mimetype": "text/x-python",
   "name": "python",
   "nbconvert_exporter": "python",
   "pygments_lexer": "ipython3",
   "version": "3.8.8"
  }
 },
 "nbformat": 4,
 "nbformat_minor": 1
}
